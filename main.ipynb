{
 "cells": [
  {
   "cell_type": "markdown",
   "metadata": {},
   "source": [
    "# About this notebook\n",
    "\n",
    "In this notebook the ordinary kriging algorithm is used to predict the amount of lead in the soil of the riverbank Meuse in the Netherlands. This is one of the textbook examples in Spatial statistics. The performance of making predictions with kriging is benchmarked with a simple nearest neighbours model. Finally a map is made by predicting a grid. The map is plot as a heatmap on top on an interactive map.\n",
    "\n",
    "Modified from https://raw.githubusercontent.com/GeoStat-Framework/PyKrige/master/examples/kriging_meuse.ipynb"
   ]
  },
  {
   "cell_type": "code",
   "execution_count": 1,
   "metadata": {
    "ExecuteTime": {
     "end_time": "2020-03-01T06:22:54.054408Z",
     "start_time": "2020-03-01T06:22:51.896022Z"
    }
   },
   "outputs": [
    {
     "data": {
      "text/html": [
       "<style>.container { width:100% !important; }</style>"
      ],
      "text/plain": [
       "<IPython.core.display.HTML object>"
      ]
     },
     "execution_count": 1,
     "metadata": {},
     "output_type": "execute_result"
    }
   ],
   "source": [
    "# This example requires some extra packages compared to the PyKrige package. \n",
    "# At the time of the creation, I used the conda package manager\n",
    "# and installed the following (with the versions at the time):\n",
    "# pandas 0.18.1, geopandas 0.2.1, seaborn 0.7.1, folium 0.2.1, shapely 1.5.16\n",
    "# If you use pip, \"pip install geopandas folium seaborn\" should work to.\n",
    "import os\n",
    "import requests\n",
    "import zipfile\n",
    "import geopandas as gpd\n",
    "import shapely\n",
    "import pandas as pd\n",
    "import matplotlib.pyplot as plt\n",
    "import matplotlib\n",
    "import numpy as np\n",
    "import folium\n",
    "from folium import plugins\n",
    "%matplotlib inline\n",
    "from pykrige.ok import OrdinaryKriging\n",
    "from sklearn.neighbors import KNeighborsRegressor\n",
    "from sklearn.model_selection import GridSearchCV\n",
    "import pykrige.kriging_tools as kt\n",
    "import seaborn as sb\n",
    "from IPython.core.display import HTML\n",
    "HTML(\"<style>.container { width:100% !important; }</style>\")"
   ]
  },
  {
   "cell_type": "markdown",
   "metadata": {},
   "source": [
    "## Download and import the shapefile\n",
    "\n",
    "- Download the zipfile from http://spatial-analyst.net/book/meusegrids\n",
    "- Extract the zipfile\n",
    "- Delete the zipfile"
   ]
  },
  {
   "cell_type": "code",
   "execution_count": 2,
   "metadata": {
    "ExecuteTime": {
     "end_time": "2020-03-01T06:23:19.787149Z",
     "start_time": "2020-03-01T06:22:54.077224Z"
    }
   },
   "outputs": [
    {
     "name": "stdout",
     "output_type": "stream",
     "text": [
      "Status code download: 200\n"
     ]
    }
   ],
   "source": [
    "if(~os.path.isfile('./data/meuse.zip')):\n",
    "    url = 'http://spatial-analyst.net/book/system/files/meuse.zip'\n",
    "    results = requests.get(url)\n",
    "    print('Status code download: {}'.format(results.status_code))\n",
    "with open('meuse.zip', 'wb') as f:\n",
    "    f.write(results.content)\n",
    "zip_ref = zipfile.ZipFile('meuse.zip', 'r')\n",
    "zip_ref.extractall('data/meuse_example_data/')\n",
    "zip_ref.close()\n",
    "# os.remove('./data/meuse.zip')"
   ]
  },
  {
   "cell_type": "code",
   "execution_count": 3,
   "metadata": {
    "ExecuteTime": {
     "end_time": "2020-03-01T06:23:20.231149Z",
     "start_time": "2020-03-01T06:23:19.790398Z"
    }
   },
   "outputs": [
    {
     "name": "stderr",
     "output_type": "stream",
     "text": [
      "/home/wassname/.pyenv/versions/jup3.7.3/lib/python3.7/site-packages/pyproj/crs/crs.py:55: FutureWarning: '+init=<authority>:<code>' syntax is deprecated. '<authority>:<code>' is the preferred initialization method. When making the change, be mindful of axis order changes: https://pyproj4.github.io/pyproj/stable/gotchas.html#axis-order-changes-in-proj-6\n",
      "  return _prepare_from_string(\" \".join(pjargs))\n"
     ]
    },
    {
     "data": {
      "text/html": [
       "<div>\n",
       "<style scoped>\n",
       "    .dataframe tbody tr th:only-of-type {\n",
       "        vertical-align: middle;\n",
       "    }\n",
       "\n",
       "    .dataframe tbody tr th {\n",
       "        vertical-align: top;\n",
       "    }\n",
       "\n",
       "    .dataframe thead th {\n",
       "        text-align: right;\n",
       "    }\n",
       "</style>\n",
       "<table border=\"1\" class=\"dataframe\">\n",
       "  <thead>\n",
       "    <tr style=\"text-align: right;\">\n",
       "      <th></th>\n",
       "      <th>cadmium</th>\n",
       "      <th>copper</th>\n",
       "      <th>lead</th>\n",
       "      <th>zinc</th>\n",
       "      <th>elev</th>\n",
       "      <th>dist</th>\n",
       "      <th>om</th>\n",
       "      <th>ffreq</th>\n",
       "      <th>soil</th>\n",
       "      <th>lime</th>\n",
       "      <th>landuse</th>\n",
       "      <th>dist.m</th>\n",
       "      <th>geometry</th>\n",
       "      <th>x</th>\n",
       "      <th>y</th>\n",
       "    </tr>\n",
       "  </thead>\n",
       "  <tbody>\n",
       "    <tr>\n",
       "      <th>154</th>\n",
       "      <td>2.7</td>\n",
       "      <td>27.0</td>\n",
       "      <td>124.0</td>\n",
       "      <td>375.0</td>\n",
       "      <td>8.261</td>\n",
       "      <td>0.012224</td>\n",
       "      <td>5.5</td>\n",
       "      <td>3</td>\n",
       "      <td>3</td>\n",
       "      <td>0</td>\n",
       "      <td>W</td>\n",
       "      <td>40.0</td>\n",
       "      <td>POINT (180627.000 330190.000)</td>\n",
       "      <td>180627.0</td>\n",
       "      <td>330190.0</td>\n",
       "    </tr>\n",
       "  </tbody>\n",
       "</table>\n",
       "</div>"
      ],
      "text/plain": [
       "     cadmium  copper   lead   zinc   elev      dist   om ffreq soil lime  \\\n",
       "154      2.7    27.0  124.0  375.0  8.261  0.012224  5.5     3    3    0   \n",
       "\n",
       "    landuse  dist.m                       geometry         x         y  \n",
       "154       W    40.0  POINT (180627.000 330190.000)  180627.0  330190.0  "
      ]
     },
     "execution_count": 3,
     "metadata": {},
     "output_type": "execute_result"
    }
   ],
   "source": [
    "meuse = gpd.read_file('data/meuse_example_data/meuse.shp')\n",
    "meuse.crs = {'init':'epsg:28992'}\n",
    "meuse['x'] = meuse['geometry'].apply(lambda x: x.x)\n",
    "meuse['y'] = meuse['geometry'].apply(lambda x: x.y)\n",
    "meuse.sample()"
   ]
  },
  {
   "cell_type": "markdown",
   "metadata": {},
   "source": [
    "## Spatial plot"
   ]
  },
  {
   "cell_type": "code",
   "execution_count": 4,
   "metadata": {
    "ExecuteTime": {
     "end_time": "2020-03-01T06:23:20.674071Z",
     "start_time": "2020-03-01T06:23:20.245848Z"
    }
   },
   "outputs": [
    {
     "data": {
      "text/plain": [
       "<matplotlib.axes._subplots.AxesSubplot at 0x7fcc17bbf518>"
      ]
     },
     "execution_count": 4,
     "metadata": {},
     "output_type": "execute_result"
    },
    {
     "data": {
      "image/png": "[encoded data removed]",
      "text/plain": [
       "<Figure size 432x288 with 1 Axes>"
      ]
     },
     "metadata": {
      "needs_background": "light"
     },
     "output_type": "display_data"
    }
   ],
   "source": [
    "meuse.plot('lead')"
   ]
  },
  {
   "cell_type": "code",
   "execution_count": 5,
   "metadata": {
    "ExecuteTime": {
     "end_time": "2020-03-01T06:23:20.683176Z",
     "start_time": "2020-03-01T06:23:20.676499Z"
    },
    "scrolled": false
   },
   "outputs": [],
   "source": [
    "# feature_to_plot = 'lead'\n",
    "\n",
    "# meuse_lat_long = meuse.to_crs({'init': 'epsg:4326'})\n",
    "# meuse_lat_long['long'] = meuse_lat_long.geometry.apply(lambda x: x.x)\n",
    "# meuse_lat_long['lat'] = meuse_lat_long.geometry.apply(lambda x: x.y)\n",
    "# mean_long = np.mean(meuse_lat_long['long'])\n",
    "# mean_lat = np.mean(meuse_lat_long['lat'])\n",
    "# m = folium.Map([mean_lat, mean_long], zoom_start=13, tiles='Stamen Toner')\n",
    "# scale = folium.colormap.linear.YlOrRd.scale(vmin=0, vmax=meuse_lat_long[feature_to_plot].max())\n",
    "# for row in meuse_lat_long.iterrows():\n",
    "#     folium.CircleMarker(location=[row[1]['lat'], row[1]['long']], radius=50, color=None, fill_opacity=1,\n",
    "#                     fill_color=scale(row[1][feature_to_plot])).add_to(m)\n",
    "# m.add_children(scale)"
   ]
  },
  {
   "cell_type": "markdown",
   "metadata": {},
   "source": [
    "## Split the data into test and train\n",
    "\n",
    "Control the random split with setting a seed so the results are reproducable."
   ]
  },
  {
   "cell_type": "code",
   "execution_count": 6,
   "metadata": {
    "ExecuteTime": {
     "end_time": "2020-03-01T06:23:20.723104Z",
     "start_time": "2020-03-01T06:23:20.696377Z"
    }
   },
   "outputs": [
    {
     "name": "stdout",
     "output_type": "stream",
     "text": [
      "Number of observations in training: 122, in test: 39\n"
     ]
    }
   ],
   "source": [
    "np.random.seed(0)\n",
    "test_indexes = np.random.choice(a=meuse.index, size=int(np.round(len(meuse.index.values)/4)))\n",
    "train_indexes = [index for index in meuse.index if index not in test_indexes]\n",
    "meuse_test = meuse.loc[test_indexes,:].copy()\n",
    "meuse_train = meuse.loc[train_indexes,:].copy()\n",
    "print('Number of observations in training: {}, in test: {}'.format(len(meuse_train), len(meuse_test)))"
   ]
  },
  {
   "cell_type": "markdown",
   "metadata": {},
   "source": [
    "# Neural Process"
   ]
  },
  {
   "cell_type": "markdown",
   "metadata": {
    "ExecuteTime": {
     "end_time": "2020-03-01T06:23:20.801398Z",
     "start_time": "2020-03-01T06:23:20.738602Z"
    }
   },
   "source": [
    "## Helpers"
   ]
  },
  {
   "cell_type": "code",
   "execution_count": null,
   "metadata": {},
   "outputs": [],
   "source": []
  },
  {
   "cell_type": "code",
   "execution_count": 8,
   "metadata": {
    "ExecuteTime": {
     "end_time": "2020-03-01T06:23:21.392690Z",
     "start_time": "2020-03-01T06:23:20.811834Z"
    }
   },
   "outputs": [],
   "source": [
    "import torch\n",
    "from torch import nn\n",
    "import torch.nn.functional as F\n",
    "import math\n",
    "import numpy as np\n",
    "# from .attention import Attention as PtAttention\n",
    "\n",
    "\n",
    "class LSTMBlock(nn.Module):\n",
    "    def __init__(\n",
    "        self, in_channels, out_channels, dropout=0, batchnorm=False, bias=False, num_layers=1\n",
    "    ):\n",
    "        super().__init__()\n",
    "        self._lstm = nn.LSTM(\n",
    "                input_size=in_channels,\n",
    "                hidden_size=out_channels,\n",
    "                num_layers=num_layers,\n",
    "                dropout=dropout,\n",
    "                batch_first=True,\n",
    "                bias=bias\n",
    "        )\n",
    "\n",
    "    def forward(self, x):\n",
    "        return self._lstm(x)[0]\n",
    "\n",
    "\n",
    "class NPBlockRelu2d(nn.Module):\n",
    "    \"\"\"Block for Neural Processes.\"\"\"\n",
    "\n",
    "    def __init__(\n",
    "        self, in_channels, out_channels, dropout=0, batchnorm=False, bias=False\n",
    "    ):\n",
    "        super().__init__()\n",
    "        self.linear = nn.Linear(in_channels, out_channels, bias=bias)\n",
    "        self.act = nn.ReLU()\n",
    "        self.dropout = nn.Dropout2d(dropout)\n",
    "        self.norm = nn.BatchNorm2d(out_channels) if batchnorm else False\n",
    "\n",
    "    def forward(self, x):\n",
    "        # x.shape is (Batch, Sequence, Channels)\n",
    "        # We pass a linear over it which operates on the Channels\n",
    "        x = self.act(self.linear(x))\n",
    "\n",
    "        # Now we want to apply batchnorm and dropout to the channels. So we put it in shape\n",
    "        # (Batch, Channels, Sequence, None) so we can use Dropout2d & BatchNorm2d\n",
    "        x = x.permute(0, 2, 1)[:, :, :, None]\n",
    "\n",
    "        if self.norm:\n",
    "            x = self.norm(x)\n",
    "\n",
    "        x = self.dropout(x)\n",
    "        return x[:, :, :, 0].permute(0, 2, 1)\n",
    "\n",
    "\n",
    "class BatchMLP(nn.Module):\n",
    "    \"\"\"Apply MLP to the final axis of a 3D tensor (reusing already defined MLPs).\n",
    "\n",
    "    Args:\n",
    "        input: input tensor of shape [B,n,d_in].\n",
    "        output_sizes: An iterable containing the output sizes of the MLP as defined \n",
    "            in `basic.Linear`.\n",
    "    Returns:\n",
    "        tensor of shape [B,n,d_out] where d_out=output_size\n",
    "    \"\"\"\n",
    "\n",
    "    def __init__(\n",
    "        self, input_size, output_size, num_layers=2, dropout=0, batchnorm=False\n",
    "    ):\n",
    "        super().__init__()\n",
    "        self.input_size = input_size\n",
    "        self.output_size = output_size\n",
    "        self.num_layers = num_layers\n",
    "\n",
    "        self.initial = NPBlockRelu2d(\n",
    "            input_size, output_size, dropout=dropout, batchnorm=batchnorm\n",
    "        )\n",
    "        self.encoder = nn.Sequential(\n",
    "            *[\n",
    "                NPBlockRelu2d(\n",
    "                    output_size, output_size, dropout=dropout, batchnorm=batchnorm\n",
    "                )\n",
    "                for _ in range(num_layers - 2)\n",
    "            ]\n",
    "        )\n",
    "        self.final = nn.Linear(output_size, output_size)\n",
    "\n",
    "    def forward(self, x):\n",
    "        x = self.initial(x)\n",
    "        x = self.encoder(x)\n",
    "        return self.final(x)\n",
    "\n",
    "\n",
    "class AttnLinear(nn.Module):\n",
    "    def __init__(self, in_channels, out_channels):\n",
    "        super().__init__()\n",
    "        self.linear = nn.Linear(in_channels, out_channels, bias=False)\n",
    "        torch.nn.init.normal_(self.linear.weight, std=in_channels ** -0.5)\n",
    "\n",
    "    def forward(self, x):\n",
    "        x = self.linear(x)\n",
    "        return x\n",
    "\n",
    "\n",
    "class Attention(nn.Module):\n",
    "    def __init__(\n",
    "        self,\n",
    "        hidden_dim,\n",
    "        attention_type,\n",
    "        attention_layers=2,\n",
    "        n_heads=8,\n",
    "        x_dim=1,\n",
    "        rep=\"mlp\",\n",
    "        dropout=0,\n",
    "        batchnorm=False,\n",
    "    ):\n",
    "        super().__init__()\n",
    "        self._rep = rep\n",
    "\n",
    "        if self._rep == \"mlp\":\n",
    "            self.batch_mlp_k = BatchMLP(\n",
    "                x_dim,\n",
    "                hidden_dim,\n",
    "                attention_layers,\n",
    "                dropout=dropout,\n",
    "                batchnorm=batchnorm,\n",
    "            )\n",
    "            self.batch_mlp_q = BatchMLP(\n",
    "                x_dim,\n",
    "                hidden_dim,\n",
    "                attention_layers,\n",
    "                dropout=dropout,\n",
    "                batchnorm=batchnorm,\n",
    "            )\n",
    "\n",
    "        if attention_type == \"uniform\":\n",
    "            self._attention_func = self._uniform_attention\n",
    "        elif attention_type == \"laplace\":\n",
    "            self._attention_func = self._laplace_attention\n",
    "        elif attention_type == \"dot\":\n",
    "            self._attention_func = self._dot_attention\n",
    "        elif attention_type == \"multihead\":\n",
    "            self._W_k = nn.ModuleList(\n",
    "                [AttnLinear(hidden_dim, hidden_dim) for _ in range(n_heads)]\n",
    "            )\n",
    "            self._W_v = nn.ModuleList(\n",
    "                [AttnLinear(hidden_dim, hidden_dim) for _ in range(n_heads)]\n",
    "            )\n",
    "            self._W_q = nn.ModuleList(\n",
    "                [AttnLinear(hidden_dim, hidden_dim) for _ in range(n_heads)]\n",
    "            )\n",
    "            self._W = AttnLinear(n_heads * hidden_dim, hidden_dim)\n",
    "            self._attention_func = self._multihead_attention\n",
    "            self.n_heads = n_heads\n",
    "        elif attention_type == \"ptmultihead\":\n",
    "            self._W = torch.nn.MultiheadAttention(\n",
    "                hidden_dim, n_heads, bias=False, dropout=dropout\n",
    "            )\n",
    "            self._attention_func = self._pytorch_multihead_attention\n",
    "        else:\n",
    "            raise NotImplementedError\n",
    "\n",
    "    def forward(self, k, v, q):\n",
    "        if self._rep == \"mlp\":\n",
    "            k = self.batch_mlp_k(k)\n",
    "            q = self.batch_mlp_q(q)\n",
    "        rep = self._attention_func(k, v, q)\n",
    "        return rep\n",
    "\n",
    "    def _uniform_attention(self, k, v, q):\n",
    "        total_points = q.shape[1]\n",
    "        rep = torch.mean(v, dim=1, keepdim=True)\n",
    "        rep = rep.repeat(1, total_points, 1)\n",
    "        return rep\n",
    "\n",
    "    def _laplace_attention(self, k, v, q, scale=0.5):\n",
    "        k_ = k.unsqueeze(1)\n",
    "        v_ = v.unsqueeze(2)\n",
    "        unnorm_weights = torch.abs((k_ - v_) * scale)\n",
    "        unnorm_weights = unnorm_weights.sum(dim=-1)\n",
    "        weights = torch.softmax(unnorm_weights, dim=-1)\n",
    "        rep = torch.einsum(\"bik,bkj->bij\", weights, v)\n",
    "        return rep\n",
    "\n",
    "    def _dot_attention(self, k, v, q):\n",
    "        scale = q.shape[-1] ** 0.5\n",
    "        unnorm_weights = torch.einsum(\"bjk,bik->bij\", k, q) / scale\n",
    "        weights = torch.softmax(unnorm_weights, dim=-1)\n",
    "\n",
    "        rep = torch.einsum(\"bik,bkj->bij\", weights, v)\n",
    "        return rep\n",
    "\n",
    "    def _multihead_attention(self, k, v, q):\n",
    "        outs = []\n",
    "        for i in range(self.n_heads):\n",
    "            k_ = self._W_k[i](k)\n",
    "            v_ = self._W_v[i](v)\n",
    "            q_ = self._W_q[i](q)\n",
    "            out = self._dot_attention(k_, v_, q_)\n",
    "            outs.append(out)\n",
    "        outs = torch.stack(outs, dim=-1)\n",
    "        outs = outs.view(outs.shape[0], outs.shape[1], -1)\n",
    "        rep = self._W(outs)\n",
    "        return rep\n",
    "\n",
    "    def _pytorch_multihead_attention(self, k, v, q):\n",
    "        # Pytorch multiheaded attention takes inputs if diff order and permutation\n",
    "        q = q.permute(1, 0, 2)\n",
    "        k = k.permute(1, 0, 2)\n",
    "        v = v.permute(1, 0, 2)\n",
    "        o = self._W(q, k, v)[0]\n",
    "        return o.permute(1, 0, 2)\n",
    "\n",
    "\n",
    "class LatentEncoder(nn.Module):\n",
    "    def __init__(\n",
    "        self,\n",
    "        input_dim,\n",
    "        hidden_dim=32,\n",
    "        latent_dim=32,\n",
    "        self_attention_type=\"dot\",\n",
    "        n_encoder_layers=3,\n",
    "        min_std=0.01,\n",
    "        batchnorm=False,\n",
    "        dropout=0,\n",
    "        attention_dropout=0,\n",
    "        use_lvar=False,\n",
    "        use_self_attn=False,\n",
    "        attention_layers=2,\n",
    "        use_lstm=False\n",
    "    ):\n",
    "        super().__init__()\n",
    "        # self._input_layer = nn.Linear(input_dim, hidden_dim)\n",
    "        if use_lstm:\n",
    "            self._encoder = LSTMBlock(input_dim, hidden_dim, batchnorm=batchnorm, dropout=dropout, num_layers=n_encoder_layers)\n",
    "        else:\n",
    "            self._encoder = BatchMLP(input_dim, hidden_dim, batchnorm=batchnorm, dropout=dropout, num_layers=n_encoder_layers)\n",
    "        if use_self_attn:\n",
    "            self._self_attention = Attention(\n",
    "                hidden_dim,\n",
    "                self_attention_type,\n",
    "                attention_layers,\n",
    "                rep=\"identity\",\n",
    "                dropout=attention_dropout,\n",
    "            )\n",
    "        self._penultimate_layer = nn.Linear(hidden_dim, hidden_dim)\n",
    "        self._mean = nn.Linear(hidden_dim, latent_dim)\n",
    "        self._log_var = nn.Linear(hidden_dim, latent_dim)\n",
    "        self._min_std = min_std\n",
    "        self._use_lvar = use_lvar\n",
    "        self._use_lstm = use_lstm\n",
    "        self._use_self_attn = use_self_attn\n",
    "\n",
    "    def forward(self, x, y):\n",
    "        encoder_input = torch.cat([x, y], dim=-1)\n",
    "\n",
    "        # Pass final axis through MLP\n",
    "        encoded = self._encoder(encoder_input)\n",
    "\n",
    "        # Aggregator: take the mean over all points\n",
    "        if self._use_self_attn:\n",
    "            attention_output = self._self_attention(encoded, encoded, encoded)\n",
    "            mean_repr = attention_output.mean(dim=1)\n",
    "        else:\n",
    "            mean_repr = encoded.mean(dim=1)\n",
    "\n",
    "        # Have further MLP layers that map to the parameters of the Gaussian latent\n",
    "        mean_repr = torch.relu(self._penultimate_layer(mean_repr))\n",
    "\n",
    "        # Then apply further linear layers to output latent mu and log sigma\n",
    "        mean = self._mean(mean_repr)\n",
    "        log_var = self._log_var(mean_repr)\n",
    "\n",
    "        if self._use_lvar:\n",
    "            # Clip it in the log domain, so it can only approach self.min_std, this helps avoid mode collapase\n",
    "            # 2 ways, a better but untested way using the more stable log domain, and the way from the deepmind repo\n",
    "            log_var = F.logsigmoid(log_var)\n",
    "            log_var = torch.clamp(log_var, np.log(self._min_std), -np.log(self._min_std))\n",
    "            sigma = torch.exp(0.5 * log_var)\n",
    "        else:\n",
    "            sigma = self._min_std + (1 - self._min_std) * torch.sigmoid(log_var * 0.5)\n",
    "        dist = torch.distributions.Normal(mean, sigma)\n",
    "        return dist, log_var\n",
    "\n",
    "\n",
    "class DeterministicEncoder(nn.Module):\n",
    "    def __init__(\n",
    "        self,\n",
    "        input_dim,\n",
    "        x_dim,\n",
    "        hidden_dim=32,\n",
    "        n_d_encoder_layers=3,\n",
    "        self_attention_type=\"dot\",\n",
    "        cross_attention_type=\"dot\",\n",
    "        use_self_attn=False,\n",
    "        attention_layers=2,\n",
    "        batchnorm=False,\n",
    "        dropout=0,\n",
    "        attention_dropout=0,\n",
    "        use_lstm=False,\n",
    "    ):\n",
    "        super().__init__()\n",
    "        self._use_self_attn = use_self_attn\n",
    "        # self._input_layer = nn.Linear(input_dim, hidden_dim)\n",
    "        if use_lstm:\n",
    "            self._d_encoder = LSTMBlock(input_dim, hidden_dim, batchnorm=batchnorm, dropout=dropout, num_layers=n_d_encoder_layers)\n",
    "        else:\n",
    "            self._d_encoder = BatchMLP(input_dim, hidden_dim, batchnorm=batchnorm, dropout=dropout, num_layers=n_d_encoder_layers)\n",
    "        if use_self_attn:\n",
    "            self._self_attention = Attention(\n",
    "                hidden_dim,\n",
    "                self_attention_type,\n",
    "                attention_layers,\n",
    "                rep=\"identity\",\n",
    "                dropout=attention_dropout,\n",
    "            )\n",
    "        self._cross_attention = Attention(\n",
    "            hidden_dim,\n",
    "            cross_attention_type,\n",
    "            x_dim=x_dim,\n",
    "            attention_layers=attention_layers,\n",
    "        )\n",
    "\n",
    "    def forward(self, context_x, context_y, target_x):\n",
    "        # Concatenate x and y along the filter axes\n",
    "        d_encoder_input = torch.cat([context_x, context_y], dim=-1)\n",
    "\n",
    "        # Pass final axis through MLP\n",
    "        d_encoded = self._d_encoder(d_encoder_input)\n",
    "\n",
    "        if self._use_self_attn:\n",
    "            d_encoded = self._self_attention(d_encoded, d_encoded, d_encoded)\n",
    "\n",
    "        # Apply attention as mean aggregation\n",
    "        h = self._cross_attention(context_x, d_encoded, target_x)\n",
    "\n",
    "        return h\n",
    "\n",
    "\n",
    "class Decoder(nn.Module):\n",
    "    def __init__(\n",
    "        self,\n",
    "        x_dim,\n",
    "        y_dim,\n",
    "        hidden_dim=32,\n",
    "        latent_dim=32,\n",
    "        n_decoder_layers=3,\n",
    "        use_deterministic_path=True,\n",
    "        min_std=0.01,\n",
    "        use_lvar=False,\n",
    "        batchnorm=False,\n",
    "        dropout=0,\n",
    "        use_lstm=False,\n",
    "    ):\n",
    "        super(Decoder, self).__init__()\n",
    "        self._target_transform = nn.Linear(x_dim, hidden_dim)\n",
    "        if use_deterministic_path:\n",
    "            hidden_dim_2 = 2 * hidden_dim + latent_dim\n",
    "        else:\n",
    "            hidden_dim_2 = hidden_dim + latent_dim\n",
    "            \n",
    "        if use_lstm:\n",
    "            self._decoder = LSTMBlock(hidden_dim_2, hidden_dim_2, batchnorm=batchnorm, dropout=dropout, num_layers=n_decoder_layers)\n",
    "        else:\n",
    "            self._decoder = BatchMLP(hidden_dim_2, hidden_dim_2, batchnorm=batchnorm, dropout=dropout, num_layers=n_decoder_layers)\n",
    "        self._mean = nn.Linear(hidden_dim_2, y_dim)\n",
    "        self._std = nn.Linear(hidden_dim_2, y_dim)\n",
    "        self._use_deterministic_path = use_deterministic_path\n",
    "        self._min_std = min_std\n",
    "        self._use_lvar = use_lvar\n",
    "\n",
    "    def forward(self, r, z, target_x):\n",
    "        # concatenate target_x and representation\n",
    "        x = self._target_transform(target_x)\n",
    "\n",
    "        if self._use_deterministic_path:\n",
    "            z = torch.cat([r, z], dim=-1)\n",
    "\n",
    "        r = torch.cat([z, x], dim=-1)\n",
    "\n",
    "        r = self._decoder(r)\n",
    "\n",
    "        # Get the mean and the variance\n",
    "        mean = self._mean(r)\n",
    "        log_sigma = self._std(r)\n",
    "\n",
    "        # Bound or clamp the variance\n",
    "        if self._use_lvar:\n",
    "            log_sigma = torch.clamp(log_sigma, math.log(self._min_std), -math.log(self._min_std))\n",
    "            sigma = torch.exp(log_sigma)\n",
    "        else:\n",
    "            sigma = self._min_std + (1 - self._min_std) * F.softplus(log_sigma)\n",
    "\n",
    "        dist = torch.distributions.Normal(mean, sigma)\n",
    "        return dist, log_sigma\n"
   ]
  },
  {
   "cell_type": "code",
   "execution_count": 9,
   "metadata": {
    "ExecuteTime": {
     "end_time": "2020-03-01T06:23:21.521444Z",
     "start_time": "2020-03-01T06:23:21.396012Z"
    }
   },
   "outputs": [],
   "source": [
    "import torch\n",
    "from torch import nn\n",
    "import torch.nn.functional as F\n",
    "from torch.utils.data import TensorDataset, DataLoader\n",
    "import math\n",
    "\n",
    "from src.models.modules import LatentEncoder, DeterministicEncoder, Decoder\n",
    "\n",
    "\n",
    "def log_prob_sigma(value, loc, log_scale):\n",
    "    \"\"\"A slightly more stable (not confirmed yet) log prob taking in log_var instead of scale.\n",
    "    modified from https://github.com/pytorch/pytorch/blob/2431eac7c011afe42d4c22b8b3f46dedae65e7c0/torch/distributions/normal.py#L65\n",
    "    \"\"\"\n",
    "    var = torch.exp(log_scale * 2)\n",
    "    return (\n",
    "        -((value - loc) ** 2) / (2 * var) - log_scale - math.log(math.sqrt(2 * math.pi))\n",
    "    )\n",
    "\n",
    "\n",
    "def kl_loss_var(prior_mu, log_var_prior, post_mu, log_var_post):\n",
    "    \"\"\"\n",
    "    Analytical KLD for two gaussians, taking in log_variance instead of scale ( given variance=scale**2) for more stable gradients\n",
    "    \n",
    "    For version using scale see https://github.com/pytorch/pytorch/blob/master/torch/distributions/kl.py#L398\n",
    "    \"\"\"\n",
    "\n",
    "    var_ratio_log = log_var_post - log_var_prior\n",
    "    kl_div = (\n",
    "        (var_ratio_log.exp() + (post_mu - prior_mu) ** 2) / log_var_prior.exp()\n",
    "        - 1.0\n",
    "        - var_ratio_log\n",
    "    )\n",
    "    kl_div = 0.5 * kl_div\n",
    "    return kl_div\n",
    "\n",
    "class LatentModel(nn.Module):\n",
    "    def __init__(self,\n",
    "                 x_dim, # features in input\n",
    "                 y_dim, # number of features in output\n",
    "                 hidden_dim=32, # size of hidden space\n",
    "                 latent_dim=32, # size of latent space\n",
    "                 latent_enc_self_attn_type=\"ptmultihead\", # type of attention: \"uniform\", \"dot\", \"multihead\" \"ptmultihead\": see attentive neural processes paper\n",
    "                 det_enc_self_attn_type=\"ptmultihead\",\n",
    "                 det_enc_cross_attn_type=\"ptmultihead\",\n",
    "                 n_latent_encoder_layers=2,\n",
    "                 n_det_encoder_layers=2, # number of deterministic encoder layers\n",
    "                 n_decoder_layers=2,\n",
    "                 use_deterministic_path=False,\n",
    "                 min_std=0.01, # To avoid collapse use a minimum standard deviation, should be much smaller than variation in labels\n",
    "                 dropout=0,\n",
    "                 use_self_attn=False,\n",
    "                 attention_dropout=0,\n",
    "                 batchnorm=False,\n",
    "                 use_lvar=False, # Alternative loss calculation, may be more stable\n",
    "                 attention_layers=2, \n",
    "                 use_rnn=True, # use RNN/LSTM?\n",
    "                 use_lstm_le=False, # use another LSTM in latent encoder instead of MLP\n",
    "                 use_lstm_de=False, # use another LSTM in determinstic encoder instead of MLP\n",
    "                 use_lstm_d=False,  # use another lstm in decoder instead of MLP\n",
    "                 context_in_target=True,\n",
    "                 **kwargs,\n",
    "                ):\n",
    "\n",
    "        super(LatentModel, self).__init__()\n",
    "\n",
    "        self._use_rnn = use_rnn\n",
    "\n",
    "        if self._use_rnn:\n",
    "            self._lstm = nn.LSTM(\n",
    "                input_size=x_dim,\n",
    "                hidden_size=hidden_dim,\n",
    "                num_layers=attention_layers,\n",
    "                dropout=dropout,\n",
    "                batch_first=True\n",
    "            )\n",
    "            x_dim = hidden_dim\n",
    "\n",
    "        self._latent_encoder = LatentEncoder(\n",
    "            x_dim + y_dim,\n",
    "            hidden_dim=hidden_dim,\n",
    "            latent_dim=latent_dim,\n",
    "            self_attention_type=latent_enc_self_attn_type,\n",
    "            n_encoder_layers=n_latent_encoder_layers,\n",
    "            attention_layers=attention_layers,\n",
    "            dropout=dropout,\n",
    "            use_self_attn=use_self_attn,\n",
    "            attention_dropout=attention_dropout,\n",
    "            batchnorm=batchnorm,\n",
    "            min_std=min_std,\n",
    "            use_lvar=use_lvar,\n",
    "            use_lstm=use_lstm_le,\n",
    "        )\n",
    "\n",
    "        self._deterministic_encoder = DeterministicEncoder(\n",
    "            input_dim=x_dim + y_dim,\n",
    "            x_dim=x_dim,\n",
    "            hidden_dim=hidden_dim,\n",
    "            self_attention_type=det_enc_self_attn_type,\n",
    "            cross_attention_type=det_enc_cross_attn_type,\n",
    "            n_d_encoder_layers=n_det_encoder_layers,\n",
    "            attention_layers=attention_layers,\n",
    "            use_self_attn=use_self_attn,\n",
    "            dropout=dropout,\n",
    "            batchnorm=batchnorm,\n",
    "            attention_dropout=attention_dropout,\n",
    "            use_lstm=use_lstm_de,\n",
    "        )\n",
    "\n",
    "        self._decoder = Decoder(\n",
    "            x_dim,\n",
    "            y_dim,\n",
    "            hidden_dim=hidden_dim,\n",
    "            latent_dim=latent_dim,\n",
    "            dropout=dropout,\n",
    "            batchnorm=batchnorm,\n",
    "            min_std=min_std,\n",
    "            use_lvar=use_lvar,\n",
    "            n_decoder_layers=n_decoder_layers,\n",
    "            use_deterministic_path=use_deterministic_path,\n",
    "            use_lstm=use_lstm_d,\n",
    "            \n",
    "        )\n",
    "        self._use_deterministic_path = use_deterministic_path\n",
    "        self._use_lvar = use_lvar\n",
    "        self.context_in_target = context_in_target\n",
    "\n",
    "    def forward(self, context_x, context_y, target_x, target_y=None):\n",
    "\n",
    "        if self._use_rnn:\n",
    "            # see https://arxiv.org/abs/1910.09323 where x is substituted with h = RNN(x)\n",
    "            # x need to be provided as [B, T, H]\n",
    "            target_x, _ = self._lstm(target_x)\n",
    "            context_x, _ = self._lstm(context_x)\n",
    "\n",
    "        dist_prior, log_var_prior = self._latent_encoder(context_x, context_y)\n",
    "\n",
    "        if target_y is not None:\n",
    "            dist_post, log_var_post = self._latent_encoder(target_x, target_y)\n",
    "            z = dist_post.loc\n",
    "        else:\n",
    "            z = dist_prior.loc\n",
    "\n",
    "        num_targets = target_x.size(1)\n",
    "        z = z.unsqueeze(1).repeat(1, num_targets, 1)  # [B, T_target, H]\n",
    "\n",
    "        if self._use_deterministic_path:\n",
    "            r = self._deterministic_encoder(context_x, context_y,\n",
    "                                            target_x)  # [B, T_target, H]  \n",
    "        else:\n",
    "            r = None\n",
    "\n",
    "        dist, log_sigma = self._decoder(r, z, target_x)\n",
    "        if target_y is not None:\n",
    "\n",
    "            if self._use_lvar:\n",
    "                log_p = log_prob_sigma(target_y, dist.loc, log_sigma).mean(-1)  # [B, T_target, Y].mean(-1)\n",
    "                if self.context_in_target:\n",
    "                    log_p[:, :context_x.size(1)] /= 100\n",
    "                kl_loss = kl_loss_var(dist_prior.loc, log_var_prior,\n",
    "                                      dist_post.loc, log_var_post).mean(-1)  # [B, R].mean(-1)\n",
    "            else:\n",
    "                log_p = dist.log_prob(target_y).mean(-1)\n",
    "                if self.context_in_target:\n",
    "                    log_p[:, :context_x.size(1)] /= 100 # There's the temptation for it to fit only on context, where it knows the answer, and learn very low uncertainty. \n",
    "                kl_loss = torch.distributions.kl_divergence(\n",
    "                    dist_post, dist_prior).mean(-1)  # [B, R].mean(-1)\n",
    "            kl_loss = kl_loss[:, None].expand(log_p.shape)\n",
    "            mse_loss = F.mse_loss(dist.loc, target_y, reduction='none')[:, :context_x.size(1)].mean()\n",
    "            loss = (kl_loss - log_p).mean()\n",
    "\n",
    "        else:\n",
    "            log_p = None\n",
    "            mse_loss = None\n",
    "            kl_loss = None\n",
    "            loss = None\n",
    "\n",
    "        y_pred = dist.rsample() if self.training else dist.loc\n",
    "        return y_pred, dict(loss=loss, loss_p=-log_p.mean(), loss_kl=kl_loss, loss_mse=mse_loss.mean()), dict(log_sigma=log_sigma, dist=dist)\n"
   ]
  },
  {
   "cell_type": "code",
   "execution_count": 10,
   "metadata": {
    "ExecuteTime": {
     "end_time": "2020-03-01T06:23:21.607160Z",
     "start_time": "2020-03-01T06:23:21.523896Z"
    }
   },
   "outputs": [],
   "source": [
    "from pathlib import Path\n",
    "import pandas as pd\n",
    "import numpy as np\n",
    "import torch\n",
    "\n",
    "def npsample_batch(x, y, size=None, sort=True):\n",
    "    \"\"\"Sample from numpy arrays along 2nd dim.\"\"\"\n",
    "    inds = np.random.choice(range(x.shape[1]), size=size, replace=False)\n",
    "    if sort:\n",
    "        inds.sort()\n",
    "    return x[:, inds], y[:, inds]\n",
    "\n",
    "def collate_fns(max_num_context, max_num_extra_target, sample, sort=True, context_in_target=True):\n",
    "    def collate_fn(batch, sample=sample):\n",
    "        # Collate\n",
    "        x = np.stack([x for x, y in batch], 0)\n",
    "        y = np.stack([y for x, y in batch], 0)\n",
    "\n",
    "        # Sample a subset of random size\n",
    "        num_context = np.random.randint(4, max_num_context)\n",
    "        num_extra_target = np.random.randint(4, max_num_extra_target)\n",
    "\n",
    "        x = torch.from_numpy(x).float()\n",
    "        y = torch.from_numpy(y).float()\n",
    "\n",
    "        \n",
    "        x_context = x[:, :max_num_context]\n",
    "        y_context = y[:, :max_num_context]\n",
    "    \n",
    "        x_target_extra = x[:, max_num_context:]\n",
    "        y_target_extra = y[:, max_num_context:]\n",
    "        \n",
    "        if sample:\n",
    "\n",
    "            # This is slightly differen't than normal, we are ensuring that our target point are in the future, to mimic deployment\n",
    "            x_context, y_context = npsample_batch(\n",
    "                x_context, y_context, size=num_context, sort=sort\n",
    "            )\n",
    "\n",
    "            x_target_extra, y_target_extra = npsample_batch(\n",
    "                x_target_extra, y_target_extra, size=num_extra_target, sort=sort\n",
    "            )\n",
    "\n",
    "        # do we want to compute loss over context+target_extra, or focus in on only target_extra?\n",
    "        if context_in_target:\n",
    "            x_target = torch.cat([x_context, x_target_extra], 1)\n",
    "            y_target = torch.cat([y_context, y_target_extra], 1)\n",
    "        else:\n",
    "            x_target = x_target_extra\n",
    "            y_target = y_target_extra\n",
    "\n",
    "        \n",
    "        return x_context, y_context, x_target, y_target\n",
    "\n",
    "    return collate_fn\n",
    "\n",
    "\n",
    "class DataSet(torch.utils.data.Dataset):\n",
    "    def __init__(self, df, num_context=40, num_extra_target=10, label_names=['lead']):\n",
    "        self.df = df\n",
    "        self.num_context = num_context\n",
    "        self.num_extra_target = num_extra_target\n",
    "        self.label_names = label_names\n",
    "\n",
    "    def get_rows(self, i):\n",
    "        rows = self.df.iloc[i : i + (self.num_context + self.num_extra_target)].copy()\n",
    "\n",
    "        # make sure tstp, which is our x axis, is the first value\n",
    "\n",
    "        # This will be the last row, and will change it upon sample to let the model know some points are in the future\n",
    "\n",
    "        x = rows.drop(columns=self.label_names).copy()\n",
    "        y = rows[self.label_names].copy()\n",
    "        return x, y\n",
    "\n",
    "\n",
    "    def __getitem__(self, i):\n",
    "        x, y = self.get_rows(i)\n",
    "        return x.values, y.values\n",
    "        \n",
    "    def __len__(self):\n",
    "        return len(self.df) - (self.num_context + self.num_extra_target)\n"
   ]
  },
  {
   "cell_type": "markdown",
   "metadata": {},
   "source": [
    "### Run"
   ]
  },
  {
   "cell_type": "code",
   "execution_count": 167,
   "metadata": {
    "ExecuteTime": {
     "end_time": "2020-03-01T06:45:59.986524Z",
     "start_time": "2020-03-01T06:45:59.923496Z"
    }
   },
   "outputs": [],
   "source": [
    "hparams = dict(\n",
    "    num_context=10,\n",
    "    num_extra_target=10,\n",
    "    batch_size=8,\n",
    "    context_in_target=False,\n",
    ")\n",
    "df_train = meuse_train[['x', 'y', 'lead']].copy()\n",
    "norm_mean = df_train.mean()\n",
    "norm_std = df_train.std()"
   ]
  },
  {
   "cell_type": "code",
   "execution_count": 168,
   "metadata": {
    "ExecuteTime": {
     "end_time": "2020-03-01T06:46:00.178472Z",
     "start_time": "2020-03-01T06:46:00.125177Z"
    }
   },
   "outputs": [],
   "source": [
    "df_train = meuse_train[['x', 'y', 'lead']].copy()\n",
    "df_train -= norm_mean\n",
    "df_train /= norm_std\n",
    "\n",
    "data_train = DataSet(\n",
    "    df_train, hparams[\"num_context\"], hparams[\"num_extra_target\"]\n",
    ")\n",
    "loader_train = torch.utils.data.DataLoader(\n",
    "    data_train,\n",
    "    batch_size=hparams[\"batch_size\"],\n",
    "    shuffle=True,\n",
    "    collate_fn=collate_fns(\n",
    "        hparams[\"num_context\"], hparams[\"num_extra_target\"], sample=True, context_in_target=hparams[\"context_in_target\"]\n",
    "    ),\n",
    ")"
   ]
  },
  {
   "cell_type": "code",
   "execution_count": null,
   "metadata": {
    "ExecuteTime": {
     "end_time": "2020-03-01T06:42:57.432085Z",
     "start_time": "2020-03-01T06:42:57.367861Z"
    }
   },
   "outputs": [],
   "source": []
  },
  {
   "cell_type": "code",
   "execution_count": 181,
   "metadata": {
    "ExecuteTime": {
     "end_time": "2020-03-01T06:47:15.991389Z",
     "start_time": "2020-03-01T06:47:15.937353Z"
    }
   },
   "outputs": [],
   "source": [
    "df_test = meuse_test[['x', 'y', 'lead']].copy()\n",
    "df_test -= norm_mean\n",
    "df_test /= norm_std\n",
    "\n",
    "data_test = DataSet(\n",
    "    df_test, hparams[\"num_context\"], hparams[\"num_extra_target\"]\n",
    ")\n",
    "loader_test = torch.utils.data.DataLoader(\n",
    "    data_test,\n",
    "    batch_size=hparams[\"batch_size\"],\n",
    "    shuffle=True,\n",
    "    collate_fn=collate_fns(\n",
    "        hparams[\"num_context\"], hparams[\"num_extra_target\"], sample=False, context_in_target=hparams[\"context_in_target\"]\n",
    "    ),\n",
    ")"
   ]
  },
  {
   "cell_type": "code",
   "execution_count": 302,
   "metadata": {
    "ExecuteTime": {
     "end_time": "2020-03-01T07:03:42.245204Z",
     "start_time": "2020-03-01T07:03:42.160003Z"
    }
   },
   "outputs": [
    {
     "name": "stdout",
     "output_type": "stream",
     "text": [
      "\n"
     ]
    }
   ],
   "source": [
    "model_np = LatentModel(2, 1,\n",
    "                    hidden_dim=256, # size of hidden space\n",
    "                 latent_dim=128, # size of latent space\n",
    "                 latent_enc_self_attn_type=\"ptmultihead\", # type of attention: \"uniform\", \"dot\", \"multihead\" \"ptmultihead\": see attentive neural processes paper\n",
    "                 det_enc_self_attn_type=\"ptmultihead\",\n",
    "                 det_enc_cross_attn_type=\"ptmultihead\",\n",
    "                 n_latent_encoder_layers=4,\n",
    "                 n_det_encoder_layers=4, # number of deterministic encoder layers\n",
    "                 n_decoder_layers=6,\n",
    "                 use_deterministic_path=False,\n",
    "                 min_std=0.01, # To avoid collapse use a minimum standard deviation, should be much smaller than variation in labels\n",
    "                 dropout=0.0,\n",
    "                 use_self_attn=True,\n",
    "                 attention_dropout=0.0,\n",
    "                 batchnorm=False,\n",
    "                 use_lvar=False, # Alternative loss calculation, may be more stable\n",
    "                 attention_layers=2, \n",
    "                 use_rnn=False, # use RNN/LSTM?\n",
    "                 use_lstm_le=False, # use another LSTM in latent encoder instead of MLP\n",
    "                 use_lstm_de=False, # use another LSTM in determinstic encoder instead of MLP\n",
    "                 use_lstm_d=False,  # use another lstm in decoder instead of MLP\n",
    "                 context_in_target=False,\n",
    "                   )\n",
    "opt = torch.optim.Adam(model_np.parameters(), lr=1e-4)\n",
    "# torch.optim.Adam?"
   ]
  },
  {
   "cell_type": "code",
   "execution_count": 303,
   "metadata": {
    "ExecuteTime": {
     "end_time": "2020-03-01T07:03:42.518679Z",
     "start_time": "2020-03-01T07:03:42.465311Z"
    }
   },
   "outputs": [],
   "source": [
    "# Make predictions\n",
    "def test():\n",
    "    model_np.eval()\n",
    "    with torch.no_grad():\n",
    "        target_x, target_y = df_test.drop(columns=['lead']), df_test['lead']\n",
    "        context_x, context_y = df_train.drop(columns=['lead']), df_train['lead']\n",
    "\n",
    "        context_x = torch.from_numpy(context_x.values).float()[None, :]\n",
    "        context_y = torch.from_numpy(context_y.values).float()[None, :, None]\n",
    "        target_x = torch.from_numpy(target_x.values).float()[None, :]\n",
    "        target_y = torch.from_numpy(target_y.values).float()[None, :, None]\n",
    "\n",
    "        y_pred, losses, extra = model_np.forward(context_x, context_y, target_x, target_y)\n",
    "    yr=(target_y-y_pred)[0].detach().cpu().numpy() * norm_std['lead']\n",
    "    \n",
    "    return yr, y_pred, losses, extra "
   ]
  },
  {
   "cell_type": "code",
   "execution_count": 304,
   "metadata": {
    "ExecuteTime": {
     "end_time": "2020-03-01T07:04:21.618070Z",
     "start_time": "2020-03-01T07:03:42.692870Z"
    },
    "scrolled": true
   },
   "outputs": [
    {
     "data": {
      "application/vnd.jupyter.widget-view+json": {
       "model_id": "2b97cd9fd295435b8ef0ce80fbb89666",
       "version_major": 2,
       "version_minor": 0
      },
      "text/plain": [
       "HBox(children=(FloatProgress(value=0.0, max=13.0), HTML(value='')))"
      ]
     },
     "metadata": {},
     "output_type": "display_data"
    },
    {
     "name": "stdout",
     "output_type": "stream",
     "text": [
      "\n",
      "0\n",
      "train_loss 1.7535142164963942\n",
      "val_loss 89.56866\n"
     ]
    },
    {
     "data": {
      "application/vnd.jupyter.widget-view+json": {
       "model_id": "f004a2782f264c28ab604eedb4d9b146",
       "version_major": 2,
       "version_minor": 0
      },
      "text/plain": [
       "HBox(children=(FloatProgress(value=0.0, max=13.0), HTML(value='')))"
      ]
     },
     "metadata": {},
     "output_type": "display_data"
    },
    {
     "name": "stdout",
     "output_type": "stream",
     "text": [
      "\n",
      "1\n",
      "train_loss 1.563855033654433\n",
      "val_loss 85.31486\n"
     ]
    },
    {
     "data": {
      "application/vnd.jupyter.widget-view+json": {
       "model_id": "fda8c59fa83a48a1b3542c27982bb726",
       "version_major": 2,
       "version_minor": 0
      },
      "text/plain": [
       "HBox(children=(FloatProgress(value=0.0, max=13.0), HTML(value='')))"
      ]
     },
     "metadata": {},
     "output_type": "display_data"
    },
    {
     "name": "stdout",
     "output_type": "stream",
     "text": [
      "\n",
      "2\n",
      "train_loss 1.3969799371866078\n",
      "val_loss 76.877396\n"
     ]
    },
    {
     "data": {
      "application/vnd.jupyter.widget-view+json": {
       "model_id": "b9c0c5899a0d496d8988f2f2cd44601a",
       "version_major": 2,
       "version_minor": 0
      },
      "text/plain": [
       "HBox(children=(FloatProgress(value=0.0, max=13.0), HTML(value='')))"
      ]
     },
     "metadata": {},
     "output_type": "display_data"
    },
    {
     "name": "stdout",
     "output_type": "stream",
     "text": [
      "\n",
      "3\n",
      "train_loss 1.2460992978169367\n",
      "val_loss 71.50057\n"
     ]
    },
    {
     "data": {
      "application/vnd.jupyter.widget-view+json": {
       "model_id": "6db97496351e4303b03242f9358796ce",
       "version_major": 2,
       "version_minor": 0
      },
      "text/plain": [
       "HBox(children=(FloatProgress(value=0.0, max=13.0), HTML(value='')))"
      ]
     },
     "metadata": {},
     "output_type": "display_data"
    },
    {
     "name": "stdout",
     "output_type": "stream",
     "text": [
      "\n",
      "4\n",
      "train_loss 1.0163149329332204\n",
      "val_loss 74.92961\n"
     ]
    },
    {
     "data": {
      "application/vnd.jupyter.widget-view+json": {
       "model_id": "ae0aa40a05664df7bf13ed807ec9b8d1",
       "version_major": 2,
       "version_minor": 0
      },
      "text/plain": [
       "HBox(children=(FloatProgress(value=0.0, max=13.0), HTML(value='')))"
      ]
     },
     "metadata": {},
     "output_type": "display_data"
    },
    {
     "name": "stdout",
     "output_type": "stream",
     "text": [
      "\n",
      "5\n",
      "train_loss 0.8755325858409588\n",
      "val_loss 73.4168\n"
     ]
    },
    {
     "data": {
      "application/vnd.jupyter.widget-view+json": {
       "model_id": "6a7d257dc0b14419a5d1dda2c7807a20",
       "version_major": 2,
       "version_minor": 0
      },
      "text/plain": [
       "HBox(children=(FloatProgress(value=0.0, max=13.0), HTML(value='')))"
      ]
     },
     "metadata": {},
     "output_type": "display_data"
    },
    {
     "name": "stdout",
     "output_type": "stream",
     "text": [
      "\n",
      "6\n",
      "train_loss 0.8212493062019348\n",
      "val_loss 72.47935\n"
     ]
    },
    {
     "data": {
      "application/vnd.jupyter.widget-view+json": {
       "model_id": "3e730e35a7004eecbf2da33d7d59371e",
       "version_major": 2,
       "version_minor": 0
      },
      "text/plain": [
       "HBox(children=(FloatProgress(value=0.0, max=13.0), HTML(value='')))"
      ]
     },
     "metadata": {},
     "output_type": "display_data"
    },
    {
     "name": "stdout",
     "output_type": "stream",
     "text": [
      "\n",
      "7\n",
      "train_loss 0.760582467684379\n",
      "val_loss 70.53564\n"
     ]
    },
    {
     "data": {
      "application/vnd.jupyter.widget-view+json": {
       "model_id": "9c8439c1648b474197e0df89ce970e99",
       "version_major": 2,
       "version_minor": 0
      },
      "text/plain": [
       "HBox(children=(FloatProgress(value=0.0, max=13.0), HTML(value='')))"
      ]
     },
     "metadata": {},
     "output_type": "display_data"
    },
    {
     "name": "stdout",
     "output_type": "stream",
     "text": [
      "\n",
      "8\n",
      "train_loss 0.6150247787053769\n",
      "val_loss 72.23171\n"
     ]
    },
    {
     "data": {
      "application/vnd.jupyter.widget-view+json": {
       "model_id": "f22fdc0478c74875ab3e3a0347009cff",
       "version_major": 2,
       "version_minor": 0
      },
      "text/plain": [
       "HBox(children=(FloatProgress(value=0.0, max=13.0), HTML(value='')))"
      ]
     },
     "metadata": {},
     "output_type": "display_data"
    },
    {
     "name": "stdout",
     "output_type": "stream",
     "text": [
      "\n",
      "9\n",
      "train_loss 0.5144543785315293\n",
      "val_loss 65.801315\n"
     ]
    },
    {
     "data": {
      "application/vnd.jupyter.widget-view+json": {
       "model_id": "ad093444c5204460a910156cc3e0e4bc",
       "version_major": 2,
       "version_minor": 0
      },
      "text/plain": [
       "HBox(children=(FloatProgress(value=0.0, max=13.0), HTML(value='')))"
      ]
     },
     "metadata": {},
     "output_type": "display_data"
    },
    {
     "name": "stdout",
     "output_type": "stream",
     "text": [
      "\n",
      "10\n",
      "train_loss 0.38559774646105677\n",
      "val_loss 68.61874\n"
     ]
    },
    {
     "data": {
      "application/vnd.jupyter.widget-view+json": {
       "model_id": "8a379b40e3f9476c93bba821dff24951",
       "version_major": 2,
       "version_minor": 0
      },
      "text/plain": [
       "HBox(children=(FloatProgress(value=0.0, max=13.0), HTML(value='')))"
      ]
     },
     "metadata": {},
     "output_type": "display_data"
    },
    {
     "name": "stdout",
     "output_type": "stream",
     "text": [
      "\n",
      "11\n",
      "train_loss 0.35914164466353565\n",
      "val_loss 78.52971\n"
     ]
    },
    {
     "data": {
      "application/vnd.jupyter.widget-view+json": {
       "model_id": "a718aec1befb485a8d10b70e91aae675",
       "version_major": 2,
       "version_minor": 0
      },
      "text/plain": [
       "HBox(children=(FloatProgress(value=0.0, max=13.0), HTML(value='')))"
      ]
     },
     "metadata": {},
     "output_type": "display_data"
    },
    {
     "name": "stdout",
     "output_type": "stream",
     "text": [
      "\n",
      "12\n",
      "train_loss 0.6175607591867447\n",
      "val_loss 67.47783\n"
     ]
    },
    {
     "data": {
      "application/vnd.jupyter.widget-view+json": {
       "model_id": "885d2bcef0954556b2c5b9331300e0c7",
       "version_major": 2,
       "version_minor": 0
      },
      "text/plain": [
       "HBox(children=(FloatProgress(value=0.0, max=13.0), HTML(value='')))"
      ]
     },
     "metadata": {},
     "output_type": "display_data"
    },
    {
     "name": "stdout",
     "output_type": "stream",
     "text": [
      "\n",
      "13\n",
      "train_loss 0.48455611960246014\n",
      "val_loss 69.45057\n"
     ]
    },
    {
     "data": {
      "application/vnd.jupyter.widget-view+json": {
       "model_id": "1f0c28c74c84474a8ed6485d5c754712",
       "version_major": 2,
       "version_minor": 0
      },
      "text/plain": [
       "HBox(children=(FloatProgress(value=0.0, max=13.0), HTML(value='')))"
      ]
     },
     "metadata": {},
     "output_type": "display_data"
    },
    {
     "name": "stdout",
     "output_type": "stream",
     "text": [
      "\n",
      "14\n",
      "train_loss 0.3565114756616262\n",
      "val_loss 66.43995\n"
     ]
    },
    {
     "data": {
      "application/vnd.jupyter.widget-view+json": {
       "model_id": "cff8cb72be2746b99d9bcb50e6c0c687",
       "version_major": 2,
       "version_minor": 0
      },
      "text/plain": [
       "HBox(children=(FloatProgress(value=0.0, max=13.0), HTML(value='')))"
      ]
     },
     "metadata": {},
     "output_type": "display_data"
    },
    {
     "name": "stdout",
     "output_type": "stream",
     "text": [
      "\n",
      "15\n",
      "train_loss 0.2690843954109229\n",
      "val_loss 65.01929\n"
     ]
    },
    {
     "data": {
      "application/vnd.jupyter.widget-view+json": {
       "model_id": "81eb830c11ce4520b1e4687d10fb6581",
       "version_major": 2,
       "version_minor": 0
      },
      "text/plain": [
       "HBox(children=(FloatProgress(value=0.0, max=13.0), HTML(value='')))"
      ]
     },
     "metadata": {},
     "output_type": "display_data"
    },
    {
     "name": "stdout",
     "output_type": "stream",
     "text": [
      "\n",
      "16\n",
      "train_loss 0.36621532761133635\n",
      "val_loss 62.97087\n"
     ]
    },
    {
     "data": {
      "application/vnd.jupyter.widget-view+json": {
       "model_id": "ecd8f272b9f14119a595e2fb2ebaa637",
       "version_major": 2,
       "version_minor": 0
      },
      "text/plain": [
       "HBox(children=(FloatProgress(value=0.0, max=13.0), HTML(value='')))"
      ]
     },
     "metadata": {},
     "output_type": "display_data"
    },
    {
     "name": "stdout",
     "output_type": "stream",
     "text": [
      "\n",
      "17\n",
      "train_loss 0.3368708766423739\n",
      "val_loss 67.38298\n"
     ]
    },
    {
     "data": {
      "application/vnd.jupyter.widget-view+json": {
       "model_id": "2d6367d216a742a6885161b5d6683414",
       "version_major": 2,
       "version_minor": 0
      },
      "text/plain": [
       "HBox(children=(FloatProgress(value=0.0, max=13.0), HTML(value='')))"
      ]
     },
     "metadata": {},
     "output_type": "display_data"
    },
    {
     "name": "stdout",
     "output_type": "stream",
     "text": [
      "\n",
      "18\n",
      "train_loss 0.257281960059817\n",
      "val_loss 68.17673\n"
     ]
    },
    {
     "data": {
      "application/vnd.jupyter.widget-view+json": {
       "model_id": "45f286cb20b8477f8f6e8185cae97ca9",
       "version_major": 2,
       "version_minor": 0
      },
      "text/plain": [
       "HBox(children=(FloatProgress(value=0.0, max=13.0), HTML(value='')))"
      ]
     },
     "metadata": {},
     "output_type": "display_data"
    },
    {
     "name": "stdout",
     "output_type": "stream",
     "text": [
      "\n",
      "19\n",
      "train_loss 0.22912872210144997\n",
      "val_loss 63.660477\n"
     ]
    },
    {
     "data": {
      "application/vnd.jupyter.widget-view+json": {
       "model_id": "a83e8a93b49e410b9195bc7cec9da5f4",
       "version_major": 2,
       "version_minor": 0
      },
      "text/plain": [
       "HBox(children=(FloatProgress(value=0.0, max=13.0), HTML(value='')))"
      ]
     },
     "metadata": {},
     "output_type": "display_data"
    },
    {
     "name": "stdout",
     "output_type": "stream",
     "text": [
      "\n",
      "20\n",
      "train_loss 0.18622980839931047\n",
      "val_loss 62.206745\n"
     ]
    },
    {
     "data": {
      "application/vnd.jupyter.widget-view+json": {
       "model_id": "85c6d9ea8d3f47fe9ac4d55ab1ddce69",
       "version_major": 2,
       "version_minor": 0
      },
      "text/plain": [
       "HBox(children=(FloatProgress(value=0.0, max=13.0), HTML(value='')))"
      ]
     },
     "metadata": {},
     "output_type": "display_data"
    },
    {
     "name": "stdout",
     "output_type": "stream",
     "text": [
      "\n",
      "21\n",
      "train_loss 0.2009606700963699\n",
      "val_loss 59.092346\n",
      "break\n"
     ]
    }
   ],
   "source": [
    "from tqdm.auto import tqdm \n",
    "\n",
    "for epoch in range(60):\n",
    "    loss = 0 \n",
    "    model_np.train()\n",
    "    for batch in tqdm(loader_train):\n",
    "        context_x, context_y, target_x, target_y = batch\n",
    "        model_np.zero_grad()\n",
    "        y_pred, losses, extra = model_np.forward(context_x, context_y, target_x, target_y)\n",
    "\n",
    "        losses['loss'].backward()\n",
    "        loss += losses['loss'].cpu().detach().numpy()\n",
    "        opt.step()\n",
    "    loss /= len(loader_train)\n",
    "    \n",
    "    print(epoch)\n",
    "    print('train_loss', loss)\n",
    "    val_loss = test()[0]\n",
    "    val_loss = np.mean(np.abs(val_loss))\n",
    "    print('val_loss', val_loss)\n",
    "    if val_loss<=61:\n",
    "        print('break at target loss')\n",
    "        break\n",
    "    \n",
    "    \n",
    "    "
   ]
  },
  {
   "cell_type": "code",
   "execution_count": null,
   "metadata": {
    "ExecuteTime": {
     "end_time": "2020-03-01T06:08:36.808258Z",
     "start_time": "2020-03-01T06:08:36.709127Z"
    }
   },
   "outputs": [],
   "source": []
  },
  {
   "cell_type": "code",
   "execution_count": 305,
   "metadata": {
    "ExecuteTime": {
     "end_time": "2020-03-01T07:04:21.694986Z",
     "start_time": "2020-03-01T07:04:21.620598Z"
    },
    "scrolled": true
   },
   "outputs": [
    {
     "data": {
      "text/plain": [
       "(25.54126, 59.092346)"
      ]
     },
     "execution_count": 305,
     "metadata": {},
     "output_type": "execute_result"
    }
   ],
   "source": [
    "yr, y_pred, losses, extra  = test()\n",
    "meuse_test['np_residual'] = yr\n",
    "yr.mean(), np.mean(np.abs(val_loss))"
   ]
  },
  {
   "cell_type": "code",
   "execution_count": 306,
   "metadata": {
    "ExecuteTime": {
     "end_time": "2020-03-01T07:04:24.676408Z",
     "start_time": "2020-03-01T07:04:24.311381Z"
    }
   },
   "outputs": [
    {
     "data": {
      "text/plain": [
       "Text(0.5, 1.0, 'Compairing residuals\\nmedian abs res NN: 38.8, Kriging 33.7, NP: 29.6\\nmean abs res NN: 66.1, Kriging: 62.5, NP: 59.1')"
      ]
     },
     "execution_count": 306,
     "metadata": {},
     "output_type": "execute_result"
    },
    {
     "data": {
      "image/png": "[encoded data removed]",
      "text/plain": [
       "<Figure size 288x288 with 1 Axes>"
      ]
     },
     "metadata": {},
     "output_type": "display_data"
    }
   ],
   "source": [
    "sb.set_style(\"whitegrid\")\n",
    "plt.figure(figsize=(4,4))\n",
    "sb.boxplot(data=meuse_test[[\"nn_residual\",\"kriging_residual\",\"np_residual\"]] )\n",
    "plt.title('''Compairing residuals\n",
    "median abs res NN: {:.1f}, Kriging {:.1f}, NP: {:.1f}\n",
    "mean abs res NN: {:.1f}, Kriging: {:.1f}, NP: {:.1f}'''\\\n",
    "          .format(\n",
    "    np.median(np.abs(meuse_test['nn_residual'])), \n",
    "    np.median(np.abs(meuse_test['kriging_residual'])),\n",
    "    np.median(np.abs(meuse_test['np_residual'])),\n",
    "    np.mean(np.abs(meuse_test['nn_residual'])), \n",
    "    np.mean(np.abs(meuse_test['kriging_residual'])),\n",
    "    np.mean(np.abs(meuse_test['np_residual']))\n",
    "))"
   ]
  },
  {
   "cell_type": "code",
   "execution_count": 288,
   "metadata": {
    "ExecuteTime": {
     "end_time": "2020-03-01T07:00:47.863436Z",
     "start_time": "2020-03-01T07:00:47.819302Z"
    }
   },
   "outputs": [
    {
     "data": {
      "text/plain": [
       "tensor(0.7374)"
      ]
     },
     "execution_count": 288,
     "metadata": {},
     "output_type": "execute_result"
    }
   ],
   "source": [
    "y_pred.std()"
   ]
  },
  {
   "cell_type": "markdown",
   "metadata": {},
   "source": [
    "## Ordinary kriging\n",
    "\n",
    "Variogram parameters are set with trail and error."
   ]
  },
  {
   "cell_type": "code",
   "execution_count": 19,
   "metadata": {
    "ExecuteTime": {
     "end_time": "2020-03-01T06:24:46.329202Z",
     "start_time": "2020-03-01T06:24:45.534476Z"
    }
   },
   "outputs": [
    {
     "name": "stdout",
     "output_type": "stream",
     "text": [
      "Plotting Enabled\n",
      "\n",
      "Adjusting data for anisotropy...\n",
      "Initializing variogram model...\n",
      "Coordinates type: 'euclidean' \n",
      "\n",
      "Using 'spherical' Variogram Model\n",
      "Partial Sill: 9500\n",
      "Full Sill: 13500\n",
      "Range: 900\n",
      "Nugget: 4000 \n",
      "\n"
     ]
    },
    {
     "data": {
      "image/png": "[encoded data removed]",
      "text/plain": [
       "<Figure size 432x288 with 1 Axes>"
      ]
     },
     "metadata": {
      "needs_background": "light"
     },
     "output_type": "display_data"
    },
    {
     "name": "stdout",
     "output_type": "stream",
     "text": [
      "Calculating statistics on variogram model fit...\n",
      "Executing Ordinary Kriging...\n",
      "\n",
      "Executing Ordinary Kriging...\n",
      "\n"
     ]
    }
   ],
   "source": [
    "model = OrdinaryKriging(x=meuse_train['x'], y=meuse_train['y'], z=meuse_train['lead'], verbose=True,\n",
    "                variogram_parameters=[13500, 900, 4000],\n",
    "                enable_plotting=True, nlags=30, weight=True, variogram_model='spherical')\n",
    "meuse_train['prediction'] = model.execute(style='points',xpoints=meuse_train['x'], ypoints=meuse_train['y'] )[0].data\n",
    "meuse_train['kriging_residual'] = meuse_train['lead'] - meuse_train['prediction']\n",
    "meuse_test['prediction'] = model.execute(style='points', xpoints=meuse_test['x'], ypoints=meuse_test['y'] )[0].data\n",
    "meuse_test['kriging_residual'] = meuse_test['lead'] - meuse_test['prediction']"
   ]
  },
  {
   "cell_type": "markdown",
   "metadata": {},
   "source": [
    "## Model performance\n",
    "\n",
    "- Performance on training data (kriging is an exact interpollator, so perfect prediction)\n",
    "- Performance on test data"
   ]
  },
  {
   "cell_type": "code",
   "execution_count": 20,
   "metadata": {
    "ExecuteTime": {
     "end_time": "2020-03-01T06:24:47.748214Z",
     "start_time": "2020-03-01T06:24:46.331736Z"
    }
   },
   "outputs": [
    {
     "data": {
      "image/png": "[encoded data removed]",
      "text/plain": [
       "<Figure size 432x432 with 4 Axes>"
      ]
     },
     "metadata": {
      "needs_background": "light"
     },
     "output_type": "display_data"
    }
   ],
   "source": [
    "plt.figure(figsize=(6,6))\n",
    "plt.subplot(221)\n",
    "plt.plot(meuse_train['prediction'], meuse_train['lead'], '.')\n",
    "plt.title('Training: pred vs obs')\n",
    "plt.xlabel('Predictions')\n",
    "plt.ylabel('True value')\n",
    "plt.plot([0,700], [0,700], 'g--')\n",
    "plt.ylim(0,700)\n",
    "plt.xlim(0,700)\n",
    "plt.subplot(222)\n",
    "meuse_train['kriging_residual'].hist()\n",
    "plt.title('Hist training res\\nMedian absolute error: {:.1f}'.format(np.median(np.abs(meuse_train['kriging_residual']))))\n",
    "plt.subplot(223)\n",
    "plt.plot(meuse_test['prediction'], meuse_test['lead'], '.')\n",
    "plt.plot([0,700], [0,700], 'g--')\n",
    "plt.title('Test: pred vs obs')\n",
    "plt.xlabel('Predictions')\n",
    "plt.ylabel('True value')\n",
    "plt.ylim(0,700)\n",
    "plt.xlim(0,700)\n",
    "plt.subplot(224)\n",
    "meuse_test['kriging_residual'].hist()\n",
    "plt.title('Hist test res\\nMedian absolute error: {:.1f}'.format(np.median(np.abs(meuse_test['kriging_residual']))))\n",
    "plt.tight_layout()"
   ]
  },
  {
   "cell_type": "markdown",
   "metadata": {},
   "source": [
    "## Benchmark with Nearest Neighbours regression\n",
    "\n",
    "Optimise number of neighbours with sklearn gridsearch"
   ]
  },
  {
   "cell_type": "code",
   "execution_count": 21,
   "metadata": {
    "ExecuteTime": {
     "end_time": "2020-03-01T06:24:48.133422Z",
     "start_time": "2020-03-01T06:24:47.750949Z"
    }
   },
   "outputs": [
    {
     "name": "stderr",
     "output_type": "stream",
     "text": [
      "/home/wassname/.pyenv/versions/jup3.7.3/lib/python3.7/site-packages/sklearn/model_selection/_split.py:1978: FutureWarning: The default value of cv will change from 3 to 5 in version 0.22. Specify it explicitly to silence this warning.\n",
      "  warnings.warn(CV_WARNING, FutureWarning)\n"
     ]
    },
    {
     "name": "stdout",
     "output_type": "stream",
     "text": [
      "Optimal number of neighbours {'n_neighbors': 4}\n"
     ]
    },
    {
     "name": "stderr",
     "output_type": "stream",
     "text": [
      "/home/wassname/.pyenv/versions/jup3.7.3/lib/python3.7/site-packages/sklearn/model_selection/_search.py:813: DeprecationWarning: The default of the `iid` parameter will change from True to False in version 0.22 and will be removed in 0.24. This will change numeric results when test-set sizes are unequal.\n",
      "  DeprecationWarning)\n"
     ]
    }
   ],
   "source": [
    "parameters = {'n_neighbors':np.arange(1,10)}\n",
    "nn_model = KNeighborsRegressor()\n",
    "nn_model_cv = GridSearchCV(nn_model, parameters)\n",
    "nn_model_cv = nn_model_cv.fit(meuse_train[['x', 'y']], meuse_train['lead']) \n",
    "print('Optimal number of neighbours {}'.format(nn_model_cv.best_params_))\n",
    "nn_model = nn_model_cv.best_estimator_\n",
    "meuse_test['nn_prediction'] = nn_model.predict(meuse_test[['x', 'y']])\n",
    "meuse_test['nn_residual'] = meuse_test['lead'] - meuse_test['nn_prediction']"
   ]
  },
  {
   "cell_type": "code",
   "execution_count": null,
   "metadata": {
    "ExecuteTime": {
     "end_time": "2020-03-01T06:06:37.015399Z",
     "start_time": "2020-03-01T06:06:36.920824Z"
    }
   },
   "outputs": [],
   "source": []
  },
  {
   "cell_type": "code",
   "execution_count": null,
   "metadata": {
    "ExecuteTime": {
     "end_time": "2020-03-01T06:06:53.203456Z",
     "start_time": "2020-03-01T06:06:53.153655Z"
    }
   },
   "outputs": [],
   "source": []
  },
  {
   "cell_type": "code",
   "execution_count": 313,
   "metadata": {
    "ExecuteTime": {
     "end_time": "2020-03-01T07:05:11.207044Z",
     "start_time": "2020-03-01T07:05:10.839063Z"
    }
   },
   "outputs": [
    {
     "data": {
      "text/plain": [
       "Text(0.5, 1.0, 'Compairing residuals\\nmedian abs res NN: 38.8, Kriging 33.7, NP: 29.6\\nmean abs res NN: 66.1, Kriging: 62.5, NP: 59.1')"
      ]
     },
     "execution_count": 313,
     "metadata": {},
     "output_type": "execute_result"
    },
    {
     "data": {
      "image/png": "[encoded data removed]",
      "text/plain": [
       "<Figure size 288x288 with 1 Axes>"
      ]
     },
     "metadata": {},
     "output_type": "display_data"
    }
   ],
   "source": [
    "sb.set_style(\"whitegrid\")\n",
    "plt.figure(figsize=(4,4))\n",
    "sb.boxplot(data=meuse_test[[\"nn_residual\",\"kriging_residual\",\"np_residual\"]] )\n",
    "plt.title('''Compairing residuals\n",
    "median abs res NN: {:.1f}, Kriging {:.1f}, NP: {:.1f}\n",
    "mean abs res NN: {:.1f}, Kriging: {:.1f}, NP: {:.1f}'''\\\n",
    "          .format(\n",
    "    np.median(np.abs(meuse_test['nn_residual'])), \n",
    "    np.median(np.abs(meuse_test['kriging_residual'])),\n",
    "    np.median(np.abs(meuse_test['np_residual'])),\n",
    "    np.mean(np.abs(meuse_test['nn_residual'])), \n",
    "    np.mean(np.abs(meuse_test['kriging_residual'])),\n",
    "    np.mean(np.abs(meuse_test['np_residual']))\n",
    "))"
   ]
  },
  {
   "cell_type": "markdown",
   "metadata": {},
   "source": [
    "## Help functions to sample a grid from a polygon\n",
    "\n",
    "As found on http://portolan.leaffan.net/creating-sample-points-with-ogr-and-shapely-pt-2-regular-grid-sampling/"
   ]
  },
  {
   "cell_type": "code",
   "execution_count": 292,
   "metadata": {
    "ExecuteTime": {
     "end_time": "2020-03-01T07:01:25.663797Z",
     "start_time": "2020-03-01T07:01:25.597537Z"
    }
   },
   "outputs": [],
   "source": [
    "class PolygonPointSampler(object):\n",
    " \n",
    "    def __init__(self, polygon=''):\n",
    "        u\"\"\"\n",
    "        Initialize a new PolygonPointSampler object using the specified polygon\n",
    "        object (as allocated by Shapely). If no polygon is given a new empty\n",
    "        one is created and set as the base polygon.\n",
    "        \"\"\"\n",
    "        if polygon:\n",
    "            self.polygon = polygon\n",
    "        else:\n",
    "            self.polygon = Polygon()\n",
    "        self.samples = list()\n",
    "        self.sample_count = 0\n",
    "        self.prepared = False\n",
    " \n",
    "    def add_polygon(self, polygon):\n",
    "        u\"\"\"\n",
    "        Add another polygon entity to the base polygon by geometrically unifying\n",
    "        it with the current one.\n",
    "        \"\"\"\n",
    "        self.polygon = self.polygon.union(polygon)\n",
    "        self.prepared = False\n",
    "    \n",
    "    def get_spatial_df(self):\n",
    "        geo_df = pd.DataFrame(self.samples, columns=['geometry']).set_geometry('geometry')\n",
    "        geo_df['x'] = geo_df['geometry'].apply(lambda x: x.coords[0][0])\n",
    "        geo_df['y'] = geo_df['geometry'].apply(lambda x: x.coords[0][1])\n",
    "        return geo_df\n",
    " \n",
    "    def print_samples(self):\n",
    "        u\"\"\"\n",
    "        Print all sample points using their WKT representation.\n",
    "        \"\"\"\n",
    "        for sample_pt in self.samples:\n",
    "            print(sample_pt)\n",
    " \n",
    "    def prepare_sampling(self):\n",
    "        u\"\"\"\n",
    "        Prepare the actual sampling procedure by splitting up the specified base\n",
    "        polygon (that may consist of multiple simple polygons) and appending its\n",
    "        compartments to a dedicated list.\n",
    "        \"\"\"\n",
    "        self.src = list()\n",
    "        if hasattr(self.polygon, 'geoms'):\n",
    "            for py in self.polygon:\n",
    "                self.src.append(py)\n",
    "        else:\n",
    "            self.src.append(self.polygon)\n",
    "        self.prepared = True\n",
    " \n",
    "    def perform_sampling(self):\n",
    "        u\"\"\"\n",
    "        Create a stub for the actual sampling procedure.\n",
    "        \"\"\"\n",
    "        raise NotImplementedError\n",
    "    \n",
    "class RegularGridSampler(PolygonPointSampler):\n",
    "    def __init__(self, polygon = '', x_interval = 100, y_interval = 100):\n",
    "        super(self.__class__, self).__init__(polygon)\n",
    "        self.x_interval = x_interval\n",
    "        self.y_interval = y_interval\n",
    "    \n",
    "    def perform_sampling(self):\n",
    "        u\"\"\"\n",
    "        Perform sampling by substituting the polygon with a regular grid of\n",
    "        sample points within it. The distance between the sample points is\n",
    "        given by x_interval and y_interval.\n",
    "        \"\"\"\n",
    "        if not self.prepared:\n",
    "            self.prepare_sampling()\n",
    "        ll = self.polygon.bounds[:2]\n",
    "        ur = self.polygon.bounds[2:]\n",
    "        low_x = int(ll[0]) / self.x_interval * self.x_interval\n",
    "        upp_x = int(ur[0]) / self.x_interval * self.x_interval + self.x_interval\n",
    "        low_y = int(ll[1]) / self.y_interval * self.y_interval\n",
    "        upp_y = int(ur[1]) / self.y_interval * self.y_interval + self.y_interval\n",
    "        \n",
    "        for x in floatrange(low_x, upp_x, self.x_interval):\n",
    "            for y in floatrange(low_y, upp_y, self.y_interval):\n",
    "                p = shapely.geometry.Point(x, y)\n",
    "                if p.within(self.polygon):\n",
    "                    self.samples.append(p)\n",
    "\n",
    "def floatrange(start, stop, step):\n",
    "    while start < stop:\n",
    "        yield start\n",
    "        start += step\n"
   ]
  },
  {
   "cell_type": "markdown",
   "metadata": {},
   "source": [
    "## Sample a grid \n",
    "\n",
    "- Find the convex hull surrounding the measurements\n",
    "- Sample a grid as found with the help functions"
   ]
  },
  {
   "cell_type": "code",
   "execution_count": 200,
   "metadata": {
    "ExecuteTime": {
     "end_time": "2020-03-01T06:49:14.231338Z",
     "start_time": "2020-03-01T06:49:12.661827Z"
    }
   },
   "outputs": [
    {
     "data": {
      "text/plain": [
       "Text(0.5, 1.0, 'Sampled grid')"
      ]
     },
     "execution_count": 200,
     "metadata": {},
     "output_type": "execute_result"
    },
    {
     "data": {
      "image/png": "[encoded data removed]",
      "text/plain": [
       "<Figure size 288x288 with 1 Axes>"
      ]
     },
     "metadata": {},
     "output_type": "display_data"
    }
   ],
   "source": [
    "convex_hull = shapely.geometry.MultiPoint(list(meuse.geometry)).convex_hull.buffer(150)\n",
    "sampler = RegularGridSampler(convex_hull, x_interval=50, y_interval=50)\n",
    "sampler.perform_sampling()\n",
    "grid_points = sampler.get_spatial_df()\n",
    "plt.figure(figsize=(4,4))\n",
    "plt.plot(grid_points['x'], grid_points['y'], '.')\n",
    "plt.plot(meuse['x'], meuse['y'], 'r.')\n",
    "plt.title('Sampled grid')"
   ]
  },
  {
   "cell_type": "markdown",
   "metadata": {},
   "source": [
    "## Krige a value for each grid point"
   ]
  },
  {
   "cell_type": "code",
   "execution_count": 236,
   "metadata": {
    "ExecuteTime": {
     "end_time": "2020-03-01T06:53:44.690784Z",
     "start_time": "2020-03-01T06:53:44.397603Z"
    }
   },
   "outputs": [
    {
     "name": "stdout",
     "output_type": "stream",
     "text": [
      "Executing Ordinary Kriging...\n",
      "\n"
     ]
    },
    {
     "data": {
      "text/plain": [
       "0       167.533207\n",
       "1       175.753583\n",
       "2       184.932826\n",
       "3       194.366381\n",
       "4       203.384432\n",
       "           ...    \n",
       "2804    121.367288\n",
       "2805    124.144690\n",
       "2806    126.814410\n",
       "2807    129.157394\n",
       "2808    131.384357\n",
       "Name: prediction, Length: 2809, dtype: float64"
      ]
     },
     "execution_count": 236,
     "metadata": {},
     "output_type": "execute_result"
    }
   ],
   "source": [
    "grid_points['prediction'] = model.execute(style='points', xpoints=grid_points['x'], ypoints=grid_points['y'])[0].data\n",
    "grid_points['prediction']"
   ]
  },
  {
   "cell_type": "markdown",
   "metadata": {},
   "source": [
    "## Transform data for a map\n",
    "\n",
    "- Transform to lat long projection\n",
    "- From long to wide format\n",
    "- Fill in missing values"
   ]
  },
  {
   "cell_type": "code",
   "execution_count": 118,
   "metadata": {
    "ExecuteTime": {
     "end_time": "2020-03-01T06:41:10.392142Z",
     "start_time": "2020-03-01T06:41:09.547082Z"
    }
   },
   "outputs": [
    {
     "name": "stderr",
     "output_type": "stream",
     "text": [
      "/home/wassname/.pyenv/versions/jup3.7.3/lib/python3.7/site-packages/pyproj/crs/crs.py:55: FutureWarning: '+init=<authority>:<code>' syntax is deprecated. '<authority>:<code>' is the preferred initialization method. When making the change, be mindful of axis order changes: https://pyproj4.github.io/pyproj/stable/gotchas.html#axis-order-changes-in-proj-6\n",
      "  return _prepare_from_string(\" \".join(pjargs))\n"
     ]
    }
   ],
   "source": [
    "grid_points_gpd = grid_points.set_geometry('geometry')\n",
    "grid_points_gpd.crs = {'init':'epsg:28992'}\n",
    "grid_points_gpd = grid_points_gpd.to_crs({'init': 'epsg:4326'})\n",
    "grid_points_gpd['long'] = grid_points_gpd.geometry.apply(lambda x: x.x)\n",
    "grid_points_gpd['lat'] = grid_points_gpd.geometry.apply(lambda x: x.y)"
   ]
  },
  {
   "cell_type": "code",
   "execution_count": 119,
   "metadata": {
    "ExecuteTime": {
     "end_time": "2020-03-01T06:41:10.473189Z",
     "start_time": "2020-03-01T06:41:10.395083Z"
    }
   },
   "outputs": [],
   "source": [
    "grid_points_pivot = grid_points_gpd.pivot(values='prediction', columns='x', index='y').fillna(0)\n",
    "grid_points_pivot = grid_points_pivot.loc[:,grid_points_pivot.columns.sort_values(ascending=True)]\n",
    "grid_points_pivot = grid_points_pivot.loc[grid_points_pivot.index.sort_values(ascending=True),:]"
   ]
  },
  {
   "cell_type": "code",
   "execution_count": null,
   "metadata": {
    "ExecuteTime": {
     "end_time": "2020-03-01T06:41:11.311057Z",
     "start_time": "2020-03-01T06:41:10.475768Z"
    }
   },
   "outputs": [],
   "source": []
  },
  {
   "cell_type": "code",
   "execution_count": 123,
   "metadata": {
    "ExecuteTime": {
     "end_time": "2020-03-01T06:41:40.156030Z",
     "start_time": "2020-03-01T06:41:39.287629Z"
    }
   },
   "outputs": [
    {
     "data": {
      "text/plain": [
       "<matplotlib.colorbar.Colorbar at 0x7fcb7f16d978>"
      ]
     },
     "execution_count": 123,
     "metadata": {},
     "output_type": "execute_result"
    },
    {
     "data": {
      "image/png": "[encoded data removed]",
      "text/plain": [
       "<Figure size 432x288 with 2 Axes>"
      ]
     },
     "metadata": {},
     "output_type": "display_data"
    }
   ],
   "source": [
    "plt.contourf(np.unique(grid_points_pivot.columns.values), np.unique(grid_points_pivot.index.values), \n",
    "             grid_points_pivot.values,20,cmap='GnBu', vmin=0, vmax=400)\n",
    "plt.scatter(meuse['x'], meuse['y'], c=meuse['lead'], cmap='GnBu', vmin=0, vmax=400)\n",
    "plt.plot(meuse['x'], meuse['y'], '.', ms=1)\n",
    "plt.title('Kriged grid values')\n",
    "plt.colorbar()"
   ]
  },
  {
   "cell_type": "code",
   "execution_count": null,
   "metadata": {
    "ExecuteTime": {
     "end_time": "2020-03-01T06:42:01.925607Z",
     "start_time": "2020-03-01T06:42:01.865559Z"
    }
   },
   "outputs": [],
   "source": []
  },
  {
   "cell_type": "markdown",
   "metadata": {},
   "source": [
    "## NP Plot"
   ]
  },
  {
   "cell_type": "code",
   "execution_count": 307,
   "metadata": {
    "ExecuteTime": {
     "end_time": "2020-03-01T07:04:35.794206Z",
     "start_time": "2020-03-01T07:04:35.629077Z"
    }
   },
   "outputs": [],
   "source": [
    "grid_points = sampler.get_spatial_df()"
   ]
  },
  {
   "cell_type": "code",
   "execution_count": 308,
   "metadata": {
    "ExecuteTime": {
     "end_time": "2020-03-01T07:04:35.859432Z",
     "start_time": "2020-03-01T07:04:35.796746Z"
    }
   },
   "outputs": [],
   "source": [
    "target_x = grid_points[['x', 'y']].copy()\n",
    "target_x-=norm_mean[['x', 'y']]\n",
    "target_x/=norm_std[['x', 'y']]\n",
    "\n",
    "df = meuse[['x', 'y', 'lead']].copy()\n",
    "df-=norm_mean\n",
    "df/=norm_std\n",
    "context_x = df[['x', 'y']]\n",
    "context_y = df['lead']\n",
    "\n",
    "context_x = torch.from_numpy(context_x.values).float()[None, :]\n",
    "context_y = torch.from_numpy(context_y.values).float()[None, :, None]\n",
    "target_x = torch.from_numpy(target_x.values).float()[None, :]"
   ]
  },
  {
   "cell_type": "code",
   "execution_count": 309,
   "metadata": {
    "ExecuteTime": {
     "end_time": "2020-03-01T07:04:36.726619Z",
     "start_time": "2020-03-01T07:04:35.883061Z"
    }
   },
   "outputs": [],
   "source": [
    "# Make predictions\n",
    "model_np.eval()\n",
    "with torch.no_grad():\n",
    "\n",
    "    y_pred, losses, extra = model_np.forward(context_x, context_y, target_x, target_x[:, :, :1])\n",
    "y = y_pred*norm_std['lead'] + norm_mean['lead']\n",
    "# return yr, y_pred, losses, extra \n",
    "grid_points['prediction'] = y[0, :, 0]\n",
    "# y"
   ]
  },
  {
   "cell_type": "code",
   "execution_count": 310,
   "metadata": {
    "ExecuteTime": {
     "end_time": "2020-03-01T07:04:37.376413Z",
     "start_time": "2020-03-01T07:04:36.728964Z"
    }
   },
   "outputs": [
    {
     "name": "stderr",
     "output_type": "stream",
     "text": [
      "/home/wassname/.pyenv/versions/jup3.7.3/lib/python3.7/site-packages/pyproj/crs/crs.py:55: FutureWarning: '+init=<authority>:<code>' syntax is deprecated. '<authority>:<code>' is the preferred initialization method. When making the change, be mindful of axis order changes: https://pyproj4.github.io/pyproj/stable/gotchas.html#axis-order-changes-in-proj-6\n",
      "  return _prepare_from_string(\" \".join(pjargs))\n"
     ]
    }
   ],
   "source": [
    "grid_points_gpd = grid_points.set_geometry('geometry')\n",
    "grid_points_gpd.crs = {'init':'epsg:28992'}\n",
    "grid_points_gpd = grid_points_gpd.to_crs({'init': 'epsg:4326'})\n",
    "grid_points_gpd['long'] = grid_points_gpd.geometry.apply(lambda x: x.x)\n",
    "grid_points_gpd['lat'] = grid_points_gpd.geometry.apply(lambda x: x.y)"
   ]
  },
  {
   "cell_type": "code",
   "execution_count": 311,
   "metadata": {
    "ExecuteTime": {
     "end_time": "2020-03-01T07:04:37.426989Z",
     "start_time": "2020-03-01T07:04:37.379236Z"
    }
   },
   "outputs": [],
   "source": [
    "grid_points_pivot = grid_points_gpd.pivot(values='prediction', columns='x', index='y').fillna(0)\n",
    "grid_points_pivot = grid_points_pivot.loc[:,grid_points_pivot.columns.sort_values(ascending=True)]\n",
    "grid_points_pivot = grid_points_pivot.loc[grid_points_pivot.index.sort_values(ascending=True),:]"
   ]
  },
  {
   "cell_type": "code",
   "execution_count": 312,
   "metadata": {
    "ExecuteTime": {
     "end_time": "2020-03-01T07:04:38.143899Z",
     "start_time": "2020-03-01T07:04:37.429317Z"
    }
   },
   "outputs": [
    {
     "data": {
      "text/plain": [
       "Text(0.5, 1.0, 'NP grid values')"
      ]
     },
     "execution_count": 312,
     "metadata": {},
     "output_type": "execute_result"
    },
    {
     "data": {
      "image/png": "[encoded data removed]",
      "text/plain": [
       "<Figure size 432x288 with 2 Axes>"
      ]
     },
     "metadata": {},
     "output_type": "display_data"
    }
   ],
   "source": [
    "plt.contourf(np.unique(grid_points_pivot.columns.values), np.unique(grid_points_pivot.index.values), \n",
    "             grid_points_pivot.values,20,cmap='GnBu', vmin=0, vmax=400)\n",
    "plt.scatter(meuse['x'], meuse['y'], c=meuse['lead'], cmap='GnBu', vmin=0, vmax=400)\n",
    "plt.plot(meuse['x'], meuse['y'], '.', ms=1)\n",
    "plt.colorbar()\n",
    "plt.title('NP grid values')\n"
   ]
  },
  {
   "cell_type": "code",
   "execution_count": null,
   "metadata": {
    "ExecuteTime": {
     "end_time": "2020-03-01T06:40:25.396674Z",
     "start_time": "2020-03-01T06:40:25.332327Z"
    }
   },
   "outputs": [],
   "source": []
  },
  {
   "cell_type": "code",
   "execution_count": null,
   "metadata": {
    "ExecuteTime": {
     "end_time": "2020-03-01T06:38:52.016630Z",
     "start_time": "2020-03-01T06:38:51.965367Z"
    }
   },
   "outputs": [],
   "source": []
  },
  {
   "cell_type": "code",
   "execution_count": null,
   "metadata": {
    "ExecuteTime": {
     "end_time": "2020-03-01T06:39:44.623253Z",
     "start_time": "2020-03-01T06:39:43.865906Z"
    }
   },
   "outputs": [],
   "source": []
  },
  {
   "cell_type": "markdown",
   "metadata": {},
   "source": [
    "## Folium plot"
   ]
  },
  {
   "cell_type": "code",
   "execution_count": null,
   "metadata": {
    "ExecuteTime": {
     "end_time": "2020-03-01T06:23:22.601884Z",
     "start_time": "2020-03-01T06:22:48.800Z"
    }
   },
   "outputs": [],
   "source": [
    "def color_function(value):\n",
    "    if (value==0) | (value==np.nan) : return (0,0,0,0)\n",
    "    else: \n",
    "        color = matplotlib.cm.YlOrRd(value) \n",
    "        return color"
   ]
  },
  {
   "cell_type": "code",
   "execution_count": null,
   "metadata": {
    "ExecuteTime": {
     "end_time": "2020-03-01T06:23:22.604048Z",
     "start_time": "2020-03-01T06:22:48.800Z"
    }
   },
   "outputs": [],
   "source": [
    "m = folium.Map([mean_lat, mean_long], zoom_start=13, tiles='Stamen Toner')\n",
    "m.add_children(plugins.ImageOverlay(image = (grid_points_pivot.values/np.nanmax(grid_points_pivot.values)), \n",
    "                                           opacity=0.7,origin='lower',\n",
    "                                           colormap=color_function,\n",
    "                                   bounds = [[np.min(grid_points_gpd['lat']), np.min(grid_points_gpd['long'])],\n",
    "                                            [np.max(grid_points_gpd['lat']), np.max(grid_points_gpd['long'])]]))\n",
    "for row in meuse_lat_long.iterrows():\n",
    "    folium.CircleMarker(location=[row[1]['lat'], row[1]['long']], radius=50, color=None, fill_opacity=1,\n",
    "                    fill_color=scale(row[1][feature_to_plot])).add_to(m)\n",
    "m.add_children(scale)"
   ]
  },
  {
   "cell_type": "code",
   "execution_count": null,
   "metadata": {},
   "outputs": [],
   "source": []
  },
  {
   "cell_type": "code",
   "execution_count": null,
   "metadata": {},
   "outputs": [],
   "source": []
  },
  {
   "cell_type": "code",
   "execution_count": null,
   "metadata": {},
   "outputs": [],
   "source": []
  },
  {
   "cell_type": "code",
   "execution_count": null,
   "metadata": {},
   "outputs": [],
   "source": []
  },
  {
   "cell_type": "code",
   "execution_count": null,
   "metadata": {},
   "outputs": [],
   "source": []
  }
 ],
 "metadata": {
  "anaconda-cloud": {},
  "kernelspec": {
   "display_name": "jup3.7.3",
   "language": "python",
   "name": "jup3.7.3"
  },
  "toc": {
   "base_numbering": 1,
   "nav_menu": {},
   "number_sections": true,
   "sideBar": true,
   "skip_h1_title": false,
   "title_cell": "Table of Contents",
   "title_sidebar": "Contents",
   "toc_cell": false,
   "toc_position": {
    "height": "calc(100% - 180px)",
    "left": "10px",
    "top": "150px",
    "width": "272px"
   },
   "toc_section_display": true,
   "toc_window_display": true
  }
 },
 "nbformat": 4,
 "nbformat_minor": 1
}
