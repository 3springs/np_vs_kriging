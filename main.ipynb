{
 "cells": [
  {
   "cell_type": "markdown",
   "metadata": {},
   "source": [
    "# About this notebook\n",
    "\n",
    "In this notebook the ordinary kriging algorithm is used to predict the amount of lead in the soil of the riverbank Meuse in the Netherlands. This is one of the textbook examples in Spatial statistics. The performance of making predictions with kriging is benchmarked with a simple nearest neighbours model. Finally a map is made by predicting a grid. The map is plot as a heatmap on top on an interactive map.\n",
    "\n",
    "Modified from https://raw.githubusercontent.com/GeoStat-Framework/PyKrige/master/examples/kriging_meuse.ipynb"
   ]
  },
  {
   "cell_type": "code",
   "execution_count": 23,
   "metadata": {
    "ExecuteTime": {
     "end_time": "2020-03-02T04:17:30.404768Z",
     "start_time": "2020-03-02T04:17:30.388454Z"
    }
   },
   "outputs": [],
   "source": [
    "# This example requires some extra packages compared to the PyKrige package. \n",
    "# At the time of the creation, I used the conda package manager\n",
    "# and installed the following (with the versions at the time):\n",
    "# pandas 0.18.1, geopandas 0.2.1, seaborn 0.7.1, folium 0.2.1, shapely 1.5.16\n",
    "# If you use pip, \"pip install geopandas folium seaborn\" should work to.\n",
    "import os\n",
    "import requests\n",
    "import zipfile\n",
    "import geopandas as gpd\n",
    "import shapely\n",
    "import pandas as pd\n",
    "import matplotlib.pyplot as plt\n",
    "import matplotlib\n",
    "import numpy as np\n",
    "import folium\n",
    "from folium import plugins\n",
    "%matplotlib inline\n",
    "from pykrige.ok import OrdinaryKriging\n",
    "from sklearn.neighbors import KNeighborsRegressor\n",
    "from sklearn.model_selection import GridSearchCV\n",
    "import pykrige.kriging_tools as kt\n",
    "import seaborn as sb\n",
    "from IPython.core.display import HTML\n",
    "# HTML(\"<style>.container { width:70% !important; }</style>\")"
   ]
  },
  {
   "cell_type": "markdown",
   "metadata": {},
   "source": [
    "## Download and import the shapefile\n",
    "\n",
    "- Download the zipfile from http://spatial-analyst.net/book/meusegrids\n",
    "- Extract the zipfile\n",
    "- Delete the zipfile"
   ]
  },
  {
   "cell_type": "code",
   "execution_count": 2,
   "metadata": {
    "ExecuteTime": {
     "end_time": "2020-03-02T04:15:57.093743Z",
     "start_time": "2020-03-02T04:15:24.384808Z"
    }
   },
   "outputs": [
    {
     "name": "stdout",
     "output_type": "stream",
     "text": [
      "Status code download: 200\n"
     ]
    }
   ],
   "source": [
    "if(~os.path.isfile('./data/meuse.zip')):\n",
    "    url = 'http://spatial-analyst.net/book/system/files/meuse.zip'\n",
    "    results = requests.get(url)\n",
    "    print('Status code download: {}'.format(results.status_code))\n",
    "with open('./data/meuse.zip', 'wb') as f:\n",
    "    f.write(results.content)\n",
    "zip_ref = zipfile.ZipFile('./data/meuse.zip', 'r')\n",
    "zip_ref.extractall('./data/meuse_example_data/')\n",
    "zip_ref.close()\n",
    "# os.remove('./data/meuse.zip')"
   ]
  },
  {
   "cell_type": "code",
   "execution_count": 3,
   "metadata": {
    "ExecuteTime": {
     "end_time": "2020-03-02T04:15:57.444255Z",
     "start_time": "2020-03-02T04:15:57.097289Z"
    }
   },
   "outputs": [
    {
     "name": "stderr",
     "output_type": "stream",
     "text": [
      "/home/wassname/.pyenv/versions/jup3.7.3/lib/python3.7/site-packages/pyproj/crs/crs.py:55: FutureWarning: '+init=<authority>:<code>' syntax is deprecated. '<authority>:<code>' is the preferred initialization method. When making the change, be mindful of axis order changes: https://pyproj4.github.io/pyproj/stable/gotchas.html#axis-order-changes-in-proj-6\n",
      "  return _prepare_from_string(\" \".join(pjargs))\n"
     ]
    },
    {
     "data": {
      "text/html": [
       "<div>\n",
       "<style scoped>\n",
       "    .dataframe tbody tr th:only-of-type {\n",
       "        vertical-align: middle;\n",
       "    }\n",
       "\n",
       "    .dataframe tbody tr th {\n",
       "        vertical-align: top;\n",
       "    }\n",
       "\n",
       "    .dataframe thead th {\n",
       "        text-align: right;\n",
       "    }\n",
       "</style>\n",
       "<table border=\"1\" class=\"dataframe\">\n",
       "  <thead>\n",
       "    <tr style=\"text-align: right;\">\n",
       "      <th></th>\n",
       "      <th>cadmium</th>\n",
       "      <th>copper</th>\n",
       "      <th>lead</th>\n",
       "      <th>zinc</th>\n",
       "      <th>elev</th>\n",
       "      <th>dist</th>\n",
       "      <th>om</th>\n",
       "      <th>ffreq</th>\n",
       "      <th>soil</th>\n",
       "      <th>lime</th>\n",
       "      <th>landuse</th>\n",
       "      <th>dist.m</th>\n",
       "      <th>geometry</th>\n",
       "      <th>x</th>\n",
       "      <th>y</th>\n",
       "    </tr>\n",
       "  </thead>\n",
       "  <tbody>\n",
       "    <tr>\n",
       "      <th>129</th>\n",
       "      <td>1.6</td>\n",
       "      <td>34.0</td>\n",
       "      <td>162.0</td>\n",
       "      <td>474.0</td>\n",
       "      <td>9.72</td>\n",
       "      <td>0.037337</td>\n",
       "      <td>7.5</td>\n",
       "      <td>2</td>\n",
       "      <td>1</td>\n",
       "      <td>0</td>\n",
       "      <td>W</td>\n",
       "      <td>170.0</td>\n",
       "      <td>POINT (180700.000 332882.000)</td>\n",
       "      <td>180700.0</td>\n",
       "      <td>332882.0</td>\n",
       "    </tr>\n",
       "  </tbody>\n",
       "</table>\n",
       "</div>"
      ],
      "text/plain": [
       "     cadmium  copper   lead   zinc  elev      dist   om ffreq soil lime  \\\n",
       "129      1.6    34.0  162.0  474.0  9.72  0.037337  7.5     2    1    0   \n",
       "\n",
       "    landuse  dist.m                       geometry         x         y  \n",
       "129       W   170.0  POINT (180700.000 332882.000)  180700.0  332882.0  "
      ]
     },
     "execution_count": 3,
     "metadata": {},
     "output_type": "execute_result"
    }
   ],
   "source": [
    "meuse = gpd.read_file('data/meuse_example_data/meuse.shp')\n",
    "meuse.crs = {'init':'epsg:28992'}\n",
    "meuse['x'] = meuse['geometry'].apply(lambda x: x.x)\n",
    "meuse['y'] = meuse['geometry'].apply(lambda x: x.y)\n",
    "meuse.sample()"
   ]
  },
  {
   "cell_type": "markdown",
   "metadata": {},
   "source": [
    "## Spatial plot"
   ]
  },
  {
   "cell_type": "code",
   "execution_count": 4,
   "metadata": {
    "ExecuteTime": {
     "end_time": "2020-03-02T04:15:57.754156Z",
     "start_time": "2020-03-02T04:15:57.446908Z"
    }
   },
   "outputs": [
    {
     "data": {
      "text/plain": [
       "<matplotlib.axes._subplots.AxesSubplot at 0x7fdf1ea040b8>"
      ]
     },
     "execution_count": 4,
     "metadata": {},
     "output_type": "execute_result"
    },
    {
     "data": {
      "image/png": "[encoded data removed]",
      "text/plain": [
       "<Figure size 432x288 with 1 Axes>"
      ]
     },
     "metadata": {
      "needs_background": "light"
     },
     "output_type": "display_data"
    }
   ],
   "source": [
    "meuse.plot('lead')"
   ]
  },
  {
   "cell_type": "code",
   "execution_count": 24,
   "metadata": {
    "ExecuteTime": {
     "end_time": "2020-03-02T04:17:40.689443Z",
     "start_time": "2020-03-02T04:17:38.611912Z"
    },
    "scrolled": false
   },
   "outputs": [
    {
     "name": "stderr",
     "output_type": "stream",
     "text": [
      "/home/wassname/.pyenv/versions/jup3.7.3/lib/python3.7/site-packages/pyproj/crs/crs.py:55: FutureWarning: '+init=<authority>:<code>' syntax is deprecated. '<authority>:<code>' is the preferred initialization method. When making the change, be mindful of axis order changes: https://pyproj4.github.io/pyproj/stable/gotchas.html#axis-order-changes-in-proj-6\n",
      "  return _prepare_from_string(\" \".join(pjargs))\n"
     ]
    },
    {
     "data": {
      "text/html": [
       "<div style=\"width:100%;\"><div style=\"position:relative;width:100%;height:0;padding-bottom:60%;\"><iframe src=\"data:text/html;base64,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\" style=\"position:absolute;width:100%;height:100%;left:0;top:0;\"></iframe></div></div>"
      ],
      "text/plain": [
       "<folium.folium.Map at 0x7fdf1ea32710>"
      ]
     },
     "execution_count": 24,
     "metadata": {},
     "output_type": "execute_result"
    }
   ],
   "source": [
    "feature_to_plot = 'lead'\n",
    "\n",
    "meuse_lat_long = meuse.to_crs({'init': 'epsg:4326'})\n",
    "meuse_lat_long['long'] = meuse_lat_long.geometry.apply(lambda x: x.x)\n",
    "meuse_lat_long['lat'] = meuse_lat_long.geometry.apply(lambda x: x.y)\n",
    "mean_long = np.mean(meuse_lat_long['long'])\n",
    "mean_lat = np.mean(meuse_lat_long['lat'])\n",
    "m = folium.Map([mean_lat, mean_long], zoom_start=13, tiles='Stamen Toner')\n",
    "scale = folium.colormap.linear.YlOrRd.scale(vmin=0, vmax=meuse_lat_long[feature_to_plot].max())\n",
    "for row in meuse_lat_long.iterrows():\n",
    "    folium.CircleMarker(location=[row[1]['lat'], row[1]['long']], radius=50, color=None, fill_opacity=1,\n",
    "                    fill_color=scale(row[1][feature_to_plot])).add_to(m)\n",
    "m.add_children(scale)"
   ]
  },
  {
   "cell_type": "markdown",
   "metadata": {},
   "source": [
    "## Split the data into test and train\n",
    "\n",
    "Control the random split with setting a seed so the results are reproducable."
   ]
  },
  {
   "cell_type": "code",
   "execution_count": 6,
   "metadata": {
    "ExecuteTime": {
     "end_time": "2020-03-02T04:15:59.843868Z",
     "start_time": "2020-03-02T04:15:59.829315Z"
    }
   },
   "outputs": [
    {
     "name": "stdout",
     "output_type": "stream",
     "text": [
      "Number of observations in training: 122, in test: 39\n"
     ]
    }
   ],
   "source": [
    "np.random.seed(0)\n",
    "test_indexes = np.random.choice(a=meuse.index, size=int(np.round(len(meuse.index.values)/4)))\n",
    "train_indexes = [index for index in meuse.index if index not in test_indexes]\n",
    "meuse_test = meuse.loc[test_indexes,:].copy()\n",
    "meuse_train = meuse.loc[train_indexes,:].copy()\n",
    "print('Number of observations in training: {}, in test: {}'.format(len(meuse_train), len(meuse_test)))"
   ]
  },
  {
   "cell_type": "markdown",
   "metadata": {},
   "source": [
    "# Neural Process"
   ]
  },
  {
   "cell_type": "markdown",
   "metadata": {
    "ExecuteTime": {
     "end_time": "2020-03-01T06:23:20.801398Z",
     "start_time": "2020-03-01T06:23:20.738602Z"
    }
   },
   "source": [
    "## Helpers"
   ]
  },
  {
   "cell_type": "code",
   "execution_count": null,
   "metadata": {},
   "outputs": [],
   "source": []
  },
  {
   "cell_type": "code",
   "execution_count": 7,
   "metadata": {
    "ExecuteTime": {
     "end_time": "2020-03-02T04:16:00.267567Z",
     "start_time": "2020-03-02T04:15:59.846646Z"
    }
   },
   "outputs": [],
   "source": [
    "# From https://github.com/3springs/attentive-neural-processes\n",
    "import torch\n",
    "from torch import nn\n",
    "import torch.nn.functional as F\n",
    "import math\n",
    "import numpy as np\n",
    "# from .attention import Attention as PtAttention\n",
    "\n",
    "\n",
    "class LSTMBlock(nn.Module):\n",
    "    def __init__(\n",
    "        self, in_channels, out_channels, dropout=0, batchnorm=False, bias=False, num_layers=1\n",
    "    ):\n",
    "        super().__init__()\n",
    "        self._lstm = nn.LSTM(\n",
    "                input_size=in_channels,\n",
    "                hidden_size=out_channels,\n",
    "                num_layers=num_layers,\n",
    "                dropout=dropout,\n",
    "                batch_first=True,\n",
    "                bias=bias\n",
    "        )\n",
    "\n",
    "    def forward(self, x):\n",
    "        return self._lstm(x)[0]\n",
    "\n",
    "\n",
    "class NPBlockRelu2d(nn.Module):\n",
    "    \"\"\"Block for Neural Processes.\"\"\"\n",
    "\n",
    "    def __init__(\n",
    "        self, in_channels, out_channels, dropout=0, batchnorm=False, bias=False\n",
    "    ):\n",
    "        super().__init__()\n",
    "        self.linear = nn.Linear(in_channels, out_channels, bias=bias)\n",
    "        self.act = nn.ReLU()\n",
    "        self.dropout = nn.Dropout2d(dropout)\n",
    "        self.norm = nn.BatchNorm2d(out_channels) if batchnorm else False\n",
    "\n",
    "    def forward(self, x):\n",
    "        # x.shape is (Batch, Sequence, Channels)\n",
    "        # We pass a linear over it which operates on the Channels\n",
    "        x = self.act(self.linear(x))\n",
    "\n",
    "        # Now we want to apply batchnorm and dropout to the channels. So we put it in shape\n",
    "        # (Batch, Channels, Sequence, None) so we can use Dropout2d & BatchNorm2d\n",
    "        x = x.permute(0, 2, 1)[:, :, :, None]\n",
    "\n",
    "        if self.norm:\n",
    "            x = self.norm(x)\n",
    "\n",
    "        x = self.dropout(x)\n",
    "        return x[:, :, :, 0].permute(0, 2, 1)\n",
    "\n",
    "\n",
    "class BatchMLP(nn.Module):\n",
    "    \"\"\"Apply MLP to the final axis of a 3D tensor (reusing already defined MLPs).\n",
    "\n",
    "    Args:\n",
    "        input: input tensor of shape [B,n,d_in].\n",
    "        output_sizes: An iterable containing the output sizes of the MLP as defined \n",
    "            in `basic.Linear`.\n",
    "    Returns:\n",
    "        tensor of shape [B,n,d_out] where d_out=output_size\n",
    "    \"\"\"\n",
    "\n",
    "    def __init__(\n",
    "        self, input_size, output_size, num_layers=2, dropout=0, batchnorm=False\n",
    "    ):\n",
    "        super().__init__()\n",
    "        self.input_size = input_size\n",
    "        self.output_size = output_size\n",
    "        self.num_layers = num_layers\n",
    "\n",
    "        self.initial = NPBlockRelu2d(\n",
    "            input_size, output_size, dropout=dropout, batchnorm=batchnorm\n",
    "        )\n",
    "        self.encoder = nn.Sequential(\n",
    "            *[\n",
    "                NPBlockRelu2d(\n",
    "                    output_size, output_size, dropout=dropout, batchnorm=batchnorm\n",
    "                )\n",
    "                for _ in range(num_layers - 2)\n",
    "            ]\n",
    "        )\n",
    "        self.final = nn.Linear(output_size, output_size)\n",
    "\n",
    "    def forward(self, x):\n",
    "        x = self.initial(x)\n",
    "        x = self.encoder(x)\n",
    "        return self.final(x)\n",
    "\n",
    "\n",
    "class AttnLinear(nn.Module):\n",
    "    def __init__(self, in_channels, out_channels):\n",
    "        super().__init__()\n",
    "        self.linear = nn.Linear(in_channels, out_channels, bias=False)\n",
    "        torch.nn.init.normal_(self.linear.weight, std=in_channels ** -0.5)\n",
    "\n",
    "    def forward(self, x):\n",
    "        x = self.linear(x)\n",
    "        return x\n",
    "\n",
    "\n",
    "class Attention(nn.Module):\n",
    "    def __init__(\n",
    "        self,\n",
    "        hidden_dim,\n",
    "        attention_type,\n",
    "        attention_layers=2,\n",
    "        n_heads=8,\n",
    "        x_dim=1,\n",
    "        rep=\"mlp\",\n",
    "        dropout=0,\n",
    "        batchnorm=False,\n",
    "    ):\n",
    "        super().__init__()\n",
    "        self._rep = rep\n",
    "\n",
    "        if self._rep == \"mlp\":\n",
    "            self.batch_mlp_k = BatchMLP(\n",
    "                x_dim,\n",
    "                hidden_dim,\n",
    "                attention_layers,\n",
    "                dropout=dropout,\n",
    "                batchnorm=batchnorm,\n",
    "            )\n",
    "            self.batch_mlp_q = BatchMLP(\n",
    "                x_dim,\n",
    "                hidden_dim,\n",
    "                attention_layers,\n",
    "                dropout=dropout,\n",
    "                batchnorm=batchnorm,\n",
    "            )\n",
    "\n",
    "        if attention_type == \"uniform\":\n",
    "            self._attention_func = self._uniform_attention\n",
    "        elif attention_type == \"laplace\":\n",
    "            self._attention_func = self._laplace_attention\n",
    "        elif attention_type == \"dot\":\n",
    "            self._attention_func = self._dot_attention\n",
    "        elif attention_type == \"multihead\":\n",
    "            self._W_k = nn.ModuleList(\n",
    "                [AttnLinear(hidden_dim, hidden_dim) for _ in range(n_heads)]\n",
    "            )\n",
    "            self._W_v = nn.ModuleList(\n",
    "                [AttnLinear(hidden_dim, hidden_dim) for _ in range(n_heads)]\n",
    "            )\n",
    "            self._W_q = nn.ModuleList(\n",
    "                [AttnLinear(hidden_dim, hidden_dim) for _ in range(n_heads)]\n",
    "            )\n",
    "            self._W = AttnLinear(n_heads * hidden_dim, hidden_dim)\n",
    "            self._attention_func = self._multihead_attention\n",
    "            self.n_heads = n_heads\n",
    "        elif attention_type == \"ptmultihead\":\n",
    "            self._W = torch.nn.MultiheadAttention(\n",
    "                hidden_dim, n_heads, bias=False, dropout=dropout\n",
    "            )\n",
    "            self._attention_func = self._pytorch_multihead_attention\n",
    "        else:\n",
    "            raise NotImplementedError\n",
    "\n",
    "    def forward(self, k, v, q):\n",
    "        if self._rep == \"mlp\":\n",
    "            k = self.batch_mlp_k(k)\n",
    "            q = self.batch_mlp_q(q)\n",
    "        rep = self._attention_func(k, v, q)\n",
    "        return rep\n",
    "\n",
    "    def _uniform_attention(self, k, v, q):\n",
    "        total_points = q.shape[1]\n",
    "        rep = torch.mean(v, dim=1, keepdim=True)\n",
    "        rep = rep.repeat(1, total_points, 1)\n",
    "        return rep\n",
    "\n",
    "    def _laplace_attention(self, k, v, q, scale=0.5):\n",
    "        k_ = k.unsqueeze(1)\n",
    "        v_ = v.unsqueeze(2)\n",
    "        unnorm_weights = torch.abs((k_ - v_) * scale)\n",
    "        unnorm_weights = unnorm_weights.sum(dim=-1)\n",
    "        weights = torch.softmax(unnorm_weights, dim=-1)\n",
    "        rep = torch.einsum(\"bik,bkj->bij\", weights, v)\n",
    "        return rep\n",
    "\n",
    "    def _dot_attention(self, k, v, q):\n",
    "        scale = q.shape[-1] ** 0.5\n",
    "        unnorm_weights = torch.einsum(\"bjk,bik->bij\", k, q) / scale\n",
    "        weights = torch.softmax(unnorm_weights, dim=-1)\n",
    "\n",
    "        rep = torch.einsum(\"bik,bkj->bij\", weights, v)\n",
    "        return rep\n",
    "\n",
    "    def _multihead_attention(self, k, v, q):\n",
    "        outs = []\n",
    "        for i in range(self.n_heads):\n",
    "            k_ = self._W_k[i](k)\n",
    "            v_ = self._W_v[i](v)\n",
    "            q_ = self._W_q[i](q)\n",
    "            out = self._dot_attention(k_, v_, q_)\n",
    "            outs.append(out)\n",
    "        outs = torch.stack(outs, dim=-1)\n",
    "        outs = outs.view(outs.shape[0], outs.shape[1], -1)\n",
    "        rep = self._W(outs)\n",
    "        return rep\n",
    "\n",
    "    def _pytorch_multihead_attention(self, k, v, q):\n",
    "        # Pytorch multiheaded attention takes inputs if diff order and permutation\n",
    "        q = q.permute(1, 0, 2)\n",
    "        k = k.permute(1, 0, 2)\n",
    "        v = v.permute(1, 0, 2)\n",
    "        o = self._W(q, k, v)[0]\n",
    "        return o.permute(1, 0, 2)\n",
    "\n",
    "\n",
    "class LatentEncoder(nn.Module):\n",
    "    def __init__(\n",
    "        self,\n",
    "        input_dim,\n",
    "        hidden_dim=32,\n",
    "        latent_dim=32,\n",
    "        self_attention_type=\"dot\",\n",
    "        n_encoder_layers=3,\n",
    "        min_std=0.01,\n",
    "        batchnorm=False,\n",
    "        dropout=0,\n",
    "        attention_dropout=0,\n",
    "        use_lvar=False,\n",
    "        use_self_attn=False,\n",
    "        attention_layers=2,\n",
    "        use_lstm=False\n",
    "    ):\n",
    "        super().__init__()\n",
    "        # self._input_layer = nn.Linear(input_dim, hidden_dim)\n",
    "        if use_lstm:\n",
    "            self._encoder = LSTMBlock(input_dim, hidden_dim, batchnorm=batchnorm, dropout=dropout, num_layers=n_encoder_layers)\n",
    "        else:\n",
    "            self._encoder = BatchMLP(input_dim, hidden_dim, batchnorm=batchnorm, dropout=dropout, num_layers=n_encoder_layers)\n",
    "        if use_self_attn:\n",
    "            self._self_attention = Attention(\n",
    "                hidden_dim,\n",
    "                self_attention_type,\n",
    "                attention_layers,\n",
    "                rep=\"identity\",\n",
    "                dropout=attention_dropout,\n",
    "            )\n",
    "        self._penultimate_layer = nn.Linear(hidden_dim, hidden_dim)\n",
    "        self._mean = nn.Linear(hidden_dim, latent_dim)\n",
    "        self._log_var = nn.Linear(hidden_dim, latent_dim)\n",
    "        self._min_std = min_std\n",
    "        self._use_lvar = use_lvar\n",
    "        self._use_lstm = use_lstm\n",
    "        self._use_self_attn = use_self_attn\n",
    "\n",
    "    def forward(self, x, y):\n",
    "        encoder_input = torch.cat([x, y], dim=-1)\n",
    "\n",
    "        # Pass final axis through MLP\n",
    "        encoded = self._encoder(encoder_input)\n",
    "\n",
    "        # Aggregator: take the mean over all points\n",
    "        if self._use_self_attn:\n",
    "            attention_output = self._self_attention(encoded, encoded, encoded)\n",
    "            mean_repr = attention_output.mean(dim=1)\n",
    "        else:\n",
    "            mean_repr = encoded.mean(dim=1)\n",
    "\n",
    "        # Have further MLP layers that map to the parameters of the Gaussian latent\n",
    "        mean_repr = torch.relu(self._penultimate_layer(mean_repr))\n",
    "\n",
    "        # Then apply further linear layers to output latent mu and log sigma\n",
    "        mean = self._mean(mean_repr)\n",
    "        log_var = self._log_var(mean_repr)\n",
    "\n",
    "        if self._use_lvar:\n",
    "            # Clip it in the log domain, so it can only approach self.min_std, this helps avoid mode collapase\n",
    "            # 2 ways, a better but untested way using the more stable log domain, and the way from the deepmind repo\n",
    "            log_var = F.logsigmoid(log_var)\n",
    "            log_var = torch.clamp(log_var, np.log(self._min_std), -np.log(self._min_std))\n",
    "            sigma = torch.exp(0.5 * log_var)\n",
    "        else:\n",
    "            sigma = self._min_std + (1 - self._min_std) * torch.sigmoid(log_var * 0.5)\n",
    "        dist = torch.distributions.Normal(mean, sigma)\n",
    "        return dist, log_var\n",
    "\n",
    "\n",
    "class DeterministicEncoder(nn.Module):\n",
    "    def __init__(\n",
    "        self,\n",
    "        input_dim,\n",
    "        x_dim,\n",
    "        hidden_dim=32,\n",
    "        n_d_encoder_layers=3,\n",
    "        self_attention_type=\"dot\",\n",
    "        cross_attention_type=\"dot\",\n",
    "        use_self_attn=False,\n",
    "        attention_layers=2,\n",
    "        batchnorm=False,\n",
    "        dropout=0,\n",
    "        attention_dropout=0,\n",
    "        use_lstm=False,\n",
    "    ):\n",
    "        super().__init__()\n",
    "        self._use_self_attn = use_self_attn\n",
    "        # self._input_layer = nn.Linear(input_dim, hidden_dim)\n",
    "        if use_lstm:\n",
    "            self._d_encoder = LSTMBlock(input_dim, hidden_dim, batchnorm=batchnorm, dropout=dropout, num_layers=n_d_encoder_layers)\n",
    "        else:\n",
    "            self._d_encoder = BatchMLP(input_dim, hidden_dim, batchnorm=batchnorm, dropout=dropout, num_layers=n_d_encoder_layers)\n",
    "        if use_self_attn:\n",
    "            self._self_attention = Attention(\n",
    "                hidden_dim,\n",
    "                self_attention_type,\n",
    "                attention_layers,\n",
    "                rep=\"identity\",\n",
    "                dropout=attention_dropout,\n",
    "            )\n",
    "        self._cross_attention = Attention(\n",
    "            hidden_dim,\n",
    "            cross_attention_type,\n",
    "            x_dim=x_dim,\n",
    "            attention_layers=attention_layers,\n",
    "        )\n",
    "\n",
    "    def forward(self, context_x, context_y, target_x):\n",
    "        # Concatenate x and y along the filter axes\n",
    "        d_encoder_input = torch.cat([context_x, context_y], dim=-1)\n",
    "\n",
    "        # Pass final axis through MLP\n",
    "        d_encoded = self._d_encoder(d_encoder_input)\n",
    "\n",
    "        if self._use_self_attn:\n",
    "            d_encoded = self._self_attention(d_encoded, d_encoded, d_encoded)\n",
    "\n",
    "        # Apply attention as mean aggregation\n",
    "        h = self._cross_attention(context_x, d_encoded, target_x)\n",
    "\n",
    "        return h\n",
    "\n",
    "\n",
    "class Decoder(nn.Module):\n",
    "    def __init__(\n",
    "        self,\n",
    "        x_dim,\n",
    "        y_dim,\n",
    "        hidden_dim=32,\n",
    "        latent_dim=32,\n",
    "        n_decoder_layers=3,\n",
    "        use_deterministic_path=True,\n",
    "        min_std=0.01,\n",
    "        use_lvar=False,\n",
    "        batchnorm=False,\n",
    "        dropout=0,\n",
    "        use_lstm=False,\n",
    "    ):\n",
    "        super(Decoder, self).__init__()\n",
    "        self._target_transform = nn.Linear(x_dim, hidden_dim)\n",
    "        if use_deterministic_path:\n",
    "            hidden_dim_2 = 2 * hidden_dim + latent_dim\n",
    "        else:\n",
    "            hidden_dim_2 = hidden_dim + latent_dim\n",
    "            \n",
    "        if use_lstm:\n",
    "            self._decoder = LSTMBlock(hidden_dim_2, hidden_dim_2, batchnorm=batchnorm, dropout=dropout, num_layers=n_decoder_layers)\n",
    "        else:\n",
    "            self._decoder = BatchMLP(hidden_dim_2, hidden_dim_2, batchnorm=batchnorm, dropout=dropout, num_layers=n_decoder_layers)\n",
    "        self._mean = nn.Linear(hidden_dim_2, y_dim)\n",
    "        self._std = nn.Linear(hidden_dim_2, y_dim)\n",
    "        self._use_deterministic_path = use_deterministic_path\n",
    "        self._min_std = min_std\n",
    "        self._use_lvar = use_lvar\n",
    "\n",
    "    def forward(self, r, z, target_x):\n",
    "        # concatenate target_x and representation\n",
    "        x = self._target_transform(target_x)\n",
    "\n",
    "        if self._use_deterministic_path:\n",
    "            z = torch.cat([r, z], dim=-1)\n",
    "\n",
    "        r = torch.cat([z, x], dim=-1)\n",
    "\n",
    "        r = self._decoder(r)\n",
    "\n",
    "        # Get the mean and the variance\n",
    "        mean = self._mean(r)\n",
    "        log_sigma = self._std(r)\n",
    "\n",
    "        # Bound or clamp the variance\n",
    "        if self._use_lvar:\n",
    "            log_sigma = torch.clamp(log_sigma, math.log(self._min_std), -math.log(self._min_std))\n",
    "            sigma = torch.exp(log_sigma)\n",
    "        else:\n",
    "            sigma = self._min_std + (1 - self._min_std) * F.softplus(log_sigma)\n",
    "\n",
    "        dist = torch.distributions.Normal(mean, sigma)\n",
    "        return dist, log_sigma\n"
   ]
  },
  {
   "cell_type": "code",
   "execution_count": 8,
   "metadata": {
    "ExecuteTime": {
     "end_time": "2020-03-02T04:16:00.314562Z",
     "start_time": "2020-03-02T04:16:00.272249Z"
    }
   },
   "outputs": [],
   "source": [
    "import torch\n",
    "from torch import nn\n",
    "import torch.nn.functional as F\n",
    "from torch.utils.data import TensorDataset, DataLoader\n",
    "import math\n",
    "\n",
    "# from src.models.modules import LatentEncoder, DeterministicEncoder, Decoder\n",
    "\n",
    "\n",
    "def log_prob_sigma(value, loc, log_scale):\n",
    "    \"\"\"A slightly more stable (not confirmed yet) log prob taking in log_var instead of scale.\n",
    "    modified from https://github.com/pytorch/pytorch/blob/2431eac7c011afe42d4c22b8b3f46dedae65e7c0/torch/distributions/normal.py#L65\n",
    "    \"\"\"\n",
    "    var = torch.exp(log_scale * 2)\n",
    "    return (\n",
    "        -((value - loc) ** 2) / (2 * var) - log_scale - math.log(math.sqrt(2 * math.pi))\n",
    "    )\n",
    "\n",
    "\n",
    "def kl_loss_var(prior_mu, log_var_prior, post_mu, log_var_post):\n",
    "    \"\"\"\n",
    "    Analytical KLD for two gaussians, taking in log_variance instead of scale ( given variance=scale**2) for more stable gradients\n",
    "    \n",
    "    For version using scale see https://github.com/pytorch/pytorch/blob/master/torch/distributions/kl.py#L398\n",
    "    \"\"\"\n",
    "\n",
    "    var_ratio_log = log_var_post - log_var_prior\n",
    "    kl_div = (\n",
    "        (var_ratio_log.exp() + (post_mu - prior_mu) ** 2) / log_var_prior.exp()\n",
    "        - 1.0\n",
    "        - var_ratio_log\n",
    "    )\n",
    "    kl_div = 0.5 * kl_div\n",
    "    return kl_div\n",
    "\n",
    "class LatentModel(nn.Module):\n",
    "    def __init__(self,\n",
    "                 x_dim, # features in input\n",
    "                 y_dim, # number of features in output\n",
    "                 hidden_dim=32, # size of hidden space\n",
    "                 latent_dim=32, # size of latent space\n",
    "                 latent_enc_self_attn_type=\"ptmultihead\", # type of attention: \"uniform\", \"dot\", \"multihead\" \"ptmultihead\": see attentive neural processes paper\n",
    "                 det_enc_self_attn_type=\"ptmultihead\",\n",
    "                 det_enc_cross_attn_type=\"ptmultihead\",\n",
    "                 n_latent_encoder_layers=2,\n",
    "                 n_det_encoder_layers=2, # number of deterministic encoder layers\n",
    "                 n_decoder_layers=2,\n",
    "                 use_deterministic_path=False,\n",
    "                 min_std=0.01, # To avoid collapse use a minimum standard deviation, should be much smaller than variation in labels\n",
    "                 dropout=0,\n",
    "                 use_self_attn=False,\n",
    "                 attention_dropout=0,\n",
    "                 batchnorm=False,\n",
    "                 use_lvar=False, # Alternative loss calculation, may be more stable\n",
    "                 attention_layers=2, \n",
    "                 use_rnn=True, # use RNN/LSTM?\n",
    "                 use_lstm_le=False, # use another LSTM in latent encoder instead of MLP\n",
    "                 use_lstm_de=False, # use another LSTM in determinstic encoder instead of MLP\n",
    "                 use_lstm_d=False,  # use another lstm in decoder instead of MLP\n",
    "                 context_in_target=True,\n",
    "                 **kwargs,\n",
    "                ):\n",
    "\n",
    "        super(LatentModel, self).__init__()\n",
    "\n",
    "        self._use_rnn = use_rnn\n",
    "\n",
    "        if self._use_rnn:\n",
    "            self._lstm = nn.LSTM(\n",
    "                input_size=x_dim,\n",
    "                hidden_size=hidden_dim,\n",
    "                num_layers=attention_layers,\n",
    "                dropout=dropout,\n",
    "                batch_first=True\n",
    "            )\n",
    "            x_dim = hidden_dim\n",
    "\n",
    "        self._latent_encoder = LatentEncoder(\n",
    "            x_dim + y_dim,\n",
    "            hidden_dim=hidden_dim,\n",
    "            latent_dim=latent_dim,\n",
    "            self_attention_type=latent_enc_self_attn_type,\n",
    "            n_encoder_layers=n_latent_encoder_layers,\n",
    "            attention_layers=attention_layers,\n",
    "            dropout=dropout,\n",
    "            use_self_attn=use_self_attn,\n",
    "            attention_dropout=attention_dropout,\n",
    "            batchnorm=batchnorm,\n",
    "            min_std=min_std,\n",
    "            use_lvar=use_lvar,\n",
    "            use_lstm=use_lstm_le,\n",
    "        )\n",
    "\n",
    "        self._deterministic_encoder = DeterministicEncoder(\n",
    "            input_dim=x_dim + y_dim,\n",
    "            x_dim=x_dim,\n",
    "            hidden_dim=hidden_dim,\n",
    "            self_attention_type=det_enc_self_attn_type,\n",
    "            cross_attention_type=det_enc_cross_attn_type,\n",
    "            n_d_encoder_layers=n_det_encoder_layers,\n",
    "            attention_layers=attention_layers,\n",
    "            use_self_attn=use_self_attn,\n",
    "            dropout=dropout,\n",
    "            batchnorm=batchnorm,\n",
    "            attention_dropout=attention_dropout,\n",
    "            use_lstm=use_lstm_de,\n",
    "        )\n",
    "\n",
    "        self._decoder = Decoder(\n",
    "            x_dim,\n",
    "            y_dim,\n",
    "            hidden_dim=hidden_dim,\n",
    "            latent_dim=latent_dim,\n",
    "            dropout=dropout,\n",
    "            batchnorm=batchnorm,\n",
    "            min_std=min_std,\n",
    "            use_lvar=use_lvar,\n",
    "            n_decoder_layers=n_decoder_layers,\n",
    "            use_deterministic_path=use_deterministic_path,\n",
    "            use_lstm=use_lstm_d,\n",
    "            \n",
    "        )\n",
    "        self._use_deterministic_path = use_deterministic_path\n",
    "        self._use_lvar = use_lvar\n",
    "        self.context_in_target = context_in_target\n",
    "\n",
    "    def forward(self, context_x, context_y, target_x, target_y=None):\n",
    "\n",
    "        if self._use_rnn:\n",
    "            # see https://arxiv.org/abs/1910.09323 where x is substituted with h = RNN(x)\n",
    "            # x need to be provided as [B, T, H]\n",
    "            target_x, _ = self._lstm(target_x)\n",
    "            context_x, _ = self._lstm(context_x)\n",
    "\n",
    "        dist_prior, log_var_prior = self._latent_encoder(context_x, context_y)\n",
    "\n",
    "        if target_y is not None:\n",
    "            dist_post, log_var_post = self._latent_encoder(target_x, target_y)\n",
    "            z = dist_post.loc\n",
    "        else:\n",
    "            z = dist_prior.loc\n",
    "\n",
    "        num_targets = target_x.size(1)\n",
    "        z = z.unsqueeze(1).repeat(1, num_targets, 1)  # [B, T_target, H]\n",
    "\n",
    "        if self._use_deterministic_path:\n",
    "            r = self._deterministic_encoder(context_x, context_y,\n",
    "                                            target_x)  # [B, T_target, H]  \n",
    "        else:\n",
    "            r = None\n",
    "\n",
    "        dist, log_sigma = self._decoder(r, z, target_x)\n",
    "        if target_y is not None:\n",
    "\n",
    "            if self._use_lvar:\n",
    "                log_p = log_prob_sigma(target_y, dist.loc, log_sigma).mean(-1)  # [B, T_target, Y].mean(-1)\n",
    "                if self.context_in_target:\n",
    "                    log_p[:, :context_x.size(1)] /= 100\n",
    "                kl_loss = kl_loss_var(dist_prior.loc, log_var_prior,\n",
    "                                      dist_post.loc, log_var_post).mean(-1)  # [B, R].mean(-1)\n",
    "            else:\n",
    "                log_p = dist.log_prob(target_y).mean(-1)\n",
    "                if self.context_in_target:\n",
    "                    log_p[:, :context_x.size(1)] /= 100 # There's the temptation for it to fit only on context, where it knows the answer, and learn very low uncertainty. \n",
    "                kl_loss = torch.distributions.kl_divergence(\n",
    "                    dist_post, dist_prior).mean(-1)  # [B, R].mean(-1)\n",
    "            kl_loss = kl_loss[:, None].expand(log_p.shape)\n",
    "            mse_loss = F.mse_loss(dist.loc, target_y, reduction='none')[:, :context_x.size(1)].mean()\n",
    "            loss = (kl_loss - log_p).mean()\n",
    "\n",
    "        else:\n",
    "            log_p = None\n",
    "            mse_loss = None\n",
    "            kl_loss = None\n",
    "            loss = None\n",
    "\n",
    "        y_pred = dist.rsample() if self.training else dist.loc\n",
    "        return y_pred, dict(loss=loss, loss_p=-log_p.mean(), loss_kl=kl_loss, loss_mse=mse_loss.mean()), dict(log_sigma=log_sigma, dist=dist)\n"
   ]
  },
  {
   "cell_type": "code",
   "execution_count": 9,
   "metadata": {
    "ExecuteTime": {
     "end_time": "2020-03-02T04:16:00.342565Z",
     "start_time": "2020-03-02T04:16:00.318150Z"
    }
   },
   "outputs": [],
   "source": [
    "from pathlib import Path\n",
    "import pandas as pd\n",
    "import numpy as np\n",
    "import torch\n",
    "\n",
    "def npsample_batch(x, y, size=None, sort=False):\n",
    "    \"\"\"Sample from numpy arrays along 2nd dim.\"\"\"\n",
    "    inds = np.random.choice(range(x.shape[1]), size=size, replace=False)\n",
    "    return x[:, inds], y[:, inds]\n",
    "\n",
    "def collate_fns(max_num_context, max_num_extra_target, sample, sort=True, context_in_target=True):\n",
    "    def collate_fn(batch, sample=sample):\n",
    "        # Collate\n",
    "        x = np.stack([x for x, y in batch], 0)\n",
    "        y = np.stack([y for x, y in batch], 0)\n",
    "\n",
    "        # Sample a subset of random size\n",
    "        num_context = np.random.randint(4, max_num_context)\n",
    "        num_extra_target = np.random.randint(4, max_num_extra_target)\n",
    "\n",
    "        x = torch.from_numpy(x).float()\n",
    "        y = torch.from_numpy(y).float()\n",
    "\n",
    "        \n",
    "        x_context = x[:, :max_num_context]\n",
    "        y_context = y[:, :max_num_context]\n",
    "    \n",
    "        x_target_extra = x[:, max_num_context:]\n",
    "        y_target_extra = y[:, max_num_context:]\n",
    "        \n",
    "        if sample:\n",
    "\n",
    "            x_context, y_context = npsample_batch(\n",
    "                x_context, y_context, size=num_context\n",
    "            )\n",
    "\n",
    "            x_target_extra, y_target_extra = npsample_batch(\n",
    "                x_target_extra, y_target_extra, size=num_extra_target, sort=sort\n",
    "            )\n",
    "\n",
    "        # do we want to compute loss over context+target_extra, or focus in on only target_extra?\n",
    "        if context_in_target:\n",
    "            x_target = torch.cat([x_context, x_target_extra], 1)\n",
    "            y_target = torch.cat([y_context, y_target_extra], 1)\n",
    "        else:\n",
    "            x_target = x_target_extra\n",
    "            y_target = y_target_extra\n",
    "\n",
    "        \n",
    "        return x_context, y_context, x_target, y_target\n",
    "\n",
    "    return collate_fn\n",
    "\n",
    "\n",
    "class DataSet(torch.utils.data.Dataset):\n",
    "    def __init__(self, df, num_context=40, num_extra_target=10, label_names=['lead']):\n",
    "        self.df = df\n",
    "        self.num_context = num_context\n",
    "        self.num_extra_target = num_extra_target\n",
    "        self.label_names = label_names\n",
    "\n",
    "    def get_rows(self, i):\n",
    "        rows = self.df.iloc[i : i + (self.num_context + self.num_extra_target)].copy()\n",
    "\n",
    "        # make sure tstp, which is our x axis, is the first value\n",
    "\n",
    "        # This will be the last row, and will change it upon sample to let the model know some points are in the future\n",
    "\n",
    "        x = rows.drop(columns=self.label_names).copy()\n",
    "        y = rows[self.label_names].copy()\n",
    "        return x, y\n",
    "\n",
    "\n",
    "    def __getitem__(self, i):\n",
    "        x, y = self.get_rows(i)\n",
    "        return x.values, y.values\n",
    "        \n",
    "    def __len__(self):\n",
    "        return len(self.df) - (self.num_context + self.num_extra_target)\n"
   ]
  },
  {
   "cell_type": "code",
   "execution_count": 10,
   "metadata": {
    "ExecuteTime": {
     "end_time": "2020-03-02T04:16:00.366114Z",
     "start_time": "2020-03-02T04:16:00.345150Z"
    }
   },
   "outputs": [],
   "source": [
    "# from https://github.com/Bjarten/early-stopping-pytorch/blob/master/MNIST_Early_Stopping_example.ipynb\n",
    "import numpy as np\n",
    "import torch\n",
    "\n",
    "class EarlyStopping:\n",
    "    \"\"\"Early stops the training if validation loss doesn't improve after a given patience.\"\"\"\n",
    "    def __init__(self, patience=7, verbose=False, delta=0):\n",
    "        \"\"\"\n",
    "        Args:\n",
    "            patience (int): How long to wait after last time validation loss improved.\n",
    "                            Default: 7\n",
    "            verbose (bool): If True, prints a message for each validation loss improvement. \n",
    "                            Default: False\n",
    "            delta (float): Minimum change in the monitored quantity to qualify as an improvement.\n",
    "                            Default: 0\n",
    "        \"\"\"\n",
    "        self.patience = patience\n",
    "        self.verbose = verbose\n",
    "        self.counter = 0\n",
    "        self.best_score = None\n",
    "        self.early_stop = False\n",
    "        self.val_loss_min = np.Inf\n",
    "        self.delta = delta\n",
    "\n",
    "    def __call__(self, val_loss, model):\n",
    "\n",
    "        score = -val_loss\n",
    "\n",
    "        if self.best_score is None:\n",
    "            self.best_score = score\n",
    "            self.save_checkpoint(val_loss, model)\n",
    "        elif score < self.best_score + self.delta:\n",
    "            self.counter += 1\n",
    "            print(f'EarlyStopping counter: {self.counter} out of {self.patience}')\n",
    "            if self.counter >= self.patience:\n",
    "                self.early_stop = True\n",
    "        else:\n",
    "            self.best_score = score\n",
    "            self.save_checkpoint(val_loss, model)\n",
    "            self.counter = 0\n",
    "\n",
    "    def save_checkpoint(self, val_loss, model):\n",
    "        '''Saves model when validation loss decrease.'''\n",
    "        if self.verbose:\n",
    "            print(f'Validation loss decreased ({self.val_loss_min:.6f} --> {val_loss:.6f}).  Saving model ...')\n",
    "        torch.save(model.state_dict(), 'outputs/checkpoint.pt')\n",
    "        self.val_loss_min = val_loss"
   ]
  },
  {
   "cell_type": "markdown",
   "metadata": {},
   "source": [
    "### Run"
   ]
  },
  {
   "cell_type": "code",
   "execution_count": 25,
   "metadata": {
    "ExecuteTime": {
     "end_time": "2020-03-02T04:17:54.847956Z",
     "start_time": "2020-03-02T04:17:54.836884Z"
    }
   },
   "outputs": [],
   "source": [
    "hparams = dict(\n",
    "    num_context=15,\n",
    "    num_extra_target=16,\n",
    "    batch_size=40,\n",
    "    context_in_target=False,\n",
    ")\n",
    "df_train = meuse_train[['x', 'y', 'lead']].copy()\n",
    "norm_mean = df_train.mean()\n",
    "norm_std = df_train.std()"
   ]
  },
  {
   "cell_type": "code",
   "execution_count": 26,
   "metadata": {
    "ExecuteTime": {
     "end_time": "2020-03-02T04:17:55.621850Z",
     "start_time": "2020-03-02T04:17:55.600978Z"
    }
   },
   "outputs": [],
   "source": [
    "df_train = meuse_train[['x', 'y', 'lead']].copy()\n",
    "df_train -= norm_mean\n",
    "df_train /= norm_std\n",
    "\n",
    "data_train = DataSet(\n",
    "    df_train, hparams[\"num_context\"], hparams[\"num_extra_target\"]\n",
    ")\n",
    "loader_train = torch.utils.data.DataLoader(\n",
    "    data_train,\n",
    "    batch_size=hparams[\"batch_size\"],\n",
    "    shuffle=True,\n",
    "    collate_fn=collate_fns(\n",
    "        hparams[\"num_context\"], hparams[\"num_extra_target\"], sample=True, context_in_target=hparams[\"context_in_target\"]\n",
    "    ),\n",
    ")"
   ]
  },
  {
   "cell_type": "code",
   "execution_count": null,
   "metadata": {
    "ExecuteTime": {
     "end_time": "2020-03-01T06:42:57.432085Z",
     "start_time": "2020-03-01T06:42:57.367861Z"
    }
   },
   "outputs": [],
   "source": []
  },
  {
   "cell_type": "code",
   "execution_count": 27,
   "metadata": {
    "ExecuteTime": {
     "end_time": "2020-03-02T04:17:56.241937Z",
     "start_time": "2020-03-02T04:17:56.220164Z"
    }
   },
   "outputs": [],
   "source": [
    "df_test = meuse_test[['x', 'y', 'lead']].copy()\n",
    "df_test -= norm_mean\n",
    "df_test /= norm_std\n",
    "\n",
    "data_test = DataSet(\n",
    "    df_test, hparams[\"num_context\"], hparams[\"num_extra_target\"]\n",
    ")\n",
    "loader_test = torch.utils.data.DataLoader(\n",
    "    data_test,\n",
    "    batch_size=hparams[\"batch_size\"],\n",
    "    shuffle=False,\n",
    "    collate_fn=collate_fns(\n",
    "        hparams[\"num_context\"], hparams[\"num_extra_target\"], sample=False, context_in_target=hparams[\"context_in_target\"]\n",
    "    ),\n",
    ")"
   ]
  },
  {
   "cell_type": "code",
   "execution_count": 28,
   "metadata": {
    "ExecuteTime": {
     "end_time": "2020-03-02T04:17:56.436683Z",
     "start_time": "2020-03-02T04:17:56.424761Z"
    },
    "code_folding": []
   },
   "outputs": [],
   "source": [
    "# Make predictions\n",
    "def test(do_eval=True):\n",
    "    \"\"\"Run model on test/val data\"\"\"\n",
    "    if do_eval:\n",
    "        model_np.eval()\n",
    "    with torch.no_grad():\n",
    "        target_x, target_y = df_test.drop(columns=['lead']), df_test['lead']\n",
    "        context_x, context_y = df_train.drop(columns=['lead']), df_train['lead']\n",
    "\n",
    "        context_x = torch.from_numpy(context_x.values).float()[None, :]\n",
    "        context_y = torch.from_numpy(context_y.values).float()[None, :, None]\n",
    "        target_x = torch.from_numpy(target_x.values).float()[None, :]\n",
    "        target_y = torch.from_numpy(target_y.values).float()[None, :, None]\n",
    "\n",
    "        y_pred, losses, extra = model_np.forward(context_x, context_y, target_x, target_y)\n",
    "    yr=(target_y-y_pred)[0].detach().cpu().numpy() * norm_std['lead']\n",
    "    \n",
    "    return yr, y_pred, losses, extra "
   ]
  },
  {
   "cell_type": "code",
   "execution_count": 29,
   "metadata": {
    "ExecuteTime": {
     "end_time": "2020-03-02T04:17:57.516464Z",
     "start_time": "2020-03-02T04:17:57.401300Z"
    }
   },
   "outputs": [],
   "source": [
    "model_np = LatentModel(2, 1,\n",
    "                    hidden_dim=512, # size of hidden space\n",
    "                 latent_dim=128, # size of latent space\n",
    "                 latent_enc_self_attn_type=\"ptmultihead\", # type of attention: \"uniform\", \"dot\", \"multihead\" \"ptmultihead\": see attentive neural processes paper\n",
    "                 det_enc_self_attn_type=\"ptmultihead\",\n",
    "                 det_enc_cross_attn_type=\"ptmultihead\",\n",
    "                 n_latent_encoder_layers=4,\n",
    "                 n_det_encoder_layers=4, # number of deterministic encoder layers\n",
    "                 n_decoder_layers=8,\n",
    "                 use_deterministic_path=False,\n",
    "                 min_std=0.01, # To avoid collapse use a minimum standard deviation, should be much smaller than variation in labels\n",
    "                 dropout=0.3,\n",
    "                 use_self_attn=False,\n",
    "                 attention_dropout=0.2,\n",
    "                 batchnorm=True,\n",
    "                 use_lvar=True, # Alternative loss calculation, may be more stable\n",
    "                 attention_layers=2, \n",
    "                 use_rnn=False, # use RNN/LSTM?\n",
    "                 use_lstm_le=False, # use another LSTM in latent encoder instead of MLP\n",
    "                 use_lstm_de=False, # use another LSTM in determinstic encoder instead of MLP\n",
    "                 use_lstm_d=False,  # use another lstm in decoder instead of MLP\n",
    "                 context_in_target=False,\n",
    "                   )\n",
    "\n",
    "# torch.optim.Adam?"
   ]
  },
  {
   "cell_type": "code",
   "execution_count": 30,
   "metadata": {
    "ExecuteTime": {
     "end_time": "2020-03-02T04:18:07.332408Z",
     "start_time": "2020-03-02T04:18:07.322701Z"
    }
   },
   "outputs": [],
   "source": [
    "opt = torch.optim.Adam(model_np.parameters(), lr=3e-4)\n",
    "early_stopping = EarlyStopping(patience=9, verbose=True)"
   ]
  },
  {
   "cell_type": "code",
   "execution_count": null,
   "metadata": {
    "ExecuteTime": {
     "end_time": "2020-03-02T01:48:14.953204Z",
     "start_time": "2020-03-02T01:48:14.946276Z"
    }
   },
   "outputs": [],
   "source": []
  },
  {
   "cell_type": "code",
   "execution_count": null,
   "metadata": {
    "ExecuteTime": {
     "end_time": "2020-03-02T01:48:41.982958Z",
     "start_time": "2020-03-02T01:48:41.976326Z"
    }
   },
   "outputs": [],
   "source": []
  },
  {
   "cell_type": "code",
   "execution_count": 31,
   "metadata": {
    "ExecuteTime": {
     "end_time": "2020-03-02T04:18:54.861927Z",
     "start_time": "2020-03-02T04:18:07.855508Z"
    },
    "scrolled": true
   },
   "outputs": [
    {
     "data": {
      "application/vnd.jupyter.widget-view+json": {
       "model_id": "ab17d57fc52048ed8595f8f02c9c1bcc",
       "version_major": 2,
       "version_minor": 0
      },
      "text/plain": [
       "HBox(children=(FloatProgress(value=0.0, max=3.0), HTML(value='')))"
      ]
     },
     "metadata": {},
     "output_type": "display_data"
    },
    {
     "name": "stdout",
     "output_type": "stream",
     "text": [
      "\n",
      "0\n",
      "train_loss 2.1866187254587808\n",
      "val_loss 89.95982\n",
      "Validation loss decreased (inf --> 89.959824).  Saving model ...\n"
     ]
    },
    {
     "data": {
      "application/vnd.jupyter.widget-view+json": {
       "model_id": "f6a75d8839114f908d7bb14bc6f69b52",
       "version_major": 2,
       "version_minor": 0
      },
      "text/plain": [
       "HBox(children=(FloatProgress(value=0.0, max=3.0), HTML(value='')))"
      ]
     },
     "metadata": {},
     "output_type": "display_data"
    },
    {
     "name": "stdout",
     "output_type": "stream",
     "text": [
      "\n",
      "1\n",
      "train_loss 2.25691819190979\n",
      "val_loss 90.178925\n",
      "EarlyStopping counter: 1 out of 9\n"
     ]
    },
    {
     "data": {
      "application/vnd.jupyter.widget-view+json": {
       "model_id": "bd8dd28d496d410a8785a9471dd46183",
       "version_major": 2,
       "version_minor": 0
      },
      "text/plain": [
       "HBox(children=(FloatProgress(value=0.0, max=3.0), HTML(value='')))"
      ]
     },
     "metadata": {},
     "output_type": "display_data"
    },
    {
     "name": "stdout",
     "output_type": "stream",
     "text": [
      "\n",
      "2\n",
      "train_loss 2.240196863810221\n",
      "val_loss 90.15434\n",
      "EarlyStopping counter: 2 out of 9\n"
     ]
    },
    {
     "data": {
      "application/vnd.jupyter.widget-view+json": {
       "model_id": "3ae8caf2ecdd417bbfa3435806f6ef6e",
       "version_major": 2,
       "version_minor": 0
      },
      "text/plain": [
       "HBox(children=(FloatProgress(value=0.0, max=3.0), HTML(value='')))"
      ]
     },
     "metadata": {},
     "output_type": "display_data"
    },
    {
     "name": "stdout",
     "output_type": "stream",
     "text": [
      "\n",
      "3\n",
      "train_loss 2.192498524983724\n",
      "val_loss 90.07991\n",
      "EarlyStopping counter: 3 out of 9\n"
     ]
    },
    {
     "data": {
      "application/vnd.jupyter.widget-view+json": {
       "model_id": "b55297245d6042929aaffef3c076ef5d",
       "version_major": 2,
       "version_minor": 0
      },
      "text/plain": [
       "HBox(children=(FloatProgress(value=0.0, max=3.0), HTML(value='')))"
      ]
     },
     "metadata": {},
     "output_type": "display_data"
    },
    {
     "name": "stdout",
     "output_type": "stream",
     "text": [
      "\n",
      "4\n",
      "train_loss 1.9173232714335124\n",
      "val_loss 91.05732\n",
      "EarlyStopping counter: 4 out of 9\n"
     ]
    },
    {
     "data": {
      "application/vnd.jupyter.widget-view+json": {
       "model_id": "1f5f4e87a3d840e281889b36cccbbb63",
       "version_major": 2,
       "version_minor": 0
      },
      "text/plain": [
       "HBox(children=(FloatProgress(value=0.0, max=3.0), HTML(value='')))"
      ]
     },
     "metadata": {},
     "output_type": "display_data"
    },
    {
     "name": "stdout",
     "output_type": "stream",
     "text": [
      "\n",
      "5\n",
      "train_loss 2.110640207926432\n",
      "val_loss 91.786255\n",
      "EarlyStopping counter: 5 out of 9\n"
     ]
    },
    {
     "data": {
      "application/vnd.jupyter.widget-view+json": {
       "model_id": "f0ded04136174839aab68a65c26973bd",
       "version_major": 2,
       "version_minor": 0
      },
      "text/plain": [
       "HBox(children=(FloatProgress(value=0.0, max=3.0), HTML(value='')))"
      ]
     },
     "metadata": {},
     "output_type": "display_data"
    },
    {
     "name": "stdout",
     "output_type": "stream",
     "text": [
      "\n",
      "6\n",
      "train_loss 1.8632032473882039\n",
      "val_loss 90.0656\n",
      "EarlyStopping counter: 6 out of 9\n",
      "reducing lr 3.00e-04 to 3.00e-05\n"
     ]
    },
    {
     "data": {
      "application/vnd.jupyter.widget-view+json": {
       "model_id": "86cad35d139e44e49af639735de21064",
       "version_major": 2,
       "version_minor": 0
      },
      "text/plain": [
       "HBox(children=(FloatProgress(value=0.0, max=3.0), HTML(value='')))"
      ]
     },
     "metadata": {},
     "output_type": "display_data"
    },
    {
     "name": "stdout",
     "output_type": "stream",
     "text": [
      "\n",
      "7\n",
      "train_loss 1.7887483835220337\n",
      "val_loss 85.234276\n",
      "Validation loss decreased (89.959824 --> 85.234276).  Saving model ...\n"
     ]
    },
    {
     "data": {
      "application/vnd.jupyter.widget-view+json": {
       "model_id": "3e5fc70539444b23b38eac468a81192f",
       "version_major": 2,
       "version_minor": 0
      },
      "text/plain": [
       "HBox(children=(FloatProgress(value=0.0, max=3.0), HTML(value='')))"
      ]
     },
     "metadata": {},
     "output_type": "display_data"
    },
    {
     "name": "stdout",
     "output_type": "stream",
     "text": [
      "\n",
      "8\n",
      "train_loss 1.7547037204106648\n",
      "val_loss 80.520546\n",
      "Validation loss decreased (85.234276 --> 80.520546).  Saving model ...\n"
     ]
    },
    {
     "data": {
      "application/vnd.jupyter.widget-view+json": {
       "model_id": "7e06b43bc41c4f66a52feb1fb8961a9e",
       "version_major": 2,
       "version_minor": 0
      },
      "text/plain": [
       "HBox(children=(FloatProgress(value=0.0, max=3.0), HTML(value='')))"
      ]
     },
     "metadata": {},
     "output_type": "display_data"
    },
    {
     "name": "stdout",
     "output_type": "stream",
     "text": [
      "\n",
      "9\n",
      "train_loss 1.7317437330881755\n",
      "val_loss 76.43884\n",
      "Validation loss decreased (80.520546 --> 76.438843).  Saving model ...\n"
     ]
    },
    {
     "data": {
      "application/vnd.jupyter.widget-view+json": {
       "model_id": "6f3cf902dd7b47c5a100a857dc7dcf58",
       "version_major": 2,
       "version_minor": 0
      },
      "text/plain": [
       "HBox(children=(FloatProgress(value=0.0, max=3.0), HTML(value='')))"
      ]
     },
     "metadata": {},
     "output_type": "display_data"
    },
    {
     "name": "stdout",
     "output_type": "stream",
     "text": [
      "\n",
      "10\n",
      "train_loss 1.73222812016805\n",
      "val_loss 73.40306\n",
      "Validation loss decreased (76.438843 --> 73.403061).  Saving model ...\n"
     ]
    },
    {
     "data": {
      "application/vnd.jupyter.widget-view+json": {
       "model_id": "ff45ffb6b8bf415bb1c3c444910f6c7a",
       "version_major": 2,
       "version_minor": 0
      },
      "text/plain": [
       "HBox(children=(FloatProgress(value=0.0, max=3.0), HTML(value='')))"
      ]
     },
     "metadata": {},
     "output_type": "display_data"
    },
    {
     "name": "stdout",
     "output_type": "stream",
     "text": [
      "\n",
      "11\n",
      "train_loss 1.7060482104619343\n",
      "val_loss 70.57133\n",
      "Validation loss decreased (73.403061 --> 70.571327).  Saving model ...\n"
     ]
    },
    {
     "data": {
      "application/vnd.jupyter.widget-view+json": {
       "model_id": "befadece43844a3b914f541afd7a3635",
       "version_major": 2,
       "version_minor": 0
      },
      "text/plain": [
       "HBox(children=(FloatProgress(value=0.0, max=3.0), HTML(value='')))"
      ]
     },
     "metadata": {},
     "output_type": "display_data"
    },
    {
     "name": "stdout",
     "output_type": "stream",
     "text": [
      "\n",
      "12\n",
      "train_loss 1.7398338317871094\n",
      "val_loss 68.38975\n",
      "Validation loss decreased (70.571327 --> 68.389748).  Saving model ...\n"
     ]
    },
    {
     "data": {
      "application/vnd.jupyter.widget-view+json": {
       "model_id": "f54957b6384a4129833b8fb862e23a5d",
       "version_major": 2,
       "version_minor": 0
      },
      "text/plain": [
       "HBox(children=(FloatProgress(value=0.0, max=3.0), HTML(value='')))"
      ]
     },
     "metadata": {},
     "output_type": "display_data"
    },
    {
     "name": "stdout",
     "output_type": "stream",
     "text": [
      "\n",
      "13\n",
      "train_loss 1.6695570548375447\n",
      "val_loss 66.27154\n",
      "Validation loss decreased (68.389748 --> 66.271538).  Saving model ...\n"
     ]
    },
    {
     "data": {
      "application/vnd.jupyter.widget-view+json": {
       "model_id": "54fc9d3cf0a849968f6d47477449975d",
       "version_major": 2,
       "version_minor": 0
      },
      "text/plain": [
       "HBox(children=(FloatProgress(value=0.0, max=3.0), HTML(value='')))"
      ]
     },
     "metadata": {},
     "output_type": "display_data"
    },
    {
     "name": "stdout",
     "output_type": "stream",
     "text": [
      "\n",
      "14\n",
      "train_loss 1.677445928255717\n",
      "val_loss 64.64776\n",
      "Validation loss decreased (66.271538 --> 64.647758).  Saving model ...\n"
     ]
    },
    {
     "data": {
      "application/vnd.jupyter.widget-view+json": {
       "model_id": "6876793073824a9d94558e0bff30c17b",
       "version_major": 2,
       "version_minor": 0
      },
      "text/plain": [
       "HBox(children=(FloatProgress(value=0.0, max=3.0), HTML(value='')))"
      ]
     },
     "metadata": {},
     "output_type": "display_data"
    },
    {
     "name": "stdout",
     "output_type": "stream",
     "text": [
      "\n",
      "15\n",
      "train_loss 1.6380528608957927\n",
      "val_loss 63.326252\n",
      "Validation loss decreased (64.647758 --> 63.326252).  Saving model ...\n"
     ]
    },
    {
     "data": {
      "application/vnd.jupyter.widget-view+json": {
       "model_id": "703c4b8f95fc41778addb245b28aa7ad",
       "version_major": 2,
       "version_minor": 0
      },
      "text/plain": [
       "HBox(children=(FloatProgress(value=0.0, max=3.0), HTML(value='')))"
      ]
     },
     "metadata": {},
     "output_type": "display_data"
    },
    {
     "name": "stdout",
     "output_type": "stream",
     "text": [
      "\n",
      "16\n",
      "train_loss 1.6303989887237549\n",
      "val_loss 61.851532\n",
      "Validation loss decreased (63.326252 --> 61.851532).  Saving model ...\n"
     ]
    },
    {
     "data": {
      "application/vnd.jupyter.widget-view+json": {
       "model_id": "ea1cf84bae8e482bae907b7845ea123c",
       "version_major": 2,
       "version_minor": 0
      },
      "text/plain": [
       "HBox(children=(FloatProgress(value=0.0, max=3.0), HTML(value='')))"
      ]
     },
     "metadata": {},
     "output_type": "display_data"
    },
    {
     "name": "stdout",
     "output_type": "stream",
     "text": [
      "\n",
      "17\n",
      "train_loss 1.6727840105692546\n",
      "val_loss 61.695965\n",
      "Validation loss decreased (61.851532 --> 61.695965).  Saving model ...\n"
     ]
    },
    {
     "data": {
      "application/vnd.jupyter.widget-view+json": {
       "model_id": "cb14276bf5834db4a33ea36f213eda78",
       "version_major": 2,
       "version_minor": 0
      },
      "text/plain": [
       "HBox(children=(FloatProgress(value=0.0, max=3.0), HTML(value='')))"
      ]
     },
     "metadata": {},
     "output_type": "display_data"
    },
    {
     "name": "stdout",
     "output_type": "stream",
     "text": [
      "\n",
      "18\n",
      "train_loss 1.6214091777801514\n",
      "val_loss 61.23405\n",
      "Validation loss decreased (61.695965 --> 61.234051).  Saving model ...\n"
     ]
    },
    {
     "data": {
      "application/vnd.jupyter.widget-view+json": {
       "model_id": "c636137e3beb43e9894825a96bbf8d22",
       "version_major": 2,
       "version_minor": 0
      },
      "text/plain": [
       "HBox(children=(FloatProgress(value=0.0, max=3.0), HTML(value='')))"
      ]
     },
     "metadata": {},
     "output_type": "display_data"
    },
    {
     "name": "stdout",
     "output_type": "stream",
     "text": [
      "\n",
      "19\n",
      "train_loss 1.6422749360402424\n",
      "val_loss 61.336468\n",
      "EarlyStopping counter: 1 out of 9\n"
     ]
    },
    {
     "data": {
      "application/vnd.jupyter.widget-view+json": {
       "model_id": "0b9a4d7a6a4445a69ce242523611eafd",
       "version_major": 2,
       "version_minor": 0
      },
      "text/plain": [
       "HBox(children=(FloatProgress(value=0.0, max=3.0), HTML(value='')))"
      ]
     },
     "metadata": {},
     "output_type": "display_data"
    },
    {
     "name": "stdout",
     "output_type": "stream",
     "text": [
      "\n",
      "20\n",
      "train_loss 1.6561263004938762\n",
      "val_loss 60.476795\n",
      "Validation loss decreased (61.234051 --> 60.476795).  Saving model ...\n"
     ]
    },
    {
     "data": {
      "application/vnd.jupyter.widget-view+json": {
       "model_id": "7810658d73794b54929fb3630a474b37",
       "version_major": 2,
       "version_minor": 0
      },
      "text/plain": [
       "HBox(children=(FloatProgress(value=0.0, max=3.0), HTML(value='')))"
      ]
     },
     "metadata": {},
     "output_type": "display_data"
    },
    {
     "name": "stdout",
     "output_type": "stream",
     "text": [
      "\n",
      "21\n",
      "train_loss 1.593038280804952\n",
      "val_loss 60.56458\n",
      "EarlyStopping counter: 1 out of 9\n"
     ]
    },
    {
     "data": {
      "application/vnd.jupyter.widget-view+json": {
       "model_id": "5efbf3708a0b47fc800977cdd92d10f6",
       "version_major": 2,
       "version_minor": 0
      },
      "text/plain": [
       "HBox(children=(FloatProgress(value=0.0, max=3.0), HTML(value='')))"
      ]
     },
     "metadata": {},
     "output_type": "display_data"
    },
    {
     "name": "stdout",
     "output_type": "stream",
     "text": [
      "\n",
      "22\n",
      "train_loss 1.567318081855774\n",
      "val_loss 60.28795\n",
      "Validation loss decreased (60.476795 --> 60.287949).  Saving model ...\n"
     ]
    },
    {
     "data": {
      "application/vnd.jupyter.widget-view+json": {
       "model_id": "43b33df3025e45ea8f285db004af6eae",
       "version_major": 2,
       "version_minor": 0
      },
      "text/plain": [
       "HBox(children=(FloatProgress(value=0.0, max=3.0), HTML(value='')))"
      ]
     },
     "metadata": {},
     "output_type": "display_data"
    },
    {
     "name": "stdout",
     "output_type": "stream",
     "text": [
      "\n",
      "23\n",
      "train_loss 1.646134893099467\n",
      "val_loss 60.425667\n",
      "EarlyStopping counter: 1 out of 9\n"
     ]
    },
    {
     "data": {
      "application/vnd.jupyter.widget-view+json": {
       "model_id": "d6ce6903f6264c8fb40efb4363fc3137",
       "version_major": 2,
       "version_minor": 0
      },
      "text/plain": [
       "HBox(children=(FloatProgress(value=0.0, max=3.0), HTML(value='')))"
      ]
     },
     "metadata": {},
     "output_type": "display_data"
    },
    {
     "name": "stdout",
     "output_type": "stream",
     "text": [
      "\n",
      "24\n",
      "train_loss 1.6251048644383748\n",
      "val_loss 60.86411\n",
      "EarlyStopping counter: 2 out of 9\n"
     ]
    },
    {
     "data": {
      "application/vnd.jupyter.widget-view+json": {
       "model_id": "3388912ff71a4c63af6acc62c5f7b0ae",
       "version_major": 2,
       "version_minor": 0
      },
      "text/plain": [
       "HBox(children=(FloatProgress(value=0.0, max=3.0), HTML(value='')))"
      ]
     },
     "metadata": {},
     "output_type": "display_data"
    },
    {
     "name": "stdout",
     "output_type": "stream",
     "text": [
      "\n",
      "25\n",
      "train_loss 1.5621048212051392\n",
      "val_loss 60.89494\n",
      "EarlyStopping counter: 3 out of 9\n"
     ]
    },
    {
     "data": {
      "application/vnd.jupyter.widget-view+json": {
       "model_id": "f12a4042e2a34f3297234aa82c604796",
       "version_major": 2,
       "version_minor": 0
      },
      "text/plain": [
       "HBox(children=(FloatProgress(value=0.0, max=3.0), HTML(value='')))"
      ]
     },
     "metadata": {},
     "output_type": "display_data"
    },
    {
     "name": "stdout",
     "output_type": "stream",
     "text": [
      "\n",
      "26\n",
      "train_loss 1.6048304637273152\n",
      "val_loss 60.70002\n",
      "EarlyStopping counter: 4 out of 9\n"
     ]
    },
    {
     "data": {
      "application/vnd.jupyter.widget-view+json": {
       "model_id": "18ebac555ef2447d9c703da0f97fb7c1",
       "version_major": 2,
       "version_minor": 0
      },
      "text/plain": [
       "HBox(children=(FloatProgress(value=0.0, max=3.0), HTML(value='')))"
      ]
     },
     "metadata": {},
     "output_type": "display_data"
    },
    {
     "name": "stdout",
     "output_type": "stream",
     "text": [
      "\n",
      "27\n",
      "train_loss 1.5560089349746704\n",
      "val_loss 62.117947\n",
      "EarlyStopping counter: 5 out of 9\n"
     ]
    },
    {
     "data": {
      "application/vnd.jupyter.widget-view+json": {
       "model_id": "73802f19dc2f48f69d0f6ad2950fa228",
       "version_major": 2,
       "version_minor": 0
      },
      "text/plain": [
       "HBox(children=(FloatProgress(value=0.0, max=3.0), HTML(value='')))"
      ]
     },
     "metadata": {},
     "output_type": "display_data"
    },
    {
     "name": "stdout",
     "output_type": "stream",
     "text": [
      "\n",
      "28\n",
      "train_loss 1.5291591087977092\n",
      "val_loss 63.117443\n",
      "EarlyStopping counter: 6 out of 9\n",
      "reducing lr 3.00e-05 to 3.00e-06\n"
     ]
    },
    {
     "data": {
      "application/vnd.jupyter.widget-view+json": {
       "model_id": "471e379e8c514522a7c6cd0d8c5d6366",
       "version_major": 2,
       "version_minor": 0
      },
      "text/plain": [
       "HBox(children=(FloatProgress(value=0.0, max=3.0), HTML(value='')))"
      ]
     },
     "metadata": {},
     "output_type": "display_data"
    },
    {
     "name": "stdout",
     "output_type": "stream",
     "text": [
      "\n",
      "29\n",
      "train_loss 1.5152650674184163\n",
      "val_loss 62.27536\n",
      "EarlyStopping counter: 7 out of 9\n"
     ]
    },
    {
     "data": {
      "application/vnd.jupyter.widget-view+json": {
       "model_id": "b5cf35b124ef41ed905c0dd14bc2661e",
       "version_major": 2,
       "version_minor": 0
      },
      "text/plain": [
       "HBox(children=(FloatProgress(value=0.0, max=3.0), HTML(value='')))"
      ]
     },
     "metadata": {},
     "output_type": "display_data"
    },
    {
     "name": "stdout",
     "output_type": "stream",
     "text": [
      "\n",
      "30\n",
      "train_loss 1.5341068108876545\n",
      "val_loss 62.717903\n",
      "EarlyStopping counter: 8 out of 9\n"
     ]
    },
    {
     "data": {
      "application/vnd.jupyter.widget-view+json": {
       "model_id": "ddb5a59122924f7f923da13a02221e28",
       "version_major": 2,
       "version_minor": 0
      },
      "text/plain": [
       "HBox(children=(FloatProgress(value=0.0, max=3.0), HTML(value='')))"
      ]
     },
     "metadata": {},
     "output_type": "display_data"
    },
    {
     "name": "stdout",
     "output_type": "stream",
     "text": [
      "\n",
      "31\n",
      "train_loss 1.5348329544067383\n",
      "val_loss 62.85585\n",
      "EarlyStopping counter: 9 out of 9\n",
      "Early stopping\n"
     ]
    }
   ],
   "source": [
    "from tqdm.auto import tqdm \n",
    "\n",
    "for epoch in range(60):\n",
    "    loss = 0 \n",
    "    model_np.train()\n",
    "    for batch in tqdm(loader_train):\n",
    "        context_x, context_y, target_x, target_y = batch\n",
    "        model_np.zero_grad()\n",
    "        y_pred, losses, extra = model_np.forward(context_x, context_y, target_x, target_y)\n",
    "\n",
    "        losses['loss'].backward()\n",
    "        loss += losses['loss'].cpu().detach().numpy()\n",
    "        opt.step()\n",
    "    loss /= len(loader_train)\n",
    "    \n",
    "    print(epoch)\n",
    "    print('train_loss', loss)\n",
    "    val_loss = test()[0]\n",
    "    val_loss = np.mean(np.abs(val_loss))\n",
    "    print('val_loss', val_loss)\n",
    "    \n",
    "    early_stopping(val_loss, model_np)\n",
    "    \n",
    "    if early_stopping.counter==6:\n",
    "        \n",
    "        lr=opt.state_dict()['param_groups'][0]['lr']\n",
    "        print('reducing lr {:2.2e} to {:2.2e}'.format(lr, lr/10))\n",
    "        opt = torch.optim.Adam(model_np.parameters(), lr=lr/10)\n",
    "\n",
    "    if early_stopping.early_stop:\n",
    "        print(\"Early stopping\")\n",
    "        break"
   ]
  },
  {
   "cell_type": "code",
   "execution_count": null,
   "metadata": {
    "ExecuteTime": {
     "end_time": "2020-03-02T01:53:13.439084Z",
     "start_time": "2020-03-02T01:53:13.433316Z"
    }
   },
   "outputs": [],
   "source": []
  },
  {
   "cell_type": "code",
   "execution_count": 32,
   "metadata": {
    "ExecuteTime": {
     "end_time": "2020-03-02T04:18:54.900456Z",
     "start_time": "2020-03-02T04:18:54.864800Z"
    }
   },
   "outputs": [
    {
     "data": {
      "text/plain": [
       "<All keys matched successfully>"
      ]
     },
     "execution_count": 32,
     "metadata": {},
     "output_type": "execute_result"
    }
   ],
   "source": [
    "model_np.load_state_dict(torch.load('outputs/checkpoint.pt'))"
   ]
  },
  {
   "cell_type": "code",
   "execution_count": 33,
   "metadata": {
    "ExecuteTime": {
     "end_time": "2020-03-02T04:18:54.908836Z",
     "start_time": "2020-03-02T04:18:54.903569Z"
    }
   },
   "outputs": [
    {
     "data": {
      "text/plain": [
       "311.95057991174616"
      ]
     },
     "execution_count": 33,
     "metadata": {},
     "output_type": "execute_result"
    }
   ],
   "source": [
    "loss * norm_std['lead'] + norm_mean['lead']"
   ]
  },
  {
   "cell_type": "markdown",
   "metadata": {},
   "source": [
    "# NP Model performance"
   ]
  },
  {
   "cell_type": "code",
   "execution_count": 34,
   "metadata": {
    "ExecuteTime": {
     "end_time": "2020-03-02T04:18:54.922934Z",
     "start_time": "2020-03-02T04:18:54.911486Z"
    }
   },
   "outputs": [],
   "source": [
    "# Make predictions\n",
    "def train_eval(do_eval=True):\n",
    "    \"\"\"Run model on train data\"\"\"\n",
    "    if do_eval:\n",
    "        model_np.eval()\n",
    "    with torch.no_grad():\n",
    "        target_x, target_y = df_train.drop(columns=['lead']), df_train['lead']\n",
    "        context_x, context_y = df_train.drop(columns=['lead']), df_train['lead']\n",
    "\n",
    "        context_x = torch.from_numpy(context_x.values).float()[None, :]\n",
    "        context_y = torch.from_numpy(context_y.values).float()[None, :, None]\n",
    "        target_x = torch.from_numpy(target_x.values).float()[None, :]\n",
    "        target_y = torch.from_numpy(target_y.values).float()[None, :, None]\n",
    "\n",
    "        y_pred, losses, extra = model_np.forward(context_x, context_y, target_x, target_y)\n",
    "    yr=(target_y-y_pred)[0].detach().cpu().numpy() * norm_std['lead']\n",
    "    \n",
    "    return yr, y_pred, losses, extra "
   ]
  },
  {
   "cell_type": "code",
   "execution_count": 35,
   "metadata": {
    "ExecuteTime": {
     "end_time": "2020-03-02T04:18:55.073143Z",
     "start_time": "2020-03-02T04:18:54.925454Z"
    },
    "scrolled": true
   },
   "outputs": [],
   "source": [
    "yr, y_pred, losses, extra  = train_eval()\n",
    "\n",
    "y_pred2 = y_pred[0].detach().cpu().numpy() * norm_std['lead'] + norm_mean['lead']\n",
    "meuse_train['np_residual'] = yr * 1\n",
    "meuse_train['np_prediction'] = y_pred2 * 1\n",
    "\n",
    "yr, y_pred, losses, extra  = test()\n",
    "\n",
    "y_pred2 = y_pred[0].detach().cpu().numpy() * norm_std['lead'] + norm_mean['lead']\n",
    "meuse_test['np_residual'] = yr * 1\n",
    "meuse_test['np_prediction'] = y_pred2 * 1\n",
    "\n"
   ]
  },
  {
   "cell_type": "code",
   "execution_count": null,
   "metadata": {
    "ExecuteTime": {
     "end_time": "2020-03-02T01:26:19.601075Z",
     "start_time": "2020-03-02T01:26:19.593750Z"
    }
   },
   "outputs": [],
   "source": []
  },
  {
   "cell_type": "code",
   "execution_count": 39,
   "metadata": {
    "ExecuteTime": {
     "end_time": "2020-03-02T04:26:20.080514Z",
     "start_time": "2020-03-02T04:26:18.988100Z"
    }
   },
   "outputs": [
    {
     "data": {
      "image/png": "[encoded data removed]",
      "text/plain": [
       "<Figure size 432x432 with 4 Axes>"
      ]
     },
     "metadata": {
      "needs_background": "light"
     },
     "output_type": "display_data"
    }
   ],
   "source": [
    "\n",
    "\n",
    "plt.figure(figsize=(6,6))\n",
    "plt.subplot(221)\n",
    "plt.plot(meuse_train['np_prediction'], meuse_train['lead'], '.')\n",
    "plt.title('Training: pred vs obs')\n",
    "plt.xlabel('Predictions')\n",
    "plt.ylabel('True value')\n",
    "plt.plot([0,700], [0,700], 'g--')\n",
    "plt.ylim(0,700)\n",
    "plt.xlim(0,700)\n",
    "plt.subplot(222)\n",
    "meuse_train['np_residual'].hist()\n",
    "plt.title('Hist training res\\nMedian absolute error: {:.1f}'.format(np.median(np.abs(meuse_train['np_residual']))))\n",
    "plt.subplot(223)\n",
    "plt.plot(meuse_test['np_prediction'], meuse_test['lead'], '.')\n",
    "plt.plot([0,700], [0,700], 'g--')\n",
    "plt.title('Test: pred vs obs')\n",
    "plt.xlabel('Predictions')\n",
    "plt.ylabel('True value')\n",
    "plt.ylim(0,700)\n",
    "plt.xlim(0,700)\n",
    "plt.subplot(224)\n",
    "meuse_test['np_residual'].hist()\n",
    "plt.title('Hist test res\\nMedian absolute error: {:.1f}'.format(np.median(np.abs(meuse_test['np_residual']))))\n",
    "plt.tight_layout()"
   ]
  },
  {
   "cell_type": "markdown",
   "metadata": {},
   "source": [
    "## Ordinary kriging\n",
    "\n",
    "Variogram parameters are set with trail and error."
   ]
  },
  {
   "cell_type": "code",
   "execution_count": 40,
   "metadata": {
    "ExecuteTime": {
     "end_time": "2020-03-02T04:26:20.380539Z",
     "start_time": "2020-03-02T04:26:20.082772Z"
    }
   },
   "outputs": [
    {
     "name": "stdout",
     "output_type": "stream",
     "text": [
      "Plotting Enabled\n",
      "\n",
      "Adjusting data for anisotropy...\n",
      "Initializing variogram model...\n",
      "Coordinates type: 'euclidean' \n",
      "\n",
      "Using 'spherical' Variogram Model\n",
      "Partial Sill: 9500\n",
      "Full Sill: 13500\n",
      "Range: 900\n",
      "Nugget: 4000 \n",
      "\n"
     ]
    },
    {
     "data": {
      "image/png": "[encoded data removed]",
      "text/plain": [
       "<Figure size 432x288 with 1 Axes>"
      ]
     },
     "metadata": {
      "needs_background": "light"
     },
     "output_type": "display_data"
    },
    {
     "name": "stdout",
     "output_type": "stream",
     "text": [
      "Calculating statistics on variogram model fit...\n",
      "Executing Ordinary Kriging...\n",
      "\n",
      "Executing Ordinary Kriging...\n",
      "\n"
     ]
    }
   ],
   "source": [
    "model = OrdinaryKriging(x=meuse_train['x'], y=meuse_train['y'], z=meuse_train['lead'], verbose=True,\n",
    "                variogram_parameters=[13500, 900, 4000],\n",
    "                enable_plotting=True, nlags=30, weight=True, variogram_model='spherical')\n",
    "meuse_train['prediction'] = model.execute(style='points',xpoints=meuse_train['x'], ypoints=meuse_train['y'] )[0].data\n",
    "meuse_train['kriging_residual'] = meuse_train['lead'] - meuse_train['prediction']\n",
    "meuse_test['prediction'] = model.execute(style='points', xpoints=meuse_test['x'], ypoints=meuse_test['y'] )[0].data\n",
    "meuse_test['kriging_residual'] = meuse_test['lead'] - meuse_test['prediction']"
   ]
  },
  {
   "cell_type": "markdown",
   "metadata": {},
   "source": [
    "## Krig Model performance\n",
    "\n",
    "- Performance on training data (kriging is an exact interpollator, so perfect prediction)\n",
    "- Performance on test data"
   ]
  },
  {
   "cell_type": "code",
   "execution_count": 41,
   "metadata": {
    "ExecuteTime": {
     "end_time": "2020-03-02T04:26:21.331833Z",
     "start_time": "2020-03-02T04:26:20.383570Z"
    }
   },
   "outputs": [
    {
     "data": {
      "image/png": "[encoded data removed]",
      "text/plain": [
       "<Figure size 432x432 with 4 Axes>"
      ]
     },
     "metadata": {
      "needs_background": "light"
     },
     "output_type": "display_data"
    }
   ],
   "source": [
    "plt.figure(figsize=(6,6))\n",
    "plt.subplot(221)\n",
    "plt.plot(meuse_train['prediction'], meuse_train['lead'], '.')\n",
    "plt.title('Training: pred vs obs')\n",
    "plt.xlabel('Predictions')\n",
    "plt.ylabel('True value')\n",
    "plt.plot([0,700], [0,700], 'g--')\n",
    "plt.ylim(0,700)\n",
    "plt.xlim(0,700)\n",
    "plt.subplot(222)\n",
    "meuse_train['kriging_residual'].hist()\n",
    "plt.title('Hist training res\\nMedian absolute error: {:.1f}'.format(np.median(np.abs(meuse_train['kriging_residual']))))\n",
    "plt.subplot(223)\n",
    "plt.plot(meuse_test['prediction'], meuse_test['lead'], '.')\n",
    "plt.plot([0,700], [0,700], 'g--')\n",
    "plt.title('Test: pred vs obs')\n",
    "plt.xlabel('Predictions')\n",
    "plt.ylabel('True value')\n",
    "plt.ylim(0,700)\n",
    "plt.xlim(0,700)\n",
    "plt.subplot(224)\n",
    "meuse_test['kriging_residual'].hist()\n",
    "plt.title('Hist test res\\nMedian absolute error: {:.1f}'.format(np.median(np.abs(meuse_test['kriging_residual']))))\n",
    "plt.tight_layout()"
   ]
  },
  {
   "cell_type": "markdown",
   "metadata": {},
   "source": [
    "## Benchmark with Nearest Neighbours regression\n",
    "\n",
    "Optimise number of neighbours with sklearn gridsearch"
   ]
  },
  {
   "cell_type": "code",
   "execution_count": 42,
   "metadata": {
    "ExecuteTime": {
     "end_time": "2020-03-02T04:26:21.502036Z",
     "start_time": "2020-03-02T04:26:21.334294Z"
    }
   },
   "outputs": [
    {
     "name": "stdout",
     "output_type": "stream",
     "text": [
      "Optimal number of neighbours {'n_neighbors': 4}\n"
     ]
    },
    {
     "name": "stderr",
     "output_type": "stream",
     "text": [
      "/home/wassname/.pyenv/versions/jup3.7.3/lib/python3.7/site-packages/sklearn/model_selection/_split.py:1978: FutureWarning: The default value of cv will change from 3 to 5 in version 0.22. Specify it explicitly to silence this warning.\n",
      "  warnings.warn(CV_WARNING, FutureWarning)\n",
      "/home/wassname/.pyenv/versions/jup3.7.3/lib/python3.7/site-packages/sklearn/model_selection/_search.py:813: DeprecationWarning: The default of the `iid` parameter will change from True to False in version 0.22 and will be removed in 0.24. This will change numeric results when test-set sizes are unequal.\n",
      "  DeprecationWarning)\n"
     ]
    }
   ],
   "source": [
    "parameters = {'n_neighbors':np.arange(1,10)}\n",
    "nn_model = KNeighborsRegressor()\n",
    "nn_model_cv = GridSearchCV(nn_model, parameters)\n",
    "nn_model_cv = nn_model_cv.fit(meuse_train[['x', 'y']], meuse_train['lead']) \n",
    "print('Optimal number of neighbours {}'.format(nn_model_cv.best_params_))\n",
    "nn_model = nn_model_cv.best_estimator_\n",
    "meuse_test['nn_prediction'] = nn_model.predict(meuse_test[['x', 'y']])\n",
    "meuse_test['nn_residual'] = meuse_test['lead'] - meuse_test['nn_prediction']"
   ]
  },
  {
   "cell_type": "code",
   "execution_count": null,
   "metadata": {
    "ExecuteTime": {
     "end_time": "2020-03-01T06:06:37.015399Z",
     "start_time": "2020-03-01T06:06:36.920824Z"
    }
   },
   "outputs": [],
   "source": []
  },
  {
   "cell_type": "code",
   "execution_count": null,
   "metadata": {
    "ExecuteTime": {
     "end_time": "2020-03-01T06:06:53.203456Z",
     "start_time": "2020-03-01T06:06:53.153655Z"
    }
   },
   "outputs": [],
   "source": []
  },
  {
   "cell_type": "code",
   "execution_count": 43,
   "metadata": {
    "ExecuteTime": {
     "end_time": "2020-03-02T04:26:21.866753Z",
     "start_time": "2020-03-02T04:26:21.504662Z"
    }
   },
   "outputs": [
    {
     "data": {
      "text/plain": [
       "Text(0.5, 1.0, 'Compairing residuals\\nmedian abs res NN: 38.8, Kriging 33.7, NP: 26.1\\nmean abs res NN: 66.1, Kriging: 62.5, NP: 60.3')"
      ]
     },
     "execution_count": 43,
     "metadata": {},
     "output_type": "execute_result"
    },
    {
     "data": {
      "image/png": "[encoded data removed]",
      "text/plain": [
       "<Figure size 288x288 with 1 Axes>"
      ]
     },
     "metadata": {},
     "output_type": "display_data"
    }
   ],
   "source": [
    "sb.set_style(\"whitegrid\")\n",
    "plt.figure(figsize=(4,4))\n",
    "sb.boxplot(data=meuse_test[[\"nn_residual\",\"kriging_residual\",\"np_residual\"]] )\n",
    "plt.title('''Compairing residuals\n",
    "median abs res NN: {:.1f}, Kriging {:.1f}, NP: {:.1f}\n",
    "mean abs res NN: {:.1f}, Kriging: {:.1f}, NP: {:.1f}'''\\\n",
    "          .format(\n",
    "    np.median(np.abs(meuse_test['nn_residual'])), \n",
    "    np.median(np.abs(meuse_test['kriging_residual'])),\n",
    "    np.median(np.abs(meuse_test['np_residual'])),\n",
    "    np.mean(np.abs(meuse_test['nn_residual'])), \n",
    "    np.mean(np.abs(meuse_test['kriging_residual'])),\n",
    "    np.mean(np.abs(meuse_test['np_residual']))\n",
    "))"
   ]
  },
  {
   "cell_type": "markdown",
   "metadata": {},
   "source": [
    "## Help functions to sample a grid from a polygon\n",
    "\n",
    "As found on http://portolan.leaffan.net/creating-sample-points-with-ogr-and-shapely-pt-2-regular-grid-sampling/"
   ]
  },
  {
   "cell_type": "code",
   "execution_count": 44,
   "metadata": {
    "ExecuteTime": {
     "end_time": "2020-03-02T04:26:21.893112Z",
     "start_time": "2020-03-02T04:26:21.869266Z"
    }
   },
   "outputs": [],
   "source": [
    "class PolygonPointSampler(object):\n",
    " \n",
    "    def __init__(self, polygon=''):\n",
    "        u\"\"\"\n",
    "        Initialize a new PolygonPointSampler object using the specified polygon\n",
    "        object (as allocated by Shapely). If no polygon is given a new empty\n",
    "        one is created and set as the base polygon.\n",
    "        \"\"\"\n",
    "        if polygon:\n",
    "            self.polygon = polygon\n",
    "        else:\n",
    "            self.polygon = Polygon()\n",
    "        self.samples = list()\n",
    "        self.sample_count = 0\n",
    "        self.prepared = False\n",
    " \n",
    "    def add_polygon(self, polygon):\n",
    "        u\"\"\"\n",
    "        Add another polygon entity to the base polygon by geometrically unifying\n",
    "        it with the current one.\n",
    "        \"\"\"\n",
    "        self.polygon = self.polygon.union(polygon)\n",
    "        self.prepared = False\n",
    "    \n",
    "    def get_spatial_df(self):\n",
    "        geo_df = pd.DataFrame(self.samples, columns=['geometry']).set_geometry('geometry')\n",
    "        geo_df['x'] = geo_df['geometry'].apply(lambda x: x.coords[0][0])\n",
    "        geo_df['y'] = geo_df['geometry'].apply(lambda x: x.coords[0][1])\n",
    "        return geo_df\n",
    " \n",
    "    def print_samples(self):\n",
    "        u\"\"\"\n",
    "        Print all sample points using their WKT representation.\n",
    "        \"\"\"\n",
    "        for sample_pt in self.samples:\n",
    "            print(sample_pt)\n",
    " \n",
    "    def prepare_sampling(self):\n",
    "        u\"\"\"\n",
    "        Prepare the actual sampling procedure by splitting up the specified base\n",
    "        polygon (that may consist of multiple simple polygons) and appending its\n",
    "        compartments to a dedicated list.\n",
    "        \"\"\"\n",
    "        self.src = list()\n",
    "        if hasattr(self.polygon, 'geoms'):\n",
    "            for py in self.polygon:\n",
    "                self.src.append(py)\n",
    "        else:\n",
    "            self.src.append(self.polygon)\n",
    "        self.prepared = True\n",
    " \n",
    "    def perform_sampling(self):\n",
    "        u\"\"\"\n",
    "        Create a stub for the actual sampling procedure.\n",
    "        \"\"\"\n",
    "        raise NotImplementedError\n",
    "    \n",
    "class RegularGridSampler(PolygonPointSampler):\n",
    "    def __init__(self, polygon = '', x_interval = 100, y_interval = 100):\n",
    "        super(self.__class__, self).__init__(polygon)\n",
    "        self.x_interval = x_interval\n",
    "        self.y_interval = y_interval\n",
    "    \n",
    "    def perform_sampling(self):\n",
    "        u\"\"\"\n",
    "        Perform sampling by substituting the polygon with a regular grid of\n",
    "        sample points within it. The distance between the sample points is\n",
    "        given by x_interval and y_interval.\n",
    "        \"\"\"\n",
    "        if not self.prepared:\n",
    "            self.prepare_sampling()\n",
    "        ll = self.polygon.bounds[:2]\n",
    "        ur = self.polygon.bounds[2:]\n",
    "        low_x = int(ll[0]) / self.x_interval * self.x_interval\n",
    "        upp_x = int(ur[0]) / self.x_interval * self.x_interval + self.x_interval\n",
    "        low_y = int(ll[1]) / self.y_interval * self.y_interval\n",
    "        upp_y = int(ur[1]) / self.y_interval * self.y_interval + self.y_interval\n",
    "        \n",
    "        for x in floatrange(low_x, upp_x, self.x_interval):\n",
    "            for y in floatrange(low_y, upp_y, self.y_interval):\n",
    "                p = shapely.geometry.Point(x, y)\n",
    "                if p.within(self.polygon):\n",
    "                    self.samples.append(p)\n",
    "\n",
    "def floatrange(start, stop, step):\n",
    "    while start < stop:\n",
    "        yield start\n",
    "        start += step\n"
   ]
  },
  {
   "cell_type": "markdown",
   "metadata": {},
   "source": [
    "## Sample a grid \n",
    "\n",
    "- Find the convex hull surrounding the measurements\n",
    "- Sample a grid as found with the help functions"
   ]
  },
  {
   "cell_type": "code",
   "execution_count": 45,
   "metadata": {
    "ExecuteTime": {
     "end_time": "2020-03-02T04:26:24.788790Z",
     "start_time": "2020-03-02T04:26:21.895130Z"
    }
   },
   "outputs": [
    {
     "data": {
      "text/plain": [
       "Text(0.5, 1.0, 'Sampled grid')"
      ]
     },
     "execution_count": 45,
     "metadata": {},
     "output_type": "execute_result"
    },
    {
     "data": {
      "image/png": "[encoded data removed]",
      "text/plain": [
       "<Figure size 288x288 with 1 Axes>"
      ]
     },
     "metadata": {},
     "output_type": "display_data"
    }
   ],
   "source": [
    "convex_hull = shapely.geometry.MultiPoint(list(meuse.geometry)).convex_hull.buffer(1050)\n",
    "sampler = RegularGridSampler(convex_hull, x_interval=50, y_interval=50)\n",
    "sampler.perform_sampling()\n",
    "grid_points = sampler.get_spatial_df()\n",
    "plt.figure(figsize=(4,4))\n",
    "plt.plot(grid_points['x'], grid_points['y'], '.')\n",
    "plt.plot(meuse['x'], meuse['y'], 'r.')\n",
    "plt.title('Sampled grid')"
   ]
  },
  {
   "cell_type": "markdown",
   "metadata": {},
   "source": [
    "## Krige a value for each grid point"
   ]
  },
  {
   "cell_type": "code",
   "execution_count": 46,
   "metadata": {
    "ExecuteTime": {
     "end_time": "2020-03-02T04:26:24.927118Z",
     "start_time": "2020-03-02T04:26:24.791600Z"
    }
   },
   "outputs": [
    {
     "name": "stdout",
     "output_type": "stream",
     "text": [
      "Executing Ordinary Kriging...\n",
      "\n"
     ]
    },
    {
     "data": {
      "text/plain": [
       "0       158.970993\n",
       "1       158.970993\n",
       "2       158.970993\n",
       "3       158.970993\n",
       "4       158.970993\n",
       "           ...    \n",
       "7859    158.970993\n",
       "7860    158.970993\n",
       "7861    158.970993\n",
       "7862    158.970993\n",
       "7863    158.970993\n",
       "Name: prediction, Length: 7864, dtype: float64"
      ]
     },
     "execution_count": 46,
     "metadata": {},
     "output_type": "execute_result"
    }
   ],
   "source": [
    "grid_points['prediction'] = model.execute(style='points', xpoints=grid_points['x'], ypoints=grid_points['y'])[0].data\n",
    "grid_points['prediction']"
   ]
  },
  {
   "cell_type": "markdown",
   "metadata": {},
   "source": [
    "## Transform data for a map\n",
    "\n",
    "- Transform to lat long projection\n",
    "- From long to wide format\n",
    "- Fill in missing values"
   ]
  },
  {
   "cell_type": "code",
   "execution_count": 47,
   "metadata": {
    "ExecuteTime": {
     "end_time": "2020-03-02T04:26:24.947458Z",
     "start_time": "2020-03-02T04:26:24.933533Z"
    }
   },
   "outputs": [],
   "source": [
    "def plot_grid(grid_points, prediction, title):\n",
    "    \n",
    "    grid_points['prediction'] = prediction\n",
    "    grid_points_gpd = grid_points.set_geometry('geometry')    \n",
    "    grid_points_gpd.crs = {'init':'epsg:28992'}\n",
    "    grid_points_gpd = grid_points_gpd.to_crs({'init': 'epsg:4326'})\n",
    "    grid_points_gpd['long'] = grid_points_gpd.geometry.apply(lambda x: x.x)\n",
    "    grid_points_gpd['lat'] = grid_points_gpd.geometry.apply(lambda x: x.y)\n",
    "    \n",
    "    grid_points_pivot = grid_points_gpd.pivot(values='prediction', columns='x', index='y').fillna(0)\n",
    "    grid_points_pivot = grid_points_pivot.loc[:,grid_points_pivot.columns.sort_values(ascending=True)]\n",
    "    grid_points_pivot = grid_points_pivot.loc[grid_points_pivot.index.sort_values(ascending=True),:]\n",
    "    plt.contourf(np.unique(grid_points_pivot.columns.values), np.unique(grid_points_pivot.index.values), \n",
    "                 grid_points_pivot.values,20,cmap='GnBu', vmin=0, vmax=400)\n",
    "    plt.scatter(meuse['x'], meuse['y'], c=meuse['lead'], cmap='GnBu', vmin=0, vmax=400)\n",
    "    plt.plot(meuse['x'], meuse['y'], '.', ms=1)\n",
    "    plt.title(title)\n",
    "    plt.colorbar()\n",
    "    \n",
    "    return grid_points_pivot.values"
   ]
  },
  {
   "cell_type": "code",
   "execution_count": null,
   "metadata": {
    "ExecuteTime": {
     "end_time": "2020-03-02T01:35:48.083930Z",
     "start_time": "2020-03-02T01:35:48.070636Z"
    }
   },
   "outputs": [],
   "source": []
  },
  {
   "cell_type": "code",
   "execution_count": 48,
   "metadata": {
    "ExecuteTime": {
     "end_time": "2020-03-02T04:26:27.012700Z",
     "start_time": "2020-03-02T04:26:24.953683Z"
    }
   },
   "outputs": [
    {
     "name": "stdout",
     "output_type": "stream",
     "text": [
      "Executing Ordinary Kriging...\n",
      "\n"
     ]
    },
    {
     "name": "stderr",
     "output_type": "stream",
     "text": [
      "/home/wassname/.pyenv/versions/jup3.7.3/lib/python3.7/site-packages/pyproj/crs/crs.py:55: FutureWarning: '+init=<authority>:<code>' syntax is deprecated. '<authority>:<code>' is the preferred initialization method. When making the change, be mindful of axis order changes: https://pyproj4.github.io/pyproj/stable/gotchas.html#axis-order-changes-in-proj-6\n",
      "  return _prepare_from_string(\" \".join(pjargs))\n"
     ]
    },
    {
     "data": {
      "image/png": "[encoded data removed]",
      "text/plain": [
       "<Figure size 432x288 with 2 Axes>"
      ]
     },
     "metadata": {},
     "output_type": "display_data"
    }
   ],
   "source": [
    "pred = model.execute(style='points', xpoints=grid_points['x'], ypoints=grid_points['y'])[0].data\n",
    "z_krig = plot_grid(grid_points, pred, title=\"Kriged grid values\")"
   ]
  },
  {
   "cell_type": "markdown",
   "metadata": {},
   "source": [
    "## NP Plot"
   ]
  },
  {
   "cell_type": "code",
   "execution_count": 49,
   "metadata": {
    "ExecuteTime": {
     "end_time": "2020-03-02T04:26:28.116634Z",
     "start_time": "2020-03-02T04:26:27.016006Z"
    }
   },
   "outputs": [],
   "source": [
    "def eval_grid(grid_points, meuse, model_np):\n",
    "    \n",
    "    target_x = grid_points[['x', 'y']].copy()\n",
    "    target_x-=norm_mean[['x', 'y']]\n",
    "    target_x/=norm_std[['x', 'y']]\n",
    "\n",
    "    df = meuse[['x', 'y', 'lead']].copy()\n",
    "    df-=norm_mean\n",
    "    df/=norm_std\n",
    "    context_x = df[['x', 'y']]\n",
    "    context_y = df['lead']\n",
    "\n",
    "    context_x = torch.from_numpy(context_x.values).float()[None, :]\n",
    "    context_y = torch.from_numpy(context_y.values).float()[None, :, None]\n",
    "    target_x = torch.from_numpy(target_x.values).float()[None, :]\n",
    "\n",
    "    # Make predictions\n",
    "    model_np.eval()\n",
    "    with torch.no_grad():\n",
    "\n",
    "        y_pred, losses, extra = model_np.forward(context_x, context_y, target_x, target_x[:, :, :1])\n",
    "    return yr, y_pred, losses, extra \n",
    "\n",
    "\n",
    "yr, y_pred, losses, extra  = eval_grid(grid_points, meuse, model_np)\n",
    "std = extra['dist'].scale[0, :, 0] * 1\n",
    "loc = extra['dist'].loc[0, :, 0] * 1\n",
    "std *= norm_std['lead']\n",
    "loc *= norm_std['lead']\n",
    "loc += norm_mean['lead']"
   ]
  },
  {
   "cell_type": "code",
   "execution_count": 50,
   "metadata": {
    "ExecuteTime": {
     "end_time": "2020-03-02T04:26:30.133611Z",
     "start_time": "2020-03-02T04:26:28.119333Z"
    }
   },
   "outputs": [
    {
     "name": "stderr",
     "output_type": "stream",
     "text": [
      "/home/wassname/.pyenv/versions/jup3.7.3/lib/python3.7/site-packages/pyproj/crs/crs.py:55: FutureWarning: '+init=<authority>:<code>' syntax is deprecated. '<authority>:<code>' is the preferred initialization method. When making the change, be mindful of axis order changes: https://pyproj4.github.io/pyproj/stable/gotchas.html#axis-order-changes-in-proj-6\n",
      "  return _prepare_from_string(\" \".join(pjargs))\n"
     ]
    },
    {
     "data": {
      "text/plain": [
       "1"
      ]
     },
     "execution_count": 50,
     "metadata": {},
     "output_type": "execute_result"
    },
    {
     "data": {
      "image/png": "[encoded data removed]",
      "text/plain": [
       "<Figure size 432x288 with 2 Axes>"
      ]
     },
     "metadata": {},
     "output_type": "display_data"
    }
   ],
   "source": [
    "plot_grid(grid_points, (loc)*1.0, title=\"NP grid values \")\n",
    "1"
   ]
  },
  {
   "cell_type": "code",
   "execution_count": 51,
   "metadata": {
    "ExecuteTime": {
     "end_time": "2020-03-02T04:26:32.030534Z",
     "start_time": "2020-03-02T04:26:30.136282Z"
    }
   },
   "outputs": [
    {
     "name": "stderr",
     "output_type": "stream",
     "text": [
      "/home/wassname/.pyenv/versions/jup3.7.3/lib/python3.7/site-packages/pyproj/crs/crs.py:55: FutureWarning: '+init=<authority>:<code>' syntax is deprecated. '<authority>:<code>' is the preferred initialization method. When making the change, be mindful of axis order changes: https://pyproj4.github.io/pyproj/stable/gotchas.html#axis-order-changes-in-proj-6\n",
      "  return _prepare_from_string(\" \".join(pjargs))\n"
     ]
    },
    {
     "data": {
      "text/plain": [
       "1"
      ]
     },
     "execution_count": 51,
     "metadata": {},
     "output_type": "execute_result"
    },
    {
     "data": {
      "image/png": "[encoded data removed]",
      "text/plain": [
       "<Figure size 432x288 with 2 Axes>"
      ]
     },
     "metadata": {},
     "output_type": "display_data"
    }
   ],
   "source": [
    "plot_grid(grid_points, (loc-0.5*std)*1.0, title=\"NP grid values (-0.5 std)\")\n",
    "1"
   ]
  },
  {
   "cell_type": "code",
   "execution_count": 52,
   "metadata": {
    "ExecuteTime": {
     "end_time": "2020-03-02T04:26:33.946722Z",
     "start_time": "2020-03-02T04:26:32.033924Z"
    }
   },
   "outputs": [
    {
     "name": "stderr",
     "output_type": "stream",
     "text": [
      "/home/wassname/.pyenv/versions/jup3.7.3/lib/python3.7/site-packages/pyproj/crs/crs.py:55: FutureWarning: '+init=<authority>:<code>' syntax is deprecated. '<authority>:<code>' is the preferred initialization method. When making the change, be mindful of axis order changes: https://pyproj4.github.io/pyproj/stable/gotchas.html#axis-order-changes-in-proj-6\n",
      "  return _prepare_from_string(\" \".join(pjargs))\n"
     ]
    },
    {
     "data": {
      "text/plain": [
       "1"
      ]
     },
     "execution_count": 52,
     "metadata": {},
     "output_type": "execute_result"
    },
    {
     "data": {
      "image/png": "[encoded data removed]",
      "text/plain": [
       "<Figure size 432x288 with 2 Axes>"
      ]
     },
     "metadata": {},
     "output_type": "display_data"
    }
   ],
   "source": [
    "plot_grid(grid_points, (loc+0.25*std)*1.0, title=\"NP grid values (+.5 std)\")\n",
    "1"
   ]
  },
  {
   "cell_type": "markdown",
   "metadata": {
    "ExecuteTime": {
     "end_time": "2020-03-02T00:49:47.568631Z",
     "start_time": "2020-03-02T00:49:47.562057Z"
    }
   },
   "source": [
    "# Profile lines"
   ]
  },
  {
   "cell_type": "code",
   "execution_count": 53,
   "metadata": {
    "ExecuteTime": {
     "end_time": "2020-03-02T04:26:33.972097Z",
     "start_time": "2020-03-02T04:26:33.949216Z"
    }
   },
   "outputs": [
    {
     "ename": "NameError",
     "evalue": "name 'z_np' is not defined",
     "output_type": "error",
     "traceback": [
      "\u001b[0;31m---------------------------------------------------------------------------\u001b[0m",
      "\u001b[0;31mNameError\u001b[0m                                 Traceback (most recent call last)",
      "\u001b[0;32m<ipython-input-53-337098d58816>\u001b[0m in \u001b[0;36m<module>\u001b[0;34m\u001b[0m\n\u001b[0;32m----> 1\u001b[0;31m \u001b[0mim\u001b[0m\u001b[0;34m=\u001b[0m\u001b[0mz_np\u001b[0m\u001b[0;34m[\u001b[0m\u001b[0;34m:\u001b[0m\u001b[0;34m:\u001b[0m\u001b[0;34m-\u001b[0m\u001b[0;36m1\u001b[0m\u001b[0;34m]\u001b[0m\u001b[0;34m\u001b[0m\u001b[0;34m\u001b[0m\u001b[0m\n\u001b[0m\u001b[1;32m      2\u001b[0m \u001b[0mim\u001b[0m\u001b[0;34m[\u001b[0m\u001b[0mim\u001b[0m\u001b[0;34m==\u001b[0m\u001b[0;36m0\u001b[0m\u001b[0;34m]\u001b[0m\u001b[0;34m=\u001b[0m\u001b[0mnp\u001b[0m\u001b[0;34m.\u001b[0m\u001b[0mnan\u001b[0m\u001b[0;34m\u001b[0m\u001b[0;34m\u001b[0m\u001b[0m\n\u001b[1;32m      3\u001b[0m \u001b[0;34m\u001b[0m\u001b[0m\n\u001b[1;32m      4\u001b[0m \u001b[0mplt\u001b[0m\u001b[0;34m.\u001b[0m\u001b[0mtitle\u001b[0m\u001b[0;34m(\u001b[0m\u001b[0;34m'NP profile lines'\u001b[0m\u001b[0;34m)\u001b[0m\u001b[0;34m\u001b[0m\u001b[0;34m\u001b[0m\u001b[0m\n\u001b[1;32m      5\u001b[0m \u001b[0mget_ipython\u001b[0m\u001b[0;34m(\u001b[0m\u001b[0;34m)\u001b[0m\u001b[0;34m.\u001b[0m\u001b[0mrun_line_magic\u001b[0m\u001b[0;34m(\u001b[0m\u001b[0;34m'pinfo'\u001b[0m\u001b[0;34m,\u001b[0m \u001b[0;34m'plt.imshow'\u001b[0m\u001b[0;34m)\u001b[0m\u001b[0;34m\u001b[0m\u001b[0;34m\u001b[0m\u001b[0m\n",
      "\u001b[0;31mNameError\u001b[0m: name 'z_np' is not defined"
     ]
    }
   ],
   "source": [
    "im=z_np[::-1]\n",
    "im[im==0]=np.nan\n",
    "\n",
    "plt.title('NP profile lines')\n",
    "plt.imshow?\n",
    "plt.imshow(im, vmin=0, vmax=400, cmap='GnBu', interpolation='none')\n",
    "plt.colorbar()\n",
    "plt.hlines(80, 0, 100, colors='orange')\n",
    "plt.vlines(50, 0, 130, colors='b')\n",
    "plt.show()\n",
    "\n",
    "# Show a couple of steep profiles\n",
    "plt.plot(im[:, 50], c='b')\n",
    "plt.plot(im[80], c='orange')\n",
    "plt.ylim(0, 400)"
   ]
  },
  {
   "cell_type": "code",
   "execution_count": null,
   "metadata": {
    "ExecuteTime": {
     "end_time": "2020-03-02T04:26:33.975546Z",
     "start_time": "2020-03-02T04:26:26.100Z"
    }
   },
   "outputs": [],
   "source": [
    "im=z_krig[::-1]\n",
    "im[im==0]=np.nan\n",
    "\n",
    "plt.title('Kriging profile lines')\n",
    "plt.imshow(im, vmin=0, vmax=400, cmap='GnBu', interpolation='none' )\n",
    "plt.colorbar()\n",
    "plt.hlines(80, 0, 100, colors='orange')\n",
    "plt.vlines(50, 0, 130, colors='b')\n",
    "plt.show()\n",
    "\n",
    "# Show a couple of steep profiles\n",
    "plt.plot(im[:, 50], c='b')\n",
    "plt.plot(im[80], c='orange')\n",
    "plt.ylim(0, 400)"
   ]
  },
  {
   "cell_type": "markdown",
   "metadata": {
    "ExecuteTime": {
     "end_time": "2020-03-02T00:39:10.405318Z",
     "start_time": "2020-03-02T00:39:10.401238Z"
    }
   },
   "source": [
    "# Histogram"
   ]
  },
  {
   "cell_type": "code",
   "execution_count": null,
   "metadata": {
    "ExecuteTime": {
     "end_time": "2020-03-02T04:26:33.978921Z",
     "start_time": "2020-03-02T04:26:26.400Z"
    }
   },
   "outputs": [],
   "source": [
    "# Historgram showing extrapolation\n",
    "lw=3\n",
    "plt.hist(meuse['lead'].values.flatten(), range=[0, 1000], histtype='step', density=True, label='true', lw=lw)\n",
    "\n",
    "im = z_np * 1\n",
    "im[im==0]=np.nan\n",
    "plt.hist(im.flatten(), range=[0, 1000], histtype='step', density=True, label='np', lw=lw)\n",
    "\n",
    "\n",
    "im2 = model.execute(style='points', xpoints=grid_points['x'], ypoints=grid_points['y'])[0].data\n",
    "im2[im2==0]=np.nan\n",
    "plt.hist(im2.flatten(), range=[0, 1000], histtype='step', density=True, label='kriging', lw=lw)\n",
    "\n",
    "plt.legend()"
   ]
  },
  {
   "cell_type": "code",
   "execution_count": null,
   "metadata": {
    "ExecuteTime": {
     "end_time": "2020-03-02T00:40:15.029988Z",
     "start_time": "2020-03-02T00:40:15.023318Z"
    }
   },
   "outputs": [],
   "source": []
  },
  {
   "cell_type": "code",
   "execution_count": null,
   "metadata": {
    "ExecuteTime": {
     "end_time": "2020-03-01T09:14:47.744932Z",
     "start_time": "2020-03-01T09:14:47.059419Z"
    }
   },
   "outputs": [],
   "source": []
  },
  {
   "cell_type": "code",
   "execution_count": null,
   "metadata": {
    "ExecuteTime": {
     "end_time": "2020-03-02T04:26:33.981131Z",
     "start_time": "2020-03-02T04:26:27.000Z"
    }
   },
   "outputs": [],
   "source": [
    "plt.scatter(meuse['x'], meuse['y'], c=meuse['lead'], cmap='GnBu', vmin=0, vmax=400)\n",
    "plt.plot(meuse['x'], meuse['y'], '.', ms=1)\n",
    "plt.colorbar()\n",
    "plt.title('samples')"
   ]
  },
  {
   "cell_type": "code",
   "execution_count": null,
   "metadata": {
    "ExecuteTime": {
     "end_time": "2020-03-01T06:38:52.016630Z",
     "start_time": "2020-03-01T06:38:51.965367Z"
    }
   },
   "outputs": [],
   "source": []
  },
  {
   "cell_type": "code",
   "execution_count": null,
   "metadata": {
    "ExecuteTime": {
     "end_time": "2020-03-01T06:39:44.623253Z",
     "start_time": "2020-03-01T06:39:43.865906Z"
    }
   },
   "outputs": [],
   "source": []
  },
  {
   "cell_type": "markdown",
   "metadata": {},
   "source": [
    "## Folium plot"
   ]
  },
  {
   "cell_type": "code",
   "execution_count": null,
   "metadata": {
    "ExecuteTime": {
     "end_time": "2020-03-02T04:26:33.982381Z",
     "start_time": "2020-03-02T04:26:28.600Z"
    }
   },
   "outputs": [],
   "source": [
    "def color_function(value):\n",
    "    if (value==0) | (value==np.nan) : return (0,0,0,0)\n",
    "    else: \n",
    "        color = matplotlib.cm.YlOrRd(value) \n",
    "        return color"
   ]
  },
  {
   "cell_type": "code",
   "execution_count": null,
   "metadata": {
    "ExecuteTime": {
     "end_time": "2020-03-02T02:20:50.917864Z",
     "start_time": "2020-03-02T02:20:50.912597Z"
    }
   },
   "outputs": [],
   "source": []
  },
  {
   "cell_type": "code",
   "execution_count": null,
   "metadata": {
    "ExecuteTime": {
     "end_time": "2020-03-02T04:26:33.983557Z",
     "start_time": "2020-03-02T04:26:28.900Z"
    }
   },
   "outputs": [],
   "source": [
    "m = folium.Map([mean_lat, mean_long], zoom_start=13, tiles='Stamen Toner')\n",
    "m.add_children(plugins.ImageOverlay(image = (z_np/400), \n",
    "                                           opacity=0.7,origin='lower',\n",
    "                                           colormap=color_function,\n",
    "                                   bounds = [[np.min(grid_points_gpd['lat']), np.min(grid_points_gpd['long'])],\n",
    "                                            [np.max(grid_points_gpd['lat']), np.max(grid_points_gpd['long'])]]))\n",
    "for row in meuse_lat_long.iterrows():\n",
    "    folium.CircleMarker(location=[row[1]['lat'], row[1]['long']], radius=50, color=None, fill_opacity=1,\n",
    "                    fill_color=scale(row[1][feature_to_plot])).add_to(m)\n",
    "m.add_children(scale)"
   ]
  },
  {
   "cell_type": "code",
   "execution_count": null,
   "metadata": {},
   "outputs": [],
   "source": []
  },
  {
   "cell_type": "code",
   "execution_count": null,
   "metadata": {},
   "outputs": [],
   "source": []
  },
  {
   "cell_type": "code",
   "execution_count": null,
   "metadata": {},
   "outputs": [],
   "source": []
  },
  {
   "cell_type": "code",
   "execution_count": null,
   "metadata": {},
   "outputs": [],
   "source": []
  },
  {
   "cell_type": "code",
   "execution_count": null,
   "metadata": {},
   "outputs": [],
   "source": []
  }
 ],
 "metadata": {
  "anaconda-cloud": {},
  "kernelspec": {
   "display_name": "jup3.7.3",
   "language": "python",
   "name": "jup3.7.3"
  },
  "language_info": {
   "codemirror_mode": {
    "name": "ipython",
    "version": 3
   },
   "file_extension": ".py",
   "mimetype": "text/x-python",
   "name": "python",
   "nbconvert_exporter": "python",
   "pygments_lexer": "ipython3",
   "version": "3.7.3"
  },
  "toc": {
   "base_numbering": 1,
   "nav_menu": {},
   "number_sections": true,
   "sideBar": true,
   "skip_h1_title": false,
   "title_cell": "Table of Contents",
   "title_sidebar": "Contents",
   "toc_cell": false,
   "toc_position": {
    "height": "calc(100% - 180px)",
    "left": "10px",
    "top": "150px",
    "width": "272px"
   },
   "toc_section_display": true,
   "toc_window_display": true
  }
 },
 "nbformat": 4,
 "nbformat_minor": 1
}
